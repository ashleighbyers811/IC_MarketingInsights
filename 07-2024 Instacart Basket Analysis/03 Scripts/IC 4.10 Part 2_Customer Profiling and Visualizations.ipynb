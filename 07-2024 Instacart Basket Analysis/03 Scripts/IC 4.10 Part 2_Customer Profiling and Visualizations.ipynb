{
 "cells": [
  {
   "cell_type": "markdown",
   "id": "e6c5fc8d-73a2-4907-ae96-b386b8abda24",
   "metadata": {},
   "source": [
    "# IC 4.10 Part 2_Customer Profiling and Visualizations"
   ]
  },
  {
   "cell_type": "markdown",
   "id": "f17bcde4-2ac5-4681-bdd7-d8119aab95a5",
   "metadata": {},
   "source": [
    "# Table of Contents\n",
    "##### 1. Import Libraries and Data\n",
    "##### 2. Create Profiling Variables\n",
    "    2.1 Dependents Group\n",
    "    2.2 Customer Profile Variable\n",
    "##### 3. Visualization for Distribution of Customer Profiles\n",
    "##### 4. Basic Statistics on Customer Profile level for Usage Grequency and Expenditure\n",
    "##### 5. Comparison of Customer Profiles with Regions and Departments\n",
    "    5.1 Customer profiles by region\n",
    "    5.2 Age Groups by Region\n",
    "    5.3 Income Groups by Region\n",
    "    5.4 Dependents Groups by Region\n",
    "##### 6. Top Departments\n",
    "##### 7. Export Charts\n",
    "##### 8. Export Data"
   ]
  },
  {
   "cell_type": "markdown",
   "id": "8bfe7604-c73a-4653-a8d0-0a5b4320fad7",
   "metadata": {},
   "source": [
    "## 1. Import Libraries and Data"
   ]
  },
  {
   "cell_type": "code",
   "execution_count": 2,
   "id": "a545e69f-80a4-4115-a3ce-f352c11b2820",
   "metadata": {},
   "outputs": [],
   "source": [
    "# Import libraries\n",
    "\n",
    "import pandas as pd\n",
    "import numpy as np\n",
    "import os\n",
    "import matplotlib.pyplot as plt\n",
    "from matplotlib.ticker import FuncFormatter\n",
    "import seaborn as sns\n",
    "import scipy"
   ]
  },
  {
   "cell_type": "code",
   "execution_count": 3,
   "id": "a43106c6-0989-4e4a-8f57-934f1d223cbd",
   "metadata": {},
   "outputs": [],
   "source": [
    "# Create path\n",
    "path = r'C:\\Users\\ashle\\Documents\\07-2024 Instacart Basket Analysis'\n",
    "\n",
    "# Import data\n",
    "df_secured_with_exclusion = pd.read_pickle(os.path.join(path, '02 Data', 'Prepared Data', 'secured_with_exclusion.pkl'))\n",
    "departments = pd.read_csv(os.path.join(path, '02 Data', 'Prepared Data', 'departments_wrangled.csv'), index_col = False)"
   ]
  },
  {
   "cell_type": "markdown",
   "id": "099c3fd7-911b-468c-b796-63226cc4601a",
   "metadata": {},
   "source": [
    "## 2. Create Profiling Variables"
   ]
  },
  {
   "cell_type": "markdown",
   "id": "5903b2e9-16cf-46ef-9e34-7942a1e1c63d",
   "metadata": {},
   "source": [
    "Demographic Variables: \n",
    "\n",
    "- Dependents: Has dependents, No dependents\n",
    "- Income Groups: high, middle, low (created in 4.10 IC Part 1.a)\n",
    "- Age Groups: young_adult, adult, older_adult, senior (created in 4.10 IC Part 1.a)\n",
    "- Family Status: single, married, divorced/widowed, living with parents and siblings"
   ]
  },
  {
   "cell_type": "markdown",
   "id": "374f822d-b599-4587-93e2-2b086de82c47",
   "metadata": {},
   "source": [
    "Customer Profiles: \n",
    "- Single with No Dependents\n",
    "- Single with Dependents\n",
    "- Married Adult with No Dependents\n",
    "- Married Adult with Dependents\n",
    "- Divorced/widowed with No Dependents\n",
    "- Divorced/Widowed with Dependents\n",
    "- Living with parents/siblings with No Dependents\n",
    "- Living with parents/siblings with Dependents"
   ]
  },
  {
   "cell_type": "markdown",
   "id": "66b74838-a2c7-42d0-9f06-9e9c8d866ca0",
   "metadata": {},
   "source": [
    "### 2.1 Dependents Group"
   ]
  },
  {
   "cell_type": "code",
   "execution_count": 8,
   "id": "7c85915b-ff5d-4bb2-941c-3f303ae9745e",
   "metadata": {},
   "outputs": [],
   "source": [
    "# Define get_dependents\n",
    "def get_dependents(number_of_dependents):\n",
    "    if number_of_dependents > 0:\n",
    "        return 'Has dependents'\n",
    "    else:\n",
    "        return 'No dependents'\n",
    "\n",
    "# Apply the dependents_flag function\n",
    "df_secured_with_exclusion['dependents_flag'] = df_secured_with_exclusion['number_of_dependents'].apply(get_dependents)"
   ]
  },
  {
   "cell_type": "code",
   "execution_count": 9,
   "id": "970e4a6b-ac37-48a2-9016-73320ed7c92d",
   "metadata": {},
   "outputs": [
    {
     "data": {
      "text/plain": [
       "dependents_flag\n",
       "Has dependents    23224883\n",
       "No dependents      7739681\n",
       "Name: count, dtype: int64"
      ]
     },
     "execution_count": 9,
     "metadata": {},
     "output_type": "execute_result"
    }
   ],
   "source": [
    "df_secured_with_exclusion['dependents_flag'].value_counts()"
   ]
  },
  {
   "cell_type": "markdown",
   "id": "ed6fc82f-92cb-496d-9caa-8526c77e9381",
   "metadata": {},
   "source": [
    "### 2.2 Customer Profile Variable"
   ]
  },
  {
   "cell_type": "code",
   "execution_count": 10,
   "id": "4ce5dffd-63c4-4be4-bd8e-3af350d3d32f",
   "metadata": {},
   "outputs": [],
   "source": [
    "# Define the function to create profiles\n",
    "def create_profile(row):\n",
    "    return f\"{row['family_status']}, {row['dependents_flag']}\"\n",
    "\n",
    "# Apply the function to create a new column 'customer_profile'\n",
    "df_secured_with_exclusion['customer_profile'] = df_secured_with_exclusion.apply(create_profile, axis=1)"
   ]
  },
  {
   "cell_type": "code",
   "execution_count": 11,
   "id": "02f58738-0462-4900-a71b-22e5b621bd68",
   "metadata": {},
   "outputs": [
    {
     "data": {
      "text/html": [
       "<div>\n",
       "<style scoped>\n",
       "    .dataframe tbody tr th:only-of-type {\n",
       "        vertical-align: middle;\n",
       "    }\n",
       "\n",
       "    .dataframe tbody tr th {\n",
       "        vertical-align: top;\n",
       "    }\n",
       "\n",
       "    .dataframe thead th {\n",
       "        text-align: right;\n",
       "    }\n",
       "</style>\n",
       "<table border=\"1\" class=\"dataframe\">\n",
       "  <thead>\n",
       "    <tr style=\"text-align: right;\">\n",
       "      <th></th>\n",
       "      <th>order_id</th>\n",
       "      <th>user_id</th>\n",
       "      <th>order_number</th>\n",
       "      <th>order_day_of_week</th>\n",
       "      <th>order_hour_of_day</th>\n",
       "      <th>days_since_prior_order</th>\n",
       "      <th>first_order</th>\n",
       "      <th>product_id</th>\n",
       "      <th>add_to_cart_order</th>\n",
       "      <th>reordered</th>\n",
       "      <th>...</th>\n",
       "      <th>income_group</th>\n",
       "      <th>age_group</th>\n",
       "      <th>region</th>\n",
       "      <th>activity_level</th>\n",
       "      <th>dependents_flag</th>\n",
       "      <th>alcohol_flag</th>\n",
       "      <th>pets_flag</th>\n",
       "      <th>babies_flag</th>\n",
       "      <th>total_expenditure</th>\n",
       "      <th>customer_profile</th>\n",
       "    </tr>\n",
       "  </thead>\n",
       "  <tbody>\n",
       "    <tr>\n",
       "      <th>0</th>\n",
       "      <td>2539329</td>\n",
       "      <td>1</td>\n",
       "      <td>1</td>\n",
       "      <td>2</td>\n",
       "      <td>8</td>\n",
       "      <td>NaN</td>\n",
       "      <td>True</td>\n",
       "      <td>196</td>\n",
       "      <td>1</td>\n",
       "      <td>0</td>\n",
       "      <td>...</td>\n",
       "      <td>Low income</td>\n",
       "      <td>Adult</td>\n",
       "      <td>South</td>\n",
       "      <td>High-activity customer</td>\n",
       "      <td>Has dependents</td>\n",
       "      <td>0</td>\n",
       "      <td>0</td>\n",
       "      <td>0</td>\n",
       "      <td>375.7</td>\n",
       "      <td>married, Has dependents</td>\n",
       "    </tr>\n",
       "    <tr>\n",
       "      <th>1</th>\n",
       "      <td>2539329</td>\n",
       "      <td>1</td>\n",
       "      <td>1</td>\n",
       "      <td>2</td>\n",
       "      <td>8</td>\n",
       "      <td>NaN</td>\n",
       "      <td>True</td>\n",
       "      <td>14084</td>\n",
       "      <td>2</td>\n",
       "      <td>0</td>\n",
       "      <td>...</td>\n",
       "      <td>Low income</td>\n",
       "      <td>Adult</td>\n",
       "      <td>South</td>\n",
       "      <td>High-activity customer</td>\n",
       "      <td>Has dependents</td>\n",
       "      <td>0</td>\n",
       "      <td>0</td>\n",
       "      <td>0</td>\n",
       "      <td>375.7</td>\n",
       "      <td>married, Has dependents</td>\n",
       "    </tr>\n",
       "    <tr>\n",
       "      <th>2</th>\n",
       "      <td>2539329</td>\n",
       "      <td>1</td>\n",
       "      <td>1</td>\n",
       "      <td>2</td>\n",
       "      <td>8</td>\n",
       "      <td>NaN</td>\n",
       "      <td>True</td>\n",
       "      <td>12427</td>\n",
       "      <td>3</td>\n",
       "      <td>0</td>\n",
       "      <td>...</td>\n",
       "      <td>Low income</td>\n",
       "      <td>Adult</td>\n",
       "      <td>South</td>\n",
       "      <td>High-activity customer</td>\n",
       "      <td>Has dependents</td>\n",
       "      <td>0</td>\n",
       "      <td>0</td>\n",
       "      <td>0</td>\n",
       "      <td>375.7</td>\n",
       "      <td>married, Has dependents</td>\n",
       "    </tr>\n",
       "    <tr>\n",
       "      <th>3</th>\n",
       "      <td>2539329</td>\n",
       "      <td>1</td>\n",
       "      <td>1</td>\n",
       "      <td>2</td>\n",
       "      <td>8</td>\n",
       "      <td>NaN</td>\n",
       "      <td>True</td>\n",
       "      <td>26088</td>\n",
       "      <td>4</td>\n",
       "      <td>0</td>\n",
       "      <td>...</td>\n",
       "      <td>Low income</td>\n",
       "      <td>Adult</td>\n",
       "      <td>South</td>\n",
       "      <td>High-activity customer</td>\n",
       "      <td>Has dependents</td>\n",
       "      <td>0</td>\n",
       "      <td>0</td>\n",
       "      <td>0</td>\n",
       "      <td>375.7</td>\n",
       "      <td>married, Has dependents</td>\n",
       "    </tr>\n",
       "    <tr>\n",
       "      <th>4</th>\n",
       "      <td>2539329</td>\n",
       "      <td>1</td>\n",
       "      <td>1</td>\n",
       "      <td>2</td>\n",
       "      <td>8</td>\n",
       "      <td>NaN</td>\n",
       "      <td>True</td>\n",
       "      <td>26405</td>\n",
       "      <td>5</td>\n",
       "      <td>0</td>\n",
       "      <td>...</td>\n",
       "      <td>Low income</td>\n",
       "      <td>Adult</td>\n",
       "      <td>South</td>\n",
       "      <td>High-activity customer</td>\n",
       "      <td>Has dependents</td>\n",
       "      <td>0</td>\n",
       "      <td>0</td>\n",
       "      <td>0</td>\n",
       "      <td>375.7</td>\n",
       "      <td>married, Has dependents</td>\n",
       "    </tr>\n",
       "  </tbody>\n",
       "</table>\n",
       "<p>5 rows × 39 columns</p>\n",
       "</div>"
      ],
      "text/plain": [
       "   order_id  user_id  order_number  order_day_of_week  order_hour_of_day  \\\n",
       "0   2539329        1             1                  2                  8   \n",
       "1   2539329        1             1                  2                  8   \n",
       "2   2539329        1             1                  2                  8   \n",
       "3   2539329        1             1                  2                  8   \n",
       "4   2539329        1             1                  2                  8   \n",
       "\n",
       "   days_since_prior_order  first_order  product_id  add_to_cart_order  \\\n",
       "0                     NaN         True         196                  1   \n",
       "1                     NaN         True       14084                  2   \n",
       "2                     NaN         True       12427                  3   \n",
       "3                     NaN         True       26088                  4   \n",
       "4                     NaN         True       26405                  5   \n",
       "\n",
       "   reordered  ... income_group  age_group  region          activity_level  \\\n",
       "0          0  ...   Low income      Adult   South  High-activity customer   \n",
       "1          0  ...   Low income      Adult   South  High-activity customer   \n",
       "2          0  ...   Low income      Adult   South  High-activity customer   \n",
       "3          0  ...   Low income      Adult   South  High-activity customer   \n",
       "4          0  ...   Low income      Adult   South  High-activity customer   \n",
       "\n",
       "  dependents_flag alcohol_flag pets_flag babies_flag  total_expenditure  \\\n",
       "0  Has dependents            0         0           0              375.7   \n",
       "1  Has dependents            0         0           0              375.7   \n",
       "2  Has dependents            0         0           0              375.7   \n",
       "3  Has dependents            0         0           0              375.7   \n",
       "4  Has dependents            0         0           0              375.7   \n",
       "\n",
       "          customer_profile  \n",
       "0  married, Has dependents  \n",
       "1  married, Has dependents  \n",
       "2  married, Has dependents  \n",
       "3  married, Has dependents  \n",
       "4  married, Has dependents  \n",
       "\n",
       "[5 rows x 39 columns]"
      ]
     },
     "execution_count": 11,
     "metadata": {},
     "output_type": "execute_result"
    }
   ],
   "source": [
    "df_secured_with_exclusion.head()"
   ]
  },
  {
   "cell_type": "markdown",
   "id": "d69eddbc-52bb-4ea9-b0b8-aca103c147bc",
   "metadata": {},
   "source": [
    "## 3. Visualization for Distribution of Customer Profiles"
   ]
  },
  {
   "cell_type": "code",
   "execution_count": 126,
   "id": "e63f0248-2a4e-46bd-b60b-23150e0f8b5a",
   "metadata": {},
   "outputs": [
    {
     "data": {
      "image/png": "[encoded data removed]",
      "text/plain": [
       "<Figure size 640x480 with 1 Axes>"
      ]
     },
     "metadata": {},
     "output_type": "display_data"
    }
   ],
   "source": [
    "import textwrap\n",
    "\n",
    "# Create chart showing distribution of customers by 'customer_profile'\n",
    "counts = df_secured_with_exclusion['customer_profile'].value_counts()\n",
    "ax = counts.plot.bar()\n",
    "\n",
    "plt.title('Number of Products Purchased by Customer Profile')\n",
    "plt.xlabel(' ')\n",
    "plt.ylabel('Number of Products Purchased')\n",
    "\n",
    "# Format y-axis values\n",
    "def value_formatter(x, pos):\n",
    "    return f'{x:,.0f}'\n",
    "plt.gca().yaxis.set_major_formatter(FuncFormatter(value_formatter))\n",
    "\n",
    "# Wrap text labels\n",
    "labels = [textwrap.fill(label, width=17) for label in counts.index]\n",
    "plt.xticks(ticks=range(len(labels)), labels=labels, rotation=0, ha='center')\n",
    "\n",
    "plt.tight_layout()  # Adjust layout to fit labels\n",
    "\n",
    "bar_customer_profile = plt.gcf()"
   ]
  },
  {
   "cell_type": "code",
   "execution_count": 128,
   "id": "d64b8fd8-2300-4447-a168-335d33bcf7e3",
   "metadata": {},
   "outputs": [],
   "source": [
    "# Export chart\n",
    "bar_customer_profile.savefig(os.path.join(path, '04 Analysis', 'Visualizations', 'bar_customer_profile.png'), dpi=300, bbox_inches='tight')"
   ]
  },
  {
   "cell_type": "markdown",
   "id": "6fad7604-f142-4503-847e-ea8a1b717e42",
   "metadata": {},
   "source": [
    "## 4. Basic Statistics on Customer Profile level for Usage Grequency and Expenditure."
   ]
  },
  {
   "cell_type": "code",
   "execution_count": 13,
   "id": "f870fa57-cfd3-4618-9c89-7090a0127e7a",
   "metadata": {},
   "outputs": [],
   "source": [
    "# Create 'total_expenditure' variable. \n",
    "df_secured_with_exclusion['total_expenditure'] = df_secured_with_exclusion.groupby('user_id')['prices'].transform('sum')"
   ]
  },
  {
   "cell_type": "code",
   "execution_count": 32,
   "id": "d5e75e06-8cb8-4629-8349-e8d0655b71c9",
   "metadata": {},
   "outputs": [
    {
     "name": "stdout",
     "output_type": "stream",
     "text": [
      "                                   customer_profile  Max Order (Max)  \\\n",
      "0                   divorced/widowed, No dependents               99   \n",
      "1  living with parents and siblings, Has dependents               99   \n",
      "2                           married, Has dependents               99   \n",
      "3                             single, No dependents               99   \n",
      "\n",
      "   Max Order (Mean)  Max Order (Min)  \n",
      "0         34.710676                5  \n",
      "1         34.853070                5  \n",
      "2         34.307533                5  \n",
      "3         34.657749                5  \n"
     ]
    }
   ],
   "source": [
    "# Group by 'customer_profile' and aggregate 'max_order'\n",
    "usage_stats = df_secured_with_exclusion.groupby('customer_profile').agg({\n",
    "    'max_order': ['max', 'mean', 'min']\n",
    "}).reset_index()\n",
    "\n",
    "# Flatten MultiIndex columns\n",
    "usage_stats.columns = ['customer_profile', 'Max Order (Max)', 'Max Order (Mean)', 'Max Order (Min)']\n",
    "\n",
    "print(usage_stats)"
   ]
  },
  {
   "cell_type": "code",
   "execution_count": 36,
   "id": "62eadada-fa8b-4a07-9926-e4efc63abed0",
   "metadata": {},
   "outputs": [],
   "source": [
    "usage_stats.to_clipboard()"
   ]
  },
  {
   "cell_type": "code",
   "execution_count": 38,
   "id": "91fbe549-4147-409f-885a-bf0640c5b0b2",
   "metadata": {},
   "outputs": [
    {
     "name": "stdout",
     "output_type": "stream",
     "text": [
      "                                   customer_profile  Total Expenditure (Max)  \\\n",
      "0                   divorced/widowed, No dependents                  24307.1   \n",
      "1  living with parents and siblings, Has dependents                  16048.1   \n",
      "2                           married, Has dependents                  26394.9   \n",
      "3                             single, No dependents                  20315.1   \n",
      "\n",
      "   Total Expenditure (Mean)  Total Expenditure (Min)  \n",
      "0               3461.330920                     15.7  \n",
      "1               3459.618715                     14.4  \n",
      "2               3412.050028                      6.8  \n",
      "3               3410.806081                      5.0  \n"
     ]
    }
   ],
   "source": [
    "# Group by 'customer_profile' and aggregate 'total_expenditure'\n",
    "expenditure_stats = df_secured_with_exclusion.groupby('customer_profile').agg({\n",
    "    'total_expenditure': ['max', 'mean', 'min']\n",
    "}).reset_index()\n",
    "\n",
    "# Flatten MultiIndex columns\n",
    "expenditure_stats.columns = ['customer_profile', 'Total Expenditure (Max)', 'Total Expenditure (Mean)', 'Total Expenditure (Min)']\n",
    "\n",
    "print(expenditure_stats)"
   ]
  },
  {
   "cell_type": "code",
   "execution_count": 40,
   "id": "75200936-6de3-41cc-b6b4-4b4dcfc04cc3",
   "metadata": {},
   "outputs": [],
   "source": [
    "expenditure_stats.to_clipboard()"
   ]
  },
  {
   "cell_type": "markdown",
   "id": "2742ce7a-3df0-4d3a-a2ed-3cb454d21ac8",
   "metadata": {},
   "source": [
    "## 5. Comparison of Customer Profiles with Regions and Departments"
   ]
  },
  {
   "cell_type": "markdown",
   "id": "fdba5fa5-8400-4939-8b83-67532773eced",
   "metadata": {},
   "source": [
    "### 5.1 Customer profiles by region"
   ]
  },
  {
   "cell_type": "code",
   "execution_count": 106,
   "id": "5058f882-e50a-46b6-bcd1-401a35502068",
   "metadata": {},
   "outputs": [],
   "source": [
    "# Group by 'region' and 'customer_profile' and count occurrences\n",
    "customer_profile_counts = df_secured_with_exclusion.groupby(['region', 'customer_profile']).size().unstack(fill_value=0)"
   ]
  },
  {
   "cell_type": "code",
   "execution_count": 107,
   "id": "8039fe8a-e122-4009-91ff-ebfb1046a2ae",
   "metadata": {},
   "outputs": [
    {
     "data": {
      "text/html": [
       "<div>\n",
       "<style scoped>\n",
       "    .dataframe tbody tr th:only-of-type {\n",
       "        vertical-align: middle;\n",
       "    }\n",
       "\n",
       "    .dataframe tbody tr th {\n",
       "        vertical-align: top;\n",
       "    }\n",
       "\n",
       "    .dataframe thead th {\n",
       "        text-align: right;\n",
       "    }\n",
       "</style>\n",
       "<table border=\"1\" class=\"dataframe\">\n",
       "  <thead>\n",
       "    <tr style=\"text-align: right;\">\n",
       "      <th>customer_profile</th>\n",
       "      <th>divorced/widowed, No dependents</th>\n",
       "      <th>living with parents and siblings, Has dependents</th>\n",
       "      <th>married, Has dependents</th>\n",
       "      <th>single, No dependents</th>\n",
       "    </tr>\n",
       "    <tr>\n",
       "      <th>region</th>\n",
       "      <th></th>\n",
       "      <th></th>\n",
       "      <th></th>\n",
       "      <th></th>\n",
       "    </tr>\n",
       "  </thead>\n",
       "  <tbody>\n",
       "    <tr>\n",
       "      <th>Midwest</th>\n",
       "      <td>617198</td>\n",
       "      <td>351435</td>\n",
       "      <td>5087262</td>\n",
       "      <td>1205618</td>\n",
       "    </tr>\n",
       "    <tr>\n",
       "      <th>Northeast</th>\n",
       "      <td>478767</td>\n",
       "      <td>256430</td>\n",
       "      <td>3853773</td>\n",
       "      <td>875715</td>\n",
       "    </tr>\n",
       "    <tr>\n",
       "      <th>South</th>\n",
       "      <td>877314</td>\n",
       "      <td>505457</td>\n",
       "      <td>7223749</td>\n",
       "      <td>1704619</td>\n",
       "    </tr>\n",
       "    <tr>\n",
       "      <th>West</th>\n",
       "      <td>671992</td>\n",
       "      <td>367850</td>\n",
       "      <td>5578927</td>\n",
       "      <td>1308458</td>\n",
       "    </tr>\n",
       "  </tbody>\n",
       "</table>\n",
       "</div>"
      ],
      "text/plain": [
       "customer_profile  divorced/widowed, No dependents  \\\n",
       "region                                              \n",
       "Midwest                                    617198   \n",
       "Northeast                                  478767   \n",
       "South                                      877314   \n",
       "West                                       671992   \n",
       "\n",
       "customer_profile  living with parents and siblings, Has dependents  \\\n",
       "region                                                               \n",
       "Midwest                                                     351435   \n",
       "Northeast                                                   256430   \n",
       "South                                                       505457   \n",
       "West                                                        367850   \n",
       "\n",
       "customer_profile  married, Has dependents  single, No dependents  \n",
       "region                                                            \n",
       "Midwest                           5087262                1205618  \n",
       "Northeast                         3853773                 875715  \n",
       "South                             7223749                1704619  \n",
       "West                              5578927                1308458  "
      ]
     },
     "execution_count": 107,
     "metadata": {},
     "output_type": "execute_result"
    }
   ],
   "source": [
    "customer_profile_counts"
   ]
  },
  {
   "cell_type": "code",
   "execution_count": 124,
   "id": "82e1cbba-9f47-4b25-8aa6-cc0de56edffa",
   "metadata": {},
   "outputs": [
    {
     "data": {
      "image/png": "[encoded data removed]",
      "text/plain": [
       "<Figure size 1400x800 with 1 Axes>"
      ]
     },
     "metadata": {},
     "output_type": "display_data"
    }
   ],
   "source": [
    "# Group by 'region' and 'customer_profile' and count occurrences\n",
    "customer_profile_counts = df_secured_with_exclusion.groupby(['region', 'customer_profile']).size().unstack(fill_value=0)\n",
    "\n",
    "# Define the order of regions and customer profiles for consistent plotting\n",
    "regions = ['West', 'Midwest', 'South', 'Northeast']\n",
    "customer_profiles = ['single, No dependents', 'married, Has dependents', 'divorced/widowed, No dependents', 'living with parents and siblings, Has dependents']\n",
    "\n",
    "# Ensure customer_profile_counts has all regions and customer profiles\n",
    "customer_profile_counts = customer_profile_counts.reindex(index=regions, columns=customer_profiles, fill_value=0)\n",
    "\n",
    "# Setting the positions and width for the bars\n",
    "bar_width = 0.15\n",
    "r1 = np.arange(len(regions))\n",
    "r2 = [x + bar_width for x in r1]\n",
    "r3 = [x + bar_width for x in r2]\n",
    "r4 = [x + bar_width for x in r3]\n",
    "\n",
    "# Plotting\n",
    "plt.figure(figsize=(14, 8))\n",
    "\n",
    "plt.bar(r1, customer_profile_counts['single, No dependents'], width=bar_width, edgecolor='black', label='Single, No Dependents', zorder=3)\n",
    "plt.bar(r2, customer_profile_counts['married, Has dependents'], width=bar_width, edgecolor='black', label='Married, Has Dependents', zorder=3)\n",
    "plt.bar(r3, customer_profile_counts['divorced/widowed, No dependents'], width=bar_width, edgecolor='black', label='Divorced/Widowed, No Dependents', zorder=3)\n",
    "plt.bar(r4, customer_profile_counts['living with parents and siblings, Has dependents'], width=bar_width, edgecolor='black', label='Living with Parents/Siblings, Has Dependents', zorder=3)\n",
    "\n",
    "# Adding labels\n",
    "plt.xlabel('Region')\n",
    "plt.ylabel('Number of Products Sold')\n",
    "plt.title('Number of Products Sold for each Customer Profile by Region')\n",
    "plt.xticks([r + 1.5 * bar_width for r in range(len(regions))], regions)\n",
    "\n",
    "# Custom y-axis formatting\n",
    "def value_formatter(x, pos):\n",
    "    return f'{x:,.0f}'\n",
    "plt.gca().yaxis.set_major_formatter(FuncFormatter(value_formatter))\n",
    "\n",
    "plt.legend()\n",
    "plt.tight_layout()\n",
    "\n",
    "customer_profile_region = plt.gcf()"
   ]
  },
  {
   "cell_type": "code",
   "execution_count": 92,
   "id": "bcb28f94-87b0-4fac-94d4-c431f2c9cdbc",
   "metadata": {},
   "outputs": [
    {
     "data": {
      "text/plain": [
       "customer_profile\n",
       "married, Has dependents                             21743711\n",
       "single, No dependents                                5094410\n",
       "divorced/widowed, No dependents                      2645271\n",
       "living with parents and siblings, Has dependents     1481172\n",
       "Name: count, dtype: int64"
      ]
     },
     "execution_count": 92,
     "metadata": {},
     "output_type": "execute_result"
    }
   ],
   "source": [
    "df_secured_with_exclusion['customer_profile'].value_counts()"
   ]
  },
  {
   "cell_type": "markdown",
   "id": "46f9f470-1c7b-41e1-9f2e-2e0bbbe91212",
   "metadata": {},
   "source": [
    "### 5.2 Age Groups by Region"
   ]
  },
  {
   "cell_type": "code",
   "execution_count": 42,
   "id": "55acdbe2-c344-4777-a15b-fc2e15ffdb20",
   "metadata": {},
   "outputs": [
    {
     "data": {
      "image/png": "[encoded data removed]",
      "text/plain": [
       "<Figure size 800x600 with 1 Axes>"
      ]
     },
     "metadata": {},
     "output_type": "display_data"
    }
   ],
   "source": [
    "# Create a DataFrame age_group_counts that contains the counts of each age group for each region.\n",
    "age_group_counts = df_secured_with_exclusion.groupby(['region', 'age_group']).size().unstack(fill_value=0)\n",
    "\n",
    "regions = ['West', 'Midwest', 'South', 'Northeast']\n",
    "age_groups = ['Young adult', 'Adult', 'Older adult', 'Senior']\n",
    "\n",
    "# Ensure age_group_counts has all regions and age_groups\n",
    "age_group_counts = age_group_counts.reindex(regions, axis=0).reindex(age_groups, axis=1, fill_value=0)\n",
    "\n",
    "# Setting the positions and width for the bars\n",
    "bar_width = 0.15\n",
    "r1 = np.arange(len(regions))\n",
    "r2 = [x + bar_width for x in r1]\n",
    "r3 = [x + bar_width for x in r2]\n",
    "r4 = [x + bar_width for x in r3]\n",
    "\n",
    "# Plotting\n",
    "plt.figure(figsize=(8, 6))\n",
    "\n",
    "y_ticks = np.arange(0, 20000, 2500)\n",
    "for y in y_ticks:\n",
    "    plt.axhline(y=y, color='grey', linestyle='--', linewidth=0.5, zorder=0)\n",
    "\n",
    "plt.bar(r1, age_group_counts['Young adult'], width=bar_width, edgecolor='black', label='Young adult', zorder=3)\n",
    "plt.bar(r2, age_group_counts['Adult'], width=bar_width, edgecolor='black', label='Adult', zorder=3)\n",
    "plt.bar(r3, age_group_counts['Older adult'], width=bar_width, edgecolor='black', label='Older adult', zorder=3)\n",
    "plt.bar(r4, age_group_counts['Senior'], width=bar_width, edgecolor='black', label='Senior', zorder=3)\n",
    "\n",
    "# Adding labels\n",
    "plt.xlabel('Region')\n",
    "plt.ylabel('Number of Customers')\n",
    "plt.title('Distribution of Customers Age Groups by Region')\n",
    "plt.xticks([r + 1.5 * bar_width for r in range(len(regions))], regions)\n",
    "\n",
    "plt.legend()\n",
    "plt.tight_layout()\n",
    "\n",
    "age_groups_by_region = plt.gcf()\n",
    "\n",
    "# Display the plot\n",
    "plt.show()"
   ]
  },
  {
   "cell_type": "markdown",
   "id": "09b9828d-229e-4be0-9ff9-a915228876bf",
   "metadata": {},
   "source": [
    "### 5.3 Income Groups by Region"
   ]
  },
  {
   "cell_type": "code",
   "execution_count": 44,
   "id": "3c91e761-2a80-4486-ade6-0512b538c9b3",
   "metadata": {},
   "outputs": [
    {
     "data": {
      "image/png": "[encoded data removed]",
      "text/plain": [
       "<Figure size 1000x600 with 1 Axes>"
      ]
     },
     "metadata": {},
     "output_type": "display_data"
    }
   ],
   "source": [
    "# Create a DataFrame income_group_counts that contains the counts of each income group for each region.\n",
    "income_group_counts = df_secured_with_exclusion.groupby(['region', 'income_group']).size().unstack(fill_value=0)\n",
    "\n",
    "regions = ['West', 'Midwest', 'South', 'Northeast']\n",
    "income_groups = ['Low income', 'Middle income', 'High income']\n",
    "\n",
    "# Ensure income_group_counts has all regions and income_groups\n",
    "income_group_counts = income_group_counts.reindex(regions, axis=0).reindex(income_groups, axis=1, fill_value=0)\n",
    "\n",
    "# Setting the positions and width for the bars\n",
    "bar_width = 0.15\n",
    "r1 = np.arange(len(regions))\n",
    "r2 = [x + bar_width for x in r1]\n",
    "r3 = [x + bar_width for x in r2]\n",
    "\n",
    "# Plotting\n",
    "plt.figure(figsize=(10, 6))\n",
    "\n",
    "y_ticks = np.arange(0, 25000, 5000)\n",
    "for y in y_ticks:\n",
    "    plt.axhline(y=y, color='grey', linestyle='--', linewidth=0.5, zorder=0)\n",
    "    \n",
    "plt.bar(r1, income_group_counts['Low income'], width=bar_width, edgecolor='black', label='Low income', zorder=3)\n",
    "plt.bar(r2, income_group_counts['Middle income'], width=bar_width, edgecolor='black', label='Middle income', zorder=3)\n",
    "plt.bar(r3, income_group_counts['High income'], width=bar_width, edgecolor='black', label='High income', zorder=3)\n",
    "\n",
    "# Adding labels\n",
    "plt.xlabel('Region')\n",
    "plt.ylabel('Number of Customers')\n",
    "plt.title('Distribution of Customers Income Groups by Region')\n",
    "plt.xticks([r + bar_width for r in range(len(regions))], regions)\n",
    "\n",
    "plt.legend()\n",
    "plt.tight_layout()\n",
    "\n",
    "income_group_by_region = plt.gcf()\n",
    "\n",
    "# Display the plot\n",
    "plt.show()"
   ]
  },
  {
   "cell_type": "markdown",
   "id": "cc134093-fde9-4e53-8288-9259cfe3a674",
   "metadata": {},
   "source": [
    "### 5.4 Dependents Groups by Region"
   ]
  },
  {
   "cell_type": "code",
   "execution_count": 48,
   "id": "6af0830e-51ff-4d71-92ed-eb1c19910911",
   "metadata": {},
   "outputs": [
    {
     "data": {
      "image/png": "[encoded data removed]",
      "text/plain": [
       "<Figure size 1000x600 with 1 Axes>"
      ]
     },
     "metadata": {},
     "output_type": "display_data"
    }
   ],
   "source": [
    "# Create a DataFrame income_group_counts that contains the counts of each dependents group for each region.\n",
    "dependents_group_counts = df_secured_with_exclusion.groupby(['region', 'dependents_flag']).size().unstack(fill_value=0)\n",
    "\n",
    "regions = ['West', 'Midwest', 'South', 'Northeast']\n",
    "dependents_groups = ['Has dependents', 'No dependents']\n",
    "\n",
    "# Ensure dependents_group_counts has all regions and dependents_groups\n",
    "dependents_group_counts = dependents_group_counts.reindex(regions, axis=0).reindex(dependents_groups, axis=1, fill_value=0)\n",
    "\n",
    "# Setting the positions and width for the bars\n",
    "bar_width = 0.3\n",
    "r1 = np.arange(len(regions))\n",
    "r2 = [x + bar_width for x in r1]\n",
    "r3 = [x + bar_width for x in r2]\n",
    "\n",
    "# Plotting\n",
    "plt.figure(figsize=(10, 6))\n",
    "\n",
    "y_ticks = np.arange(0, 45000, 5000)\n",
    "for y in y_ticks:\n",
    "    plt.axhline(y=y, color='grey', linestyle='--', linewidth=0.5, zorder=0)\n",
    "\n",
    "plt.bar(r1, dependents_group_counts['Has dependents'], width=bar_width, edgecolor='black', label='Has dependents', zorder=3)\n",
    "plt.bar(r2, dependents_group_counts['No dependents'], width=bar_width, edgecolor='black', label='No dependents', zorder=3)\n",
    "\n",
    "# Adding labels\n",
    "plt.xlabel('Region')\n",
    "plt.ylabel('Number of Customers')\n",
    "plt.title('Distribution of whether Customer has Dependents by Region')\n",
    "plt.xticks([r + bar_width for r in range(len(regions))], regions)\n",
    "\n",
    "plt.legend(loc='upper right')\n",
    "plt.tight_layout()\n",
    "\n",
    "dependents_by_region = plt.gcf()\n",
    "\n",
    "# Display the plot\n",
    "plt.show()"
   ]
  },
  {
   "cell_type": "markdown",
   "id": "40b15ba3-fe8c-4f8b-921b-f482bfb352e8",
   "metadata": {},
   "source": [
    "## 6. Top Departments"
   ]
  },
  {
   "cell_type": "code",
   "execution_count": 50,
   "id": "364b3901-4af3-43e2-ac6f-b3bc6261c75b",
   "metadata": {},
   "outputs": [],
   "source": [
    "# Count the number of products sold for each department\n",
    "department_sales = df_secured_with_exclusion.groupby('department_id')['product_id'].count()\n",
    "\n",
    "# Sort the departments by the number of products sold in descending order\n",
    "department_sales_sorted = department_sales.sort_values(ascending = False)\n",
    "\n",
    "# Limit to the top 10 departments\n",
    "top_10_departments = department_sales_sorted.head(10)"
   ]
  },
  {
   "cell_type": "code",
   "execution_count": 52,
   "id": "54070f17-8c41-413b-b9e4-36d37c83a879",
   "metadata": {},
   "outputs": [
    {
     "data": {
      "text/plain": [
       "department_id\n",
       "4     9079273\n",
       "16    5177182\n",
       "19    2766406\n",
       "7     2571901\n",
       "1     2121731\n",
       "13    1782705\n",
       "3     1120828\n",
       "15    1012074\n",
       "20    1003834\n",
       "9      822136\n",
       "Name: product_id, dtype: int64"
      ]
     },
     "execution_count": 52,
     "metadata": {},
     "output_type": "execute_result"
    }
   ],
   "source": [
    "top_10_departments"
   ]
  },
  {
   "cell_type": "code",
   "execution_count": 54,
   "id": "0b0daa4d-bef2-4be1-bdf0-acdd585a1d5b",
   "metadata": {},
   "outputs": [],
   "source": [
    "# Convert series to a dataframe\n",
    "top_10_departments = top_10_departments.to_frame().reset_index()"
   ]
  },
  {
   "cell_type": "code",
   "execution_count": 56,
   "id": "ff78c508-43f4-422c-a42a-5e36747725b0",
   "metadata": {},
   "outputs": [
    {
     "data": {
      "text/html": [
       "<div>\n",
       "<style scoped>\n",
       "    .dataframe tbody tr th:only-of-type {\n",
       "        vertical-align: middle;\n",
       "    }\n",
       "\n",
       "    .dataframe tbody tr th {\n",
       "        vertical-align: top;\n",
       "    }\n",
       "\n",
       "    .dataframe thead th {\n",
       "        text-align: right;\n",
       "    }\n",
       "</style>\n",
       "<table border=\"1\" class=\"dataframe\">\n",
       "  <thead>\n",
       "    <tr style=\"text-align: right;\">\n",
       "      <th></th>\n",
       "      <th>department_id</th>\n",
       "      <th>product_id</th>\n",
       "    </tr>\n",
       "  </thead>\n",
       "  <tbody>\n",
       "    <tr>\n",
       "      <th>0</th>\n",
       "      <td>4</td>\n",
       "      <td>9079273</td>\n",
       "    </tr>\n",
       "    <tr>\n",
       "      <th>1</th>\n",
       "      <td>16</td>\n",
       "      <td>5177182</td>\n",
       "    </tr>\n",
       "    <tr>\n",
       "      <th>2</th>\n",
       "      <td>19</td>\n",
       "      <td>2766406</td>\n",
       "    </tr>\n",
       "    <tr>\n",
       "      <th>3</th>\n",
       "      <td>7</td>\n",
       "      <td>2571901</td>\n",
       "    </tr>\n",
       "    <tr>\n",
       "      <th>4</th>\n",
       "      <td>1</td>\n",
       "      <td>2121731</td>\n",
       "    </tr>\n",
       "    <tr>\n",
       "      <th>5</th>\n",
       "      <td>13</td>\n",
       "      <td>1782705</td>\n",
       "    </tr>\n",
       "    <tr>\n",
       "      <th>6</th>\n",
       "      <td>3</td>\n",
       "      <td>1120828</td>\n",
       "    </tr>\n",
       "    <tr>\n",
       "      <th>7</th>\n",
       "      <td>15</td>\n",
       "      <td>1012074</td>\n",
       "    </tr>\n",
       "    <tr>\n",
       "      <th>8</th>\n",
       "      <td>20</td>\n",
       "      <td>1003834</td>\n",
       "    </tr>\n",
       "    <tr>\n",
       "      <th>9</th>\n",
       "      <td>9</td>\n",
       "      <td>822136</td>\n",
       "    </tr>\n",
       "  </tbody>\n",
       "</table>\n",
       "</div>"
      ],
      "text/plain": [
       "   department_id  product_id\n",
       "0              4     9079273\n",
       "1             16     5177182\n",
       "2             19     2766406\n",
       "3              7     2571901\n",
       "4              1     2121731\n",
       "5             13     1782705\n",
       "6              3     1120828\n",
       "7             15     1012074\n",
       "8             20     1003834\n",
       "9              9      822136"
      ]
     },
     "execution_count": 56,
     "metadata": {},
     "output_type": "execute_result"
    }
   ],
   "source": [
    "top_10_departments"
   ]
  },
  {
   "cell_type": "code",
   "execution_count": 58,
   "id": "0728d66b-6735-4568-9d1e-1cedd1cd467e",
   "metadata": {},
   "outputs": [],
   "source": [
    "top_10_departments.rename(columns = {'product_id' : 'number_of_products_sold'}, inplace = True)"
   ]
  },
  {
   "cell_type": "code",
   "execution_count": 60,
   "id": "c2b61ff3-78da-408d-9a72-7ee0f117bddf",
   "metadata": {},
   "outputs": [
    {
     "data": {
      "text/html": [
       "<div>\n",
       "<style scoped>\n",
       "    .dataframe tbody tr th:only-of-type {\n",
       "        vertical-align: middle;\n",
       "    }\n",
       "\n",
       "    .dataframe tbody tr th {\n",
       "        vertical-align: top;\n",
       "    }\n",
       "\n",
       "    .dataframe thead th {\n",
       "        text-align: right;\n",
       "    }\n",
       "</style>\n",
       "<table border=\"1\" class=\"dataframe\">\n",
       "  <thead>\n",
       "    <tr style=\"text-align: right;\">\n",
       "      <th></th>\n",
       "      <th>department_id</th>\n",
       "      <th>number_of_products_sold</th>\n",
       "    </tr>\n",
       "  </thead>\n",
       "  <tbody>\n",
       "    <tr>\n",
       "      <th>0</th>\n",
       "      <td>4</td>\n",
       "      <td>9079273</td>\n",
       "    </tr>\n",
       "    <tr>\n",
       "      <th>1</th>\n",
       "      <td>16</td>\n",
       "      <td>5177182</td>\n",
       "    </tr>\n",
       "    <tr>\n",
       "      <th>2</th>\n",
       "      <td>19</td>\n",
       "      <td>2766406</td>\n",
       "    </tr>\n",
       "    <tr>\n",
       "      <th>3</th>\n",
       "      <td>7</td>\n",
       "      <td>2571901</td>\n",
       "    </tr>\n",
       "    <tr>\n",
       "      <th>4</th>\n",
       "      <td>1</td>\n",
       "      <td>2121731</td>\n",
       "    </tr>\n",
       "    <tr>\n",
       "      <th>5</th>\n",
       "      <td>13</td>\n",
       "      <td>1782705</td>\n",
       "    </tr>\n",
       "    <tr>\n",
       "      <th>6</th>\n",
       "      <td>3</td>\n",
       "      <td>1120828</td>\n",
       "    </tr>\n",
       "    <tr>\n",
       "      <th>7</th>\n",
       "      <td>15</td>\n",
       "      <td>1012074</td>\n",
       "    </tr>\n",
       "    <tr>\n",
       "      <th>8</th>\n",
       "      <td>20</td>\n",
       "      <td>1003834</td>\n",
       "    </tr>\n",
       "    <tr>\n",
       "      <th>9</th>\n",
       "      <td>9</td>\n",
       "      <td>822136</td>\n",
       "    </tr>\n",
       "  </tbody>\n",
       "</table>\n",
       "</div>"
      ],
      "text/plain": [
       "   department_id  number_of_products_sold\n",
       "0              4                  9079273\n",
       "1             16                  5177182\n",
       "2             19                  2766406\n",
       "3              7                  2571901\n",
       "4              1                  2121731\n",
       "5             13                  1782705\n",
       "6              3                  1120828\n",
       "7             15                  1012074\n",
       "8             20                  1003834\n",
       "9              9                   822136"
      ]
     },
     "execution_count": 60,
     "metadata": {},
     "output_type": "execute_result"
    }
   ],
   "source": [
    "top_10_departments"
   ]
  },
  {
   "cell_type": "code",
   "execution_count": 62,
   "id": "3401ae82-24c9-44bc-ba1b-031fe1e98233",
   "metadata": {},
   "outputs": [],
   "source": [
    "departments.rename(columns={'Unnamed: 0' : 'department_id'}, inplace=True)"
   ]
  },
  {
   "cell_type": "code",
   "execution_count": 64,
   "id": "84e9520e-2aac-47aa-9222-464cb0051f4f",
   "metadata": {},
   "outputs": [
    {
     "data": {
      "text/html": [
       "<div>\n",
       "<style scoped>\n",
       "    .dataframe tbody tr th:only-of-type {\n",
       "        vertical-align: middle;\n",
       "    }\n",
       "\n",
       "    .dataframe tbody tr th {\n",
       "        vertical-align: top;\n",
       "    }\n",
       "\n",
       "    .dataframe thead th {\n",
       "        text-align: right;\n",
       "    }\n",
       "</style>\n",
       "<table border=\"1\" class=\"dataframe\">\n",
       "  <thead>\n",
       "    <tr style=\"text-align: right;\">\n",
       "      <th></th>\n",
       "      <th>department_id</th>\n",
       "      <th>department</th>\n",
       "    </tr>\n",
       "  </thead>\n",
       "  <tbody>\n",
       "    <tr>\n",
       "      <th>0</th>\n",
       "      <td>1</td>\n",
       "      <td>frozen</td>\n",
       "    </tr>\n",
       "    <tr>\n",
       "      <th>1</th>\n",
       "      <td>2</td>\n",
       "      <td>other</td>\n",
       "    </tr>\n",
       "    <tr>\n",
       "      <th>2</th>\n",
       "      <td>3</td>\n",
       "      <td>bakery</td>\n",
       "    </tr>\n",
       "    <tr>\n",
       "      <th>3</th>\n",
       "      <td>4</td>\n",
       "      <td>produce</td>\n",
       "    </tr>\n",
       "    <tr>\n",
       "      <th>4</th>\n",
       "      <td>5</td>\n",
       "      <td>alcohol</td>\n",
       "    </tr>\n",
       "    <tr>\n",
       "      <th>5</th>\n",
       "      <td>6</td>\n",
       "      <td>international</td>\n",
       "    </tr>\n",
       "    <tr>\n",
       "      <th>6</th>\n",
       "      <td>7</td>\n",
       "      <td>beverages</td>\n",
       "    </tr>\n",
       "    <tr>\n",
       "      <th>7</th>\n",
       "      <td>8</td>\n",
       "      <td>pets</td>\n",
       "    </tr>\n",
       "    <tr>\n",
       "      <th>8</th>\n",
       "      <td>9</td>\n",
       "      <td>dry goods pasta</td>\n",
       "    </tr>\n",
       "    <tr>\n",
       "      <th>9</th>\n",
       "      <td>10</td>\n",
       "      <td>bulk</td>\n",
       "    </tr>\n",
       "    <tr>\n",
       "      <th>10</th>\n",
       "      <td>11</td>\n",
       "      <td>personal care</td>\n",
       "    </tr>\n",
       "    <tr>\n",
       "      <th>11</th>\n",
       "      <td>12</td>\n",
       "      <td>meat seafood</td>\n",
       "    </tr>\n",
       "    <tr>\n",
       "      <th>12</th>\n",
       "      <td>13</td>\n",
       "      <td>pantry</td>\n",
       "    </tr>\n",
       "    <tr>\n",
       "      <th>13</th>\n",
       "      <td>14</td>\n",
       "      <td>breakfast</td>\n",
       "    </tr>\n",
       "    <tr>\n",
       "      <th>14</th>\n",
       "      <td>15</td>\n",
       "      <td>canned goods</td>\n",
       "    </tr>\n",
       "    <tr>\n",
       "      <th>15</th>\n",
       "      <td>16</td>\n",
       "      <td>dairy eggs</td>\n",
       "    </tr>\n",
       "    <tr>\n",
       "      <th>16</th>\n",
       "      <td>17</td>\n",
       "      <td>household</td>\n",
       "    </tr>\n",
       "    <tr>\n",
       "      <th>17</th>\n",
       "      <td>18</td>\n",
       "      <td>babies</td>\n",
       "    </tr>\n",
       "    <tr>\n",
       "      <th>18</th>\n",
       "      <td>19</td>\n",
       "      <td>snacks</td>\n",
       "    </tr>\n",
       "    <tr>\n",
       "      <th>19</th>\n",
       "      <td>20</td>\n",
       "      <td>deli</td>\n",
       "    </tr>\n",
       "    <tr>\n",
       "      <th>20</th>\n",
       "      <td>21</td>\n",
       "      <td>missing</td>\n",
       "    </tr>\n",
       "  </tbody>\n",
       "</table>\n",
       "</div>"
      ],
      "text/plain": [
       "    department_id       department\n",
       "0               1           frozen\n",
       "1               2            other\n",
       "2               3           bakery\n",
       "3               4          produce\n",
       "4               5          alcohol\n",
       "5               6    international\n",
       "6               7        beverages\n",
       "7               8             pets\n",
       "8               9  dry goods pasta\n",
       "9              10             bulk\n",
       "10             11    personal care\n",
       "11             12     meat seafood\n",
       "12             13           pantry\n",
       "13             14        breakfast\n",
       "14             15     canned goods\n",
       "15             16       dairy eggs\n",
       "16             17        household\n",
       "17             18           babies\n",
       "18             19           snacks\n",
       "19             20             deli\n",
       "20             21          missing"
      ]
     },
     "execution_count": 64,
     "metadata": {},
     "output_type": "execute_result"
    }
   ],
   "source": [
    "departments"
   ]
  },
  {
   "cell_type": "code",
   "execution_count": 66,
   "id": "2f4eb0dd-7d45-45c0-9b27-186316ec1f2e",
   "metadata": {},
   "outputs": [],
   "source": [
    "top_10_departments_merged = top_10_departments.merge(departments, on = 'department_id', how = 'left')"
   ]
  },
  {
   "cell_type": "code",
   "execution_count": 68,
   "id": "0c27f21b-d2ed-449c-ad24-3d11c310a8d7",
   "metadata": {},
   "outputs": [
    {
     "data": {
      "text/html": [
       "<div>\n",
       "<style scoped>\n",
       "    .dataframe tbody tr th:only-of-type {\n",
       "        vertical-align: middle;\n",
       "    }\n",
       "\n",
       "    .dataframe tbody tr th {\n",
       "        vertical-align: top;\n",
       "    }\n",
       "\n",
       "    .dataframe thead th {\n",
       "        text-align: right;\n",
       "    }\n",
       "</style>\n",
       "<table border=\"1\" class=\"dataframe\">\n",
       "  <thead>\n",
       "    <tr style=\"text-align: right;\">\n",
       "      <th></th>\n",
       "      <th>department_id</th>\n",
       "      <th>number_of_products_sold</th>\n",
       "      <th>department</th>\n",
       "    </tr>\n",
       "  </thead>\n",
       "  <tbody>\n",
       "    <tr>\n",
       "      <th>0</th>\n",
       "      <td>4</td>\n",
       "      <td>9079273</td>\n",
       "      <td>produce</td>\n",
       "    </tr>\n",
       "    <tr>\n",
       "      <th>1</th>\n",
       "      <td>16</td>\n",
       "      <td>5177182</td>\n",
       "      <td>dairy eggs</td>\n",
       "    </tr>\n",
       "    <tr>\n",
       "      <th>2</th>\n",
       "      <td>19</td>\n",
       "      <td>2766406</td>\n",
       "      <td>snacks</td>\n",
       "    </tr>\n",
       "    <tr>\n",
       "      <th>3</th>\n",
       "      <td>7</td>\n",
       "      <td>2571901</td>\n",
       "      <td>beverages</td>\n",
       "    </tr>\n",
       "    <tr>\n",
       "      <th>4</th>\n",
       "      <td>1</td>\n",
       "      <td>2121731</td>\n",
       "      <td>frozen</td>\n",
       "    </tr>\n",
       "    <tr>\n",
       "      <th>5</th>\n",
       "      <td>13</td>\n",
       "      <td>1782705</td>\n",
       "      <td>pantry</td>\n",
       "    </tr>\n",
       "    <tr>\n",
       "      <th>6</th>\n",
       "      <td>3</td>\n",
       "      <td>1120828</td>\n",
       "      <td>bakery</td>\n",
       "    </tr>\n",
       "    <tr>\n",
       "      <th>7</th>\n",
       "      <td>15</td>\n",
       "      <td>1012074</td>\n",
       "      <td>canned goods</td>\n",
       "    </tr>\n",
       "    <tr>\n",
       "      <th>8</th>\n",
       "      <td>20</td>\n",
       "      <td>1003834</td>\n",
       "      <td>deli</td>\n",
       "    </tr>\n",
       "    <tr>\n",
       "      <th>9</th>\n",
       "      <td>9</td>\n",
       "      <td>822136</td>\n",
       "      <td>dry goods pasta</td>\n",
       "    </tr>\n",
       "  </tbody>\n",
       "</table>\n",
       "</div>"
      ],
      "text/plain": [
       "   department_id  number_of_products_sold       department\n",
       "0              4                  9079273          produce\n",
       "1             16                  5177182       dairy eggs\n",
       "2             19                  2766406           snacks\n",
       "3              7                  2571901        beverages\n",
       "4              1                  2121731           frozen\n",
       "5             13                  1782705           pantry\n",
       "6              3                  1120828           bakery\n",
       "7             15                  1012074     canned goods\n",
       "8             20                  1003834             deli\n",
       "9              9                   822136  dry goods pasta"
      ]
     },
     "execution_count": 68,
     "metadata": {},
     "output_type": "execute_result"
    }
   ],
   "source": [
    "top_10_departments_merged"
   ]
  },
  {
   "cell_type": "code",
   "execution_count": 70,
   "id": "e36c1597-c181-40db-b3a6-9a8766779102",
   "metadata": {},
   "outputs": [
    {
     "data": {
      "image/png": "[encoded data removed]",
      "text/plain": [
       "<Figure size 1000x600 with 1 Axes>"
      ]
     },
     "metadata": {},
     "output_type": "display_data"
    }
   ],
   "source": [
    "# Create horizontal bar chart showing the top 10 departments by number of products sold. \n",
    "plt.figure(figsize=(10, 6))\n",
    "\n",
    "plt.title('Top 10 Departments by Number of Products Sold')\n",
    "\n",
    "# Set x-ticks and add vertical grid lines\n",
    "x_ticks = np.arange(0, 10000000, 2000000)\n",
    "plt.xticks(x_ticks)\n",
    "plt.grid(axis='x', linestyle='--', linewidth=0.5, color='grey', zorder=0)\n",
    "\n",
    "# Define a function to format x-axis labels\n",
    "def value_formatter(x, pos):\n",
    "    return f'{x:,.0f}'\n",
    "plt.xlabel('Number of Products Sold')\n",
    "plt.gca().xaxis.set_major_formatter(FuncFormatter(value_formatter))\n",
    "\n",
    "plt.ylabel(' ')\n",
    "\n",
    "plt.gca().invert_yaxis()  # Invert y-axis to have the department with the highest sales on top\n",
    "\n",
    "# Plot chart\n",
    "colors = plt.get_cmap('tab10')  # 'Set1' is a color map available in matplotlib\n",
    "plt.barh(top_10_departments_merged['department'], top_10_departments_merged['number_of_products_sold'],color=colors(range(10)), zorder=3)\n",
    "\n",
    "top_departments = plt.gcf()"
   ]
  },
  {
   "cell_type": "markdown",
   "id": "05d85185-51a5-4c3c-bff6-70bb463f1288",
   "metadata": {},
   "source": [
    "## 7. Export charts"
   ]
  },
  {
   "cell_type": "code",
   "execution_count": 130,
   "id": "d8368d4f-15fe-4775-915d-563f60c7a06b",
   "metadata": {},
   "outputs": [],
   "source": [
    "# Export charts\n",
    "\n",
    "top_departments.savefig(os.path.join(path, '04 Analysis', 'Visualizations', 'top_departments.png'), dpi=300, bbox_inches='tight')\n",
    "dependents_by_region.savefig(os.path.join(path, '04 Analysis', 'Visualizations', 'dependents_by_region.png'), dpi=300, bbox_inches='tight')\n",
    "income_group_by_region.savefig(os.path.join(path, '04 Analysis', 'Visualizations', 'income_group_by_region.png'), dpi=300, bbox_inches='tight')\n",
    "age_groups_by_region.savefig(os.path.join(path, '04 Analysis', 'Visualizations', 'age_groups_by_region.png'), dpi=300, bbox_inches='tight')\n",
    "customer_profile_region.savefig(os.path.join(path, '04 Analysis', 'Visualizations', 'customer_profile_region.png'), dpi=300, bbox_inches='tight')"
   ]
  },
  {
   "cell_type": "markdown",
   "id": "a669ebca-caf9-49bb-b227-2a90d8e55773",
   "metadata": {},
   "source": [
    "## 8. Export data"
   ]
  },
  {
   "cell_type": "code",
   "execution_count": 132,
   "id": "7345369e-c3da-4b57-bafb-0de07632b5e3",
   "metadata": {},
   "outputs": [],
   "source": [
    "# Export data\n",
    "df_secured_with_exclusion.to_pickle(os.path.join(path, '02 Data', 'Prepared Data', 'secured_with_exclusion.pkl'))"
   ]
  },
  {
   "cell_type": "code",
   "execution_count": null,
   "id": "c4225ec4-6ad1-4aa3-90d6-7ffe026dbf16",
   "metadata": {},
   "outputs": [],
   "source": []
  }
 ],
 "metadata": {
  "kernelspec": {
   "display_name": "Python 3 (ipykernel)",
   "language": "python",
   "name": "python3"
  },
  "language_info": {
   "codemirror_mode": {
    "name": "ipython",
    "version": 3
   },
   "file_extension": ".py",
   "mimetype": "text/x-python",
   "name": "python",
   "nbconvert_exporter": "python",
   "pygments_lexer": "ipython3",
   "version": "3.12.4"
  }
 },
 "nbformat": 4,
 "nbformat_minor": 5
}
