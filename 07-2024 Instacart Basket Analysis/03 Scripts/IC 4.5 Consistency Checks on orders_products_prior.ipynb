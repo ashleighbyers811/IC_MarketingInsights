{
 "cells": [
  {
   "cell_type": "markdown",
   "id": "d0248af4-b2c5-4123-9878-eab8905f2580",
   "metadata": {},
   "source": [
    "# IC 4.5 Consistency Checks on orders_products_prior"
   ]
  },
  {
   "cell_type": "markdown",
   "id": "4d79c99d-171c-4728-a99d-a73ccfd6d98a",
   "metadata": {},
   "source": [
    "# Table of Contents\n",
    "##### 1. Import libraries\n",
    "##### 2. Import data\n",
    "##### 3. Consistency Checks on ords_prods_prior\n",
    "    3.1 Check for mixed-type data\n",
    "    3.2 Check for missing values\n",
    "    3.3 Check for duplicates\n",
    "##### 4. Export data"
   ]
  },
  {
   "cell_type": "markdown",
   "id": "fca63e25-e8be-4e87-9160-c87dbf79a710",
   "metadata": {
    "jp-MarkdownHeadingCollapsed": true
   },
   "source": [
    "## 1. Import libraries"
   ]
  },
  {
   "cell_type": "code",
   "execution_count": 1,
   "id": "9e90d766-2812-434a-9a01-0be87e74a60d",
   "metadata": {},
   "outputs": [],
   "source": [
    "# Importing libraries pandas, numPy, and os\n",
    "\n",
    "import pandas as pd\n",
    "import numpy as np\n",
    "import os"
   ]
  },
  {
   "cell_type": "markdown",
   "id": "3de0f43b-a037-417b-832f-c950d873a0a0",
   "metadata": {
    "jp-MarkdownHeadingCollapsed": true
   },
   "source": [
    "## 2. Import Data"
   ]
  },
  {
   "cell_type": "code",
   "execution_count": 3,
   "id": "85a90ff2-c671-4188-9499-54b935392c1c",
   "metadata": {},
   "outputs": [],
   "source": [
    "#creating path\n",
    "path = r'C:\\Users\\ashle\\Documents\\07-2024 Instacart Basket Analysis' # Assigns the master file path to variable 'path'"
   ]
  },
  {
   "cell_type": "code",
   "execution_count": 5,
   "id": "5d5fe4d2-dd4d-4a7c-9130-5ab5e264d840",
   "metadata": {},
   "outputs": [],
   "source": [
    "#importing orders_products_prior.csv using path\n",
    "df_ords_prods_prior = pd.read_csv(os.path.join(path, '02 Data', 'Original Data', 'orders_products_prior.csv'), index_col = False)"
   ]
  },
  {
   "cell_type": "markdown",
   "id": "d2143d86-2f0c-4bbf-8903-dd788a9cdfea",
   "metadata": {
    "jp-MarkdownHeadingCollapsed": true
   },
   "source": [
    "## 3. Consistency Checks on df_ords_prods_prior"
   ]
  },
  {
   "cell_type": "code",
   "execution_count": 6,
   "id": "941b0dcc-0510-492f-b5c6-765a91e11e92",
   "metadata": {},
   "outputs": [
    {
     "data": {
      "text/plain": [
       "(32434489, 4)"
      ]
     },
     "execution_count": 6,
     "metadata": {},
     "output_type": "execute_result"
    }
   ],
   "source": [
    "df_ords_prods_prior.shape"
   ]
  },
  {
   "cell_type": "code",
   "execution_count": 9,
   "id": "cc43910b-b0d6-4c53-9cf9-0b20319514c9",
   "metadata": {},
   "outputs": [
    {
     "data": {
      "text/html": [
       "<div>\n",
       "<style scoped>\n",
       "    .dataframe tbody tr th:only-of-type {\n",
       "        vertical-align: middle;\n",
       "    }\n",
       "\n",
       "    .dataframe tbody tr th {\n",
       "        vertical-align: top;\n",
       "    }\n",
       "\n",
       "    .dataframe thead th {\n",
       "        text-align: right;\n",
       "    }\n",
       "</style>\n",
       "<table border=\"1\" class=\"dataframe\">\n",
       "  <thead>\n",
       "    <tr style=\"text-align: right;\">\n",
       "      <th></th>\n",
       "      <th>order_id</th>\n",
       "      <th>product_id</th>\n",
       "      <th>add_to_cart_order</th>\n",
       "      <th>reordered</th>\n",
       "    </tr>\n",
       "  </thead>\n",
       "  <tbody>\n",
       "    <tr>\n",
       "      <th>0</th>\n",
       "      <td>2</td>\n",
       "      <td>33120</td>\n",
       "      <td>1</td>\n",
       "      <td>1</td>\n",
       "    </tr>\n",
       "    <tr>\n",
       "      <th>1</th>\n",
       "      <td>2</td>\n",
       "      <td>28985</td>\n",
       "      <td>2</td>\n",
       "      <td>1</td>\n",
       "    </tr>\n",
       "    <tr>\n",
       "      <th>2</th>\n",
       "      <td>2</td>\n",
       "      <td>9327</td>\n",
       "      <td>3</td>\n",
       "      <td>0</td>\n",
       "    </tr>\n",
       "    <tr>\n",
       "      <th>3</th>\n",
       "      <td>2</td>\n",
       "      <td>45918</td>\n",
       "      <td>4</td>\n",
       "      <td>1</td>\n",
       "    </tr>\n",
       "    <tr>\n",
       "      <th>4</th>\n",
       "      <td>2</td>\n",
       "      <td>30035</td>\n",
       "      <td>5</td>\n",
       "      <td>0</td>\n",
       "    </tr>\n",
       "  </tbody>\n",
       "</table>\n",
       "</div>"
      ],
      "text/plain": [
       "   order_id  product_id  add_to_cart_order  reordered\n",
       "0         2       33120                  1          1\n",
       "1         2       28985                  2          1\n",
       "2         2        9327                  3          0\n",
       "3         2       45918                  4          1\n",
       "4         2       30035                  5          0"
      ]
     },
     "execution_count": 9,
     "metadata": {},
     "output_type": "execute_result"
    }
   ],
   "source": [
    "df_ords_prods_prior.head()"
   ]
  },
  {
   "cell_type": "markdown",
   "id": "a5877e0b-d7fc-48eb-b72e-cf6018bfc213",
   "metadata": {
    "jp-MarkdownHeadingCollapsed": true
   },
   "source": [
    "### 3.1 Check for mixed-type data"
   ]
  },
  {
   "cell_type": "code",
   "execution_count": 20,
   "id": "83d9d815-da7d-41e4-9484-d8d8d3a720e1",
   "metadata": {},
   "outputs": [],
   "source": [
    "# Check for mixed-types on ords_prods_prior\n",
    "\n",
    "for col in df_ords_prods_prior.columns.tolist():\n",
    "    weird = (df_ords_prods_prior[[col]].map(type) != df_ords_prods_prior[[col]].iloc[0].apply(type)).any(axis = 1)\n",
    "    if len (df_ords_prods_prior[weird]) > 0:\n",
    "        print (col)"
   ]
  },
  {
   "cell_type": "raw",
   "id": "3cd23bfd-5017-4638-9548-6deea8115081",
   "metadata": {},
   "source": [
    "There is no mixed-type data in the ords_prods_prior dataframe."
   ]
  },
  {
   "cell_type": "markdown",
   "id": "dd39a6f5-f272-4f55-b1a6-40902b4a204a",
   "metadata": {
    "jp-MarkdownHeadingCollapsed": true
   },
   "source": [
    "### 3.2 Check for missing values"
   ]
  },
  {
   "cell_type": "code",
   "execution_count": 22,
   "id": "d9869de0-7a10-4623-a058-37225b0448ce",
   "metadata": {},
   "outputs": [
    {
     "data": {
      "text/plain": [
       "order_id             0\n",
       "product_id           0\n",
       "add_to_cart_order    0\n",
       "reordered            0\n",
       "dtype: int64"
      ]
     },
     "execution_count": 22,
     "metadata": {},
     "output_type": "execute_result"
    }
   ],
   "source": [
    "# Check for missing values on ords_prods_prior\n",
    "\n",
    "df_ords_prods_prior.isnull().sum()"
   ]
  },
  {
   "cell_type": "raw",
   "id": "d41cfb86-c9f2-4644-bbd2-7b9742776b85",
   "metadata": {},
   "source": [
    "There are no missing values in the ords_prods_prior dataframe."
   ]
  },
  {
   "cell_type": "markdown",
   "id": "11a14470-9f1a-4c39-b681-4b70713e7a08",
   "metadata": {
    "jp-MarkdownHeadingCollapsed": true
   },
   "source": [
    "### 3.3 Check for duplicates"
   ]
  },
  {
   "cell_type": "code",
   "execution_count": 25,
   "id": "304e79b1-09e1-4159-81c5-f030785864ee",
   "metadata": {},
   "outputs": [],
   "source": [
    "# Check for duplicate rows on ords_prods_prior\n",
    "\n",
    "df_ords_prods_prior_dups = df_ords_prods_prior[df_ords_prods_prior.duplicated()]"
   ]
  },
  {
   "cell_type": "code",
   "execution_count": 27,
   "id": "5947b855-cc50-40a9-ae50-b707767ff0e4",
   "metadata": {},
   "outputs": [
    {
     "data": {
      "text/html": [
       "<div>\n",
       "<style scoped>\n",
       "    .dataframe tbody tr th:only-of-type {\n",
       "        vertical-align: middle;\n",
       "    }\n",
       "\n",
       "    .dataframe tbody tr th {\n",
       "        vertical-align: top;\n",
       "    }\n",
       "\n",
       "    .dataframe thead th {\n",
       "        text-align: right;\n",
       "    }\n",
       "</style>\n",
       "<table border=\"1\" class=\"dataframe\">\n",
       "  <thead>\n",
       "    <tr style=\"text-align: right;\">\n",
       "      <th></th>\n",
       "      <th>order_id</th>\n",
       "      <th>product_id</th>\n",
       "      <th>add_to_cart_order</th>\n",
       "      <th>reordered</th>\n",
       "    </tr>\n",
       "  </thead>\n",
       "  <tbody>\n",
       "  </tbody>\n",
       "</table>\n",
       "</div>"
      ],
      "text/plain": [
       "Empty DataFrame\n",
       "Columns: [order_id, product_id, add_to_cart_order, reordered]\n",
       "Index: []"
      ]
     },
     "execution_count": 27,
     "metadata": {},
     "output_type": "execute_result"
    }
   ],
   "source": [
    "# If the df_ords_prods_prior_dups dataframe turns up empty, there are no duplicates. \n",
    "\n",
    "df_ords_prods_prior_dups"
   ]
  },
  {
   "cell_type": "raw",
   "id": "22549db7-6d36-4833-9ec8-21d5d5943b70",
   "metadata": {},
   "source": [
    "There are no duplicate rows in the ords_prods_prior dataframe."
   ]
  },
  {
   "cell_type": "markdown",
   "id": "869a2bc5-6352-45df-81aa-d158698bdd11",
   "metadata": {
    "jp-MarkdownHeadingCollapsed": true
   },
   "source": [
    "## 4. Export data"
   ]
  },
  {
   "cell_type": "code",
   "execution_count": 30,
   "id": "a032c05a-8ad9-4340-bf08-75ade69dfee7",
   "metadata": {},
   "outputs": [],
   "source": [
    "df_ords_prods_prior.to_csv(os.path.join(path, '02 Data', 'Prepared Data', 'orders_products_prior_checked.csv'))"
   ]
  },
  {
   "cell_type": "code",
   "execution_count": null,
   "id": "55ef97d3-45fa-4d31-8d7d-6a0a1d373beb",
   "metadata": {},
   "outputs": [],
   "source": []
  }
 ],
 "metadata": {
  "kernelspec": {
   "display_name": "Python 3 (ipykernel)",
   "language": "python",
   "name": "python3"
  },
  "language_info": {
   "codemirror_mode": {
    "name": "ipython",
    "version": 3
   },
   "file_extension": ".py",
   "mimetype": "text/x-python",
   "name": "python",
   "nbconvert_exporter": "python",
   "pygments_lexer": "ipython3",
   "version": "3.12.4"
  }
 },
 "nbformat": 4,
 "nbformat_minor": 5
}
