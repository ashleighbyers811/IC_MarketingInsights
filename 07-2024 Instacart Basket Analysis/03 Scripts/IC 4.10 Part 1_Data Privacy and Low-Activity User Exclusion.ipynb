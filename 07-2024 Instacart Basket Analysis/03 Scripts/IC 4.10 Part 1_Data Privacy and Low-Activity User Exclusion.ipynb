{
 "cells": [
  {
   "cell_type": "markdown",
   "id": "211676bb-49ff-42f6-8b99-e511f59b222c",
   "metadata": {},
   "source": [
    "# IC 4.10 Part 1_Data Privacy and Low-Activity User Exclusion"
   ]
  },
  {
   "cell_type": "markdown",
   "id": "9ad296f6-3372-4134-ac6d-330869aa6dd2",
   "metadata": {},
   "source": [
    "# Table of Contents\n",
    "##### 1. Import Libraries and Data\n",
    "##### 2. Security Implications\n",
    "    2.1 Modify 'Income' to 'Income Group'\n",
    "    2.2 Modify 'Age' to 'Age Group'\n",
    "##### 3. Customer Behavior in Different Geographic Regions\n",
    "    3.1 Create 'region' column\n",
    "    3.2 Determine whether there’s a difference in spending habits between the different U.S. regions\n",
    "        3.2.1 Low spenders vs High spenders by Region\n",
    "##### 4. Exclusion Flag for Low-Activity customers\n",
    "##### 5. Export Data\n"
   ]
  },
  {
   "cell_type": "markdown",
   "id": "8fa489db-26f8-46ef-b691-85edbcbe736c",
   "metadata": {},
   "source": [
    "## Step 1: Import Libraries"
   ]
  },
  {
   "cell_type": "code",
   "execution_count": 3,
   "id": "b6792086-5e29-4605-a482-e7502e6c4a2d",
   "metadata": {},
   "outputs": [],
   "source": [
    "# Import libraries\n",
    "\n",
    "import pandas as pd\n",
    "import numpy as np\n",
    "import os\n",
    "import matplotlib.pyplot as plt\n",
    "from matplotlib.ticker import FuncFormatter\n",
    "import seaborn as sns\n",
    "import scipy"
   ]
  },
  {
   "cell_type": "code",
   "execution_count": 4,
   "id": "436189e4-c059-4002-883c-f4960aedf908",
   "metadata": {},
   "outputs": [],
   "source": [
    "# Create path\n",
    "path = r'C:\\Users\\ashle\\Documents\\07-2024 Instacart Basket Analysis'\n",
    "\n",
    "# Import data\n",
    "ords_prods_all = pd.read_pickle(os.path.join(path, '02 Data', 'Prepared Data', 'orders_products_all.pkl'))"
   ]
  },
  {
   "cell_type": "markdown",
   "id": "a04116f5-7184-4874-8e98-37e5fad0be64",
   "metadata": {},
   "source": [
    "## Step 2: Security Implications"
   ]
  },
  {
   "cell_type": "code",
   "execution_count": 6,
   "id": "07615fd8-e7fa-4550-872a-88d44528b4b9",
   "metadata": {},
   "outputs": [
    {
     "data": {
      "text/html": [
       "<div>\n",
       "<style scoped>\n",
       "    .dataframe tbody tr th:only-of-type {\n",
       "        vertical-align: middle;\n",
       "    }\n",
       "\n",
       "    .dataframe tbody tr th {\n",
       "        vertical-align: top;\n",
       "    }\n",
       "\n",
       "    .dataframe thead th {\n",
       "        text-align: right;\n",
       "    }\n",
       "</style>\n",
       "<table border=\"1\" class=\"dataframe\">\n",
       "  <thead>\n",
       "    <tr style=\"text-align: right;\">\n",
       "      <th></th>\n",
       "      <th>order_id</th>\n",
       "      <th>user_id</th>\n",
       "      <th>order_number</th>\n",
       "      <th>order_day_of_week</th>\n",
       "      <th>order_hour_of_day</th>\n",
       "      <th>days_since_prior_order</th>\n",
       "      <th>first_order</th>\n",
       "      <th>product_id</th>\n",
       "      <th>add_to_cart_order</th>\n",
       "      <th>reordered</th>\n",
       "      <th>product_name</th>\n",
       "      <th>aisle_id</th>\n",
       "      <th>department_id</th>\n",
       "      <th>prices</th>\n",
       "      <th>price_label</th>\n",
       "      <th>busiest_day</th>\n",
       "      <th>busiest_days</th>\n",
       "      <th>busiest_period_of_day</th>\n",
       "      <th>max_order</th>\n",
       "      <th>loyalty_flag</th>\n",
       "      <th>avg_purchase_price</th>\n",
       "      <th>spending_flag</th>\n",
       "      <th>median_days</th>\n",
       "      <th>order_frequency_flag</th>\n",
       "      <th>Gender</th>\n",
       "      <th>STATE</th>\n",
       "      <th>Age</th>\n",
       "      <th>date_joined</th>\n",
       "      <th>number_of_dependents</th>\n",
       "      <th>family_status</th>\n",
       "      <th>income</th>\n",
       "      <th>_merge</th>\n",
       "    </tr>\n",
       "  </thead>\n",
       "  <tbody>\n",
       "    <tr>\n",
       "      <th>0</th>\n",
       "      <td>2539329</td>\n",
       "      <td>1</td>\n",
       "      <td>1</td>\n",
       "      <td>2</td>\n",
       "      <td>8</td>\n",
       "      <td>NaN</td>\n",
       "      <td>True</td>\n",
       "      <td>196</td>\n",
       "      <td>1</td>\n",
       "      <td>0</td>\n",
       "      <td>Soda</td>\n",
       "      <td>77</td>\n",
       "      <td>7</td>\n",
       "      <td>9.0</td>\n",
       "      <td>Mid-range product</td>\n",
       "      <td>Regularly busy</td>\n",
       "      <td>Regular days</td>\n",
       "      <td>Average orders</td>\n",
       "      <td>10</td>\n",
       "      <td>New customer</td>\n",
       "      <td>6.367797</td>\n",
       "      <td>Low spender</td>\n",
       "      <td>20.5</td>\n",
       "      <td>Non-frequent customer</td>\n",
       "      <td>Female</td>\n",
       "      <td>Alabama</td>\n",
       "      <td>31</td>\n",
       "      <td>2019-02-17</td>\n",
       "      <td>3</td>\n",
       "      <td>married</td>\n",
       "      <td>40423</td>\n",
       "      <td>both</td>\n",
       "    </tr>\n",
       "    <tr>\n",
       "      <th>1</th>\n",
       "      <td>2539329</td>\n",
       "      <td>1</td>\n",
       "      <td>1</td>\n",
       "      <td>2</td>\n",
       "      <td>8</td>\n",
       "      <td>NaN</td>\n",
       "      <td>True</td>\n",
       "      <td>14084</td>\n",
       "      <td>2</td>\n",
       "      <td>0</td>\n",
       "      <td>Organic Unsweetened Vanilla Almond Milk</td>\n",
       "      <td>91</td>\n",
       "      <td>16</td>\n",
       "      <td>12.5</td>\n",
       "      <td>Mid-range product</td>\n",
       "      <td>Regularly busy</td>\n",
       "      <td>Regular days</td>\n",
       "      <td>Average orders</td>\n",
       "      <td>10</td>\n",
       "      <td>New customer</td>\n",
       "      <td>6.367797</td>\n",
       "      <td>Low spender</td>\n",
       "      <td>20.5</td>\n",
       "      <td>Non-frequent customer</td>\n",
       "      <td>Female</td>\n",
       "      <td>Alabama</td>\n",
       "      <td>31</td>\n",
       "      <td>2019-02-17</td>\n",
       "      <td>3</td>\n",
       "      <td>married</td>\n",
       "      <td>40423</td>\n",
       "      <td>both</td>\n",
       "    </tr>\n",
       "    <tr>\n",
       "      <th>2</th>\n",
       "      <td>2539329</td>\n",
       "      <td>1</td>\n",
       "      <td>1</td>\n",
       "      <td>2</td>\n",
       "      <td>8</td>\n",
       "      <td>NaN</td>\n",
       "      <td>True</td>\n",
       "      <td>12427</td>\n",
       "      <td>3</td>\n",
       "      <td>0</td>\n",
       "      <td>Original Beef Jerky</td>\n",
       "      <td>23</td>\n",
       "      <td>19</td>\n",
       "      <td>4.4</td>\n",
       "      <td>Low-range product</td>\n",
       "      <td>Regularly busy</td>\n",
       "      <td>Regular days</td>\n",
       "      <td>Average orders</td>\n",
       "      <td>10</td>\n",
       "      <td>New customer</td>\n",
       "      <td>6.367797</td>\n",
       "      <td>Low spender</td>\n",
       "      <td>20.5</td>\n",
       "      <td>Non-frequent customer</td>\n",
       "      <td>Female</td>\n",
       "      <td>Alabama</td>\n",
       "      <td>31</td>\n",
       "      <td>2019-02-17</td>\n",
       "      <td>3</td>\n",
       "      <td>married</td>\n",
       "      <td>40423</td>\n",
       "      <td>both</td>\n",
       "    </tr>\n",
       "    <tr>\n",
       "      <th>3</th>\n",
       "      <td>2539329</td>\n",
       "      <td>1</td>\n",
       "      <td>1</td>\n",
       "      <td>2</td>\n",
       "      <td>8</td>\n",
       "      <td>NaN</td>\n",
       "      <td>True</td>\n",
       "      <td>26088</td>\n",
       "      <td>4</td>\n",
       "      <td>0</td>\n",
       "      <td>Aged White Cheddar Popcorn</td>\n",
       "      <td>23</td>\n",
       "      <td>19</td>\n",
       "      <td>4.7</td>\n",
       "      <td>Low-range product</td>\n",
       "      <td>Regularly busy</td>\n",
       "      <td>Regular days</td>\n",
       "      <td>Average orders</td>\n",
       "      <td>10</td>\n",
       "      <td>New customer</td>\n",
       "      <td>6.367797</td>\n",
       "      <td>Low spender</td>\n",
       "      <td>20.5</td>\n",
       "      <td>Non-frequent customer</td>\n",
       "      <td>Female</td>\n",
       "      <td>Alabama</td>\n",
       "      <td>31</td>\n",
       "      <td>2019-02-17</td>\n",
       "      <td>3</td>\n",
       "      <td>married</td>\n",
       "      <td>40423</td>\n",
       "      <td>both</td>\n",
       "    </tr>\n",
       "    <tr>\n",
       "      <th>4</th>\n",
       "      <td>2539329</td>\n",
       "      <td>1</td>\n",
       "      <td>1</td>\n",
       "      <td>2</td>\n",
       "      <td>8</td>\n",
       "      <td>NaN</td>\n",
       "      <td>True</td>\n",
       "      <td>26405</td>\n",
       "      <td>5</td>\n",
       "      <td>0</td>\n",
       "      <td>XL Pick-A-Size Paper Towel Rolls</td>\n",
       "      <td>54</td>\n",
       "      <td>17</td>\n",
       "      <td>1.0</td>\n",
       "      <td>Low-range product</td>\n",
       "      <td>Regularly busy</td>\n",
       "      <td>Regular days</td>\n",
       "      <td>Average orders</td>\n",
       "      <td>10</td>\n",
       "      <td>New customer</td>\n",
       "      <td>6.367797</td>\n",
       "      <td>Low spender</td>\n",
       "      <td>20.5</td>\n",
       "      <td>Non-frequent customer</td>\n",
       "      <td>Female</td>\n",
       "      <td>Alabama</td>\n",
       "      <td>31</td>\n",
       "      <td>2019-02-17</td>\n",
       "      <td>3</td>\n",
       "      <td>married</td>\n",
       "      <td>40423</td>\n",
       "      <td>both</td>\n",
       "    </tr>\n",
       "  </tbody>\n",
       "</table>\n",
       "</div>"
      ],
      "text/plain": [
       "   order_id  user_id  order_number  order_day_of_week  order_hour_of_day  \\\n",
       "0   2539329        1             1                  2                  8   \n",
       "1   2539329        1             1                  2                  8   \n",
       "2   2539329        1             1                  2                  8   \n",
       "3   2539329        1             1                  2                  8   \n",
       "4   2539329        1             1                  2                  8   \n",
       "\n",
       "   days_since_prior_order  first_order  product_id  add_to_cart_order  \\\n",
       "0                     NaN         True         196                  1   \n",
       "1                     NaN         True       14084                  2   \n",
       "2                     NaN         True       12427                  3   \n",
       "3                     NaN         True       26088                  4   \n",
       "4                     NaN         True       26405                  5   \n",
       "\n",
       "   reordered                             product_name  aisle_id  \\\n",
       "0          0                                     Soda        77   \n",
       "1          0  Organic Unsweetened Vanilla Almond Milk        91   \n",
       "2          0                      Original Beef Jerky        23   \n",
       "3          0               Aged White Cheddar Popcorn        23   \n",
       "4          0         XL Pick-A-Size Paper Towel Rolls        54   \n",
       "\n",
       "   department_id  prices        price_label     busiest_day  busiest_days  \\\n",
       "0              7     9.0  Mid-range product  Regularly busy  Regular days   \n",
       "1             16    12.5  Mid-range product  Regularly busy  Regular days   \n",
       "2             19     4.4  Low-range product  Regularly busy  Regular days   \n",
       "3             19     4.7  Low-range product  Regularly busy  Regular days   \n",
       "4             17     1.0  Low-range product  Regularly busy  Regular days   \n",
       "\n",
       "  busiest_period_of_day  max_order  loyalty_flag  avg_purchase_price  \\\n",
       "0        Average orders         10  New customer            6.367797   \n",
       "1        Average orders         10  New customer            6.367797   \n",
       "2        Average orders         10  New customer            6.367797   \n",
       "3        Average orders         10  New customer            6.367797   \n",
       "4        Average orders         10  New customer            6.367797   \n",
       "\n",
       "  spending_flag  median_days   order_frequency_flag  Gender    STATE  Age  \\\n",
       "0   Low spender         20.5  Non-frequent customer  Female  Alabama   31   \n",
       "1   Low spender         20.5  Non-frequent customer  Female  Alabama   31   \n",
       "2   Low spender         20.5  Non-frequent customer  Female  Alabama   31   \n",
       "3   Low spender         20.5  Non-frequent customer  Female  Alabama   31   \n",
       "4   Low spender         20.5  Non-frequent customer  Female  Alabama   31   \n",
       "\n",
       "  date_joined  number_of_dependents family_status  income _merge  \n",
       "0  2019-02-17                     3       married   40423   both  \n",
       "1  2019-02-17                     3       married   40423   both  \n",
       "2  2019-02-17                     3       married   40423   both  \n",
       "3  2019-02-17                     3       married   40423   both  \n",
       "4  2019-02-17                     3       married   40423   both  "
      ]
     },
     "execution_count": 6,
     "metadata": {},
     "output_type": "execute_result"
    }
   ],
   "source": [
    "# Display all columns\n",
    "pd.set_option('display.max_columns', None)\n",
    "\n",
    "ords_prods_all.head()"
   ]
  },
  {
   "cell_type": "markdown",
   "id": "35cea956-dfe6-4872-bf3c-d5ce0f5a7420",
   "metadata": {},
   "source": [
    "There is no explicit Personally Identifiable Information (PII) such as names, email addresses, or phone numbers.  \n",
    "\n",
    "Additional security and and privacy considerations to keep in mind: \n",
    "\n",
    "1. Risk of Re-identification: \n",
    "Even though individual descriptors like age, gender, state, marital status, and number of dependents may not individually identify an individual, combinations of these descriptors could potentially lead to re-identification when combined with external data sources.\n",
    "2. Contextual Data Sensitivity:\n",
    "Certain purchase behaviors might reveal sensitive personal preferences or habits.\n",
    "\n",
    "Recommendations: \n",
    "Aggregate 'age' and 'income' to reduce the level of granularity: \n",
    "1. Create age_group column (Young Adult, Adult, Older Adult, Senior) and then drop the 'age' column\n",
    "2. Create income_group column (Low income, Middle income, High income) and then drop the 'income' column"
   ]
  },
  {
   "cell_type": "markdown",
   "id": "ebb054a9-2f0b-47bc-b852-69525caba40d",
   "metadata": {},
   "source": [
    "#### 2.1 Modify'Income' to 'Income Group"
   ]
  },
  {
   "cell_type": "code",
   "execution_count": 9,
   "id": "442f9b39-2138-450d-b422-9085cd448860",
   "metadata": {},
   "outputs": [
    {
     "data": {
      "text/plain": [
       "income_group\n",
       "High income      14814766\n",
       "Middle income    13996010\n",
       "Low income        3594083\n",
       "Name: count, dtype: int64"
      ]
     },
     "execution_count": 9,
     "metadata": {},
     "output_type": "execute_result"
    }
   ],
   "source": [
    "## Conditions:\n",
    "# If income less than 50,000 then 'Low income'\n",
    "# If income greater than or equal to 50,000 and less than 100,000 then 'Middle income'\n",
    "# If income greater than or equal to 100,000 then 'High income'\n",
    "\n",
    "\n",
    "# Create a result list for income column showing low income, middle income, or high income. \n",
    "result = []\n",
    "\n",
    "for income in ords_prods_all['income']:\n",
    "    if income < 50000:\n",
    "        result.append('Low income')\n",
    "    elif income >= 50000 and income < 100000:\n",
    "        result.append('Middle income')\n",
    "    elif income >= 100000:\n",
    "        result.append('High income')\n",
    "    else: \n",
    "        result.append('Other')\n",
    "\n",
    "# Add a column 'income_group' and assign the result list\n",
    "ords_prods_all['income_group'] = result\n",
    "\n",
    "ords_prods_all['income_group'].value_counts()"
   ]
  },
  {
   "cell_type": "markdown",
   "id": "dde1ac5f-7178-4fc4-8733-d215051ea1d3",
   "metadata": {},
   "source": [
    "#### 2.2 Modify 'Age' to 'Age Group'"
   ]
  },
  {
   "cell_type": "code",
   "execution_count": 11,
   "id": "4fd53f23-af76-411f-9793-8dd092004bda",
   "metadata": {},
   "outputs": [
    {
     "data": {
      "text/plain": [
       "age_group\n",
       "Older adult    10139691\n",
       "Adult          10117083\n",
       "Senior          8575084\n",
       "Young adult     3573001\n",
       "Name: count, dtype: int64"
      ]
     },
     "execution_count": 11,
     "metadata": {},
     "output_type": "execute_result"
    }
   ],
   "source": [
    "## Conditions:\n",
    "# If age less than 25 then young adult. (0-24)\n",
    "# If age greater than or equal to 25 & less than 45 then adult. (25-44)\n",
    "# If age greater than or equal to 45 & less than 65 then Older adult. (45-64)\n",
    "# If age greater than or equal to 65 then senior. (65+)\n",
    "\n",
    "\n",
    "# Create a result list for Age column showing Young adult, Adult, Older Adult, or Senior\n",
    "result = []\n",
    "\n",
    "for age in ords_prods_all['Age']:\n",
    "    if age < 25:\n",
    "        result.append('Young adult')\n",
    "    elif age >= 25 and age < 45:\n",
    "        result.append('Adult')\n",
    "    elif age >= 45 and age < 65:\n",
    "        result.append('Older adult')\n",
    "    elif age >= 65:\n",
    "        result.append('Senior')\n",
    "    else: \n",
    "        result.append('Other')\n",
    "\n",
    "# Add a column 'age_group' and assign the result list\n",
    "ords_prods_all['age_group'] = result\n",
    "\n",
    "ords_prods_all['age_group'].value_counts()"
   ]
  },
  {
   "cell_type": "code",
   "execution_count": 12,
   "id": "cba56ed5-72d7-4ccf-934d-8194084cd078",
   "metadata": {},
   "outputs": [],
   "source": [
    "# Drop 'Age' and 'income' columns and assign to new dataframe ords_prods_all_secured\n",
    "# Drop unnecessary '_merge' flag\n",
    "\n",
    "ords_prods_all_secured = ords_prods_all.drop(columns=['Age', 'income', '_merge'])"
   ]
  },
  {
   "cell_type": "code",
   "execution_count": 13,
   "id": "cc217359-a929-4564-8779-c3d00db92f07",
   "metadata": {},
   "outputs": [
    {
     "data": {
      "text/html": [
       "<div>\n",
       "<style scoped>\n",
       "    .dataframe tbody tr th:only-of-type {\n",
       "        vertical-align: middle;\n",
       "    }\n",
       "\n",
       "    .dataframe tbody tr th {\n",
       "        vertical-align: top;\n",
       "    }\n",
       "\n",
       "    .dataframe thead th {\n",
       "        text-align: right;\n",
       "    }\n",
       "</style>\n",
       "<table border=\"1\" class=\"dataframe\">\n",
       "  <thead>\n",
       "    <tr style=\"text-align: right;\">\n",
       "      <th></th>\n",
       "      <th>order_id</th>\n",
       "      <th>user_id</th>\n",
       "      <th>order_number</th>\n",
       "      <th>order_day_of_week</th>\n",
       "      <th>order_hour_of_day</th>\n",
       "      <th>days_since_prior_order</th>\n",
       "      <th>first_order</th>\n",
       "      <th>product_id</th>\n",
       "      <th>add_to_cart_order</th>\n",
       "      <th>reordered</th>\n",
       "      <th>product_name</th>\n",
       "      <th>aisle_id</th>\n",
       "      <th>department_id</th>\n",
       "      <th>prices</th>\n",
       "      <th>price_label</th>\n",
       "      <th>busiest_day</th>\n",
       "      <th>busiest_days</th>\n",
       "      <th>busiest_period_of_day</th>\n",
       "      <th>max_order</th>\n",
       "      <th>loyalty_flag</th>\n",
       "      <th>avg_purchase_price</th>\n",
       "      <th>spending_flag</th>\n",
       "      <th>median_days</th>\n",
       "      <th>order_frequency_flag</th>\n",
       "      <th>Gender</th>\n",
       "      <th>STATE</th>\n",
       "      <th>date_joined</th>\n",
       "      <th>number_of_dependents</th>\n",
       "      <th>family_status</th>\n",
       "      <th>income_group</th>\n",
       "      <th>age_group</th>\n",
       "    </tr>\n",
       "  </thead>\n",
       "  <tbody>\n",
       "    <tr>\n",
       "      <th>0</th>\n",
       "      <td>2539329</td>\n",
       "      <td>1</td>\n",
       "      <td>1</td>\n",
       "      <td>2</td>\n",
       "      <td>8</td>\n",
       "      <td>NaN</td>\n",
       "      <td>True</td>\n",
       "      <td>196</td>\n",
       "      <td>1</td>\n",
       "      <td>0</td>\n",
       "      <td>Soda</td>\n",
       "      <td>77</td>\n",
       "      <td>7</td>\n",
       "      <td>9.0</td>\n",
       "      <td>Mid-range product</td>\n",
       "      <td>Regularly busy</td>\n",
       "      <td>Regular days</td>\n",
       "      <td>Average orders</td>\n",
       "      <td>10</td>\n",
       "      <td>New customer</td>\n",
       "      <td>6.367797</td>\n",
       "      <td>Low spender</td>\n",
       "      <td>20.5</td>\n",
       "      <td>Non-frequent customer</td>\n",
       "      <td>Female</td>\n",
       "      <td>Alabama</td>\n",
       "      <td>2019-02-17</td>\n",
       "      <td>3</td>\n",
       "      <td>married</td>\n",
       "      <td>Low income</td>\n",
       "      <td>Adult</td>\n",
       "    </tr>\n",
       "    <tr>\n",
       "      <th>1</th>\n",
       "      <td>2539329</td>\n",
       "      <td>1</td>\n",
       "      <td>1</td>\n",
       "      <td>2</td>\n",
       "      <td>8</td>\n",
       "      <td>NaN</td>\n",
       "      <td>True</td>\n",
       "      <td>14084</td>\n",
       "      <td>2</td>\n",
       "      <td>0</td>\n",
       "      <td>Organic Unsweetened Vanilla Almond Milk</td>\n",
       "      <td>91</td>\n",
       "      <td>16</td>\n",
       "      <td>12.5</td>\n",
       "      <td>Mid-range product</td>\n",
       "      <td>Regularly busy</td>\n",
       "      <td>Regular days</td>\n",
       "      <td>Average orders</td>\n",
       "      <td>10</td>\n",
       "      <td>New customer</td>\n",
       "      <td>6.367797</td>\n",
       "      <td>Low spender</td>\n",
       "      <td>20.5</td>\n",
       "      <td>Non-frequent customer</td>\n",
       "      <td>Female</td>\n",
       "      <td>Alabama</td>\n",
       "      <td>2019-02-17</td>\n",
       "      <td>3</td>\n",
       "      <td>married</td>\n",
       "      <td>Low income</td>\n",
       "      <td>Adult</td>\n",
       "    </tr>\n",
       "    <tr>\n",
       "      <th>2</th>\n",
       "      <td>2539329</td>\n",
       "      <td>1</td>\n",
       "      <td>1</td>\n",
       "      <td>2</td>\n",
       "      <td>8</td>\n",
       "      <td>NaN</td>\n",
       "      <td>True</td>\n",
       "      <td>12427</td>\n",
       "      <td>3</td>\n",
       "      <td>0</td>\n",
       "      <td>Original Beef Jerky</td>\n",
       "      <td>23</td>\n",
       "      <td>19</td>\n",
       "      <td>4.4</td>\n",
       "      <td>Low-range product</td>\n",
       "      <td>Regularly busy</td>\n",
       "      <td>Regular days</td>\n",
       "      <td>Average orders</td>\n",
       "      <td>10</td>\n",
       "      <td>New customer</td>\n",
       "      <td>6.367797</td>\n",
       "      <td>Low spender</td>\n",
       "      <td>20.5</td>\n",
       "      <td>Non-frequent customer</td>\n",
       "      <td>Female</td>\n",
       "      <td>Alabama</td>\n",
       "      <td>2019-02-17</td>\n",
       "      <td>3</td>\n",
       "      <td>married</td>\n",
       "      <td>Low income</td>\n",
       "      <td>Adult</td>\n",
       "    </tr>\n",
       "    <tr>\n",
       "      <th>3</th>\n",
       "      <td>2539329</td>\n",
       "      <td>1</td>\n",
       "      <td>1</td>\n",
       "      <td>2</td>\n",
       "      <td>8</td>\n",
       "      <td>NaN</td>\n",
       "      <td>True</td>\n",
       "      <td>26088</td>\n",
       "      <td>4</td>\n",
       "      <td>0</td>\n",
       "      <td>Aged White Cheddar Popcorn</td>\n",
       "      <td>23</td>\n",
       "      <td>19</td>\n",
       "      <td>4.7</td>\n",
       "      <td>Low-range product</td>\n",
       "      <td>Regularly busy</td>\n",
       "      <td>Regular days</td>\n",
       "      <td>Average orders</td>\n",
       "      <td>10</td>\n",
       "      <td>New customer</td>\n",
       "      <td>6.367797</td>\n",
       "      <td>Low spender</td>\n",
       "      <td>20.5</td>\n",
       "      <td>Non-frequent customer</td>\n",
       "      <td>Female</td>\n",
       "      <td>Alabama</td>\n",
       "      <td>2019-02-17</td>\n",
       "      <td>3</td>\n",
       "      <td>married</td>\n",
       "      <td>Low income</td>\n",
       "      <td>Adult</td>\n",
       "    </tr>\n",
       "    <tr>\n",
       "      <th>4</th>\n",
       "      <td>2539329</td>\n",
       "      <td>1</td>\n",
       "      <td>1</td>\n",
       "      <td>2</td>\n",
       "      <td>8</td>\n",
       "      <td>NaN</td>\n",
       "      <td>True</td>\n",
       "      <td>26405</td>\n",
       "      <td>5</td>\n",
       "      <td>0</td>\n",
       "      <td>XL Pick-A-Size Paper Towel Rolls</td>\n",
       "      <td>54</td>\n",
       "      <td>17</td>\n",
       "      <td>1.0</td>\n",
       "      <td>Low-range product</td>\n",
       "      <td>Regularly busy</td>\n",
       "      <td>Regular days</td>\n",
       "      <td>Average orders</td>\n",
       "      <td>10</td>\n",
       "      <td>New customer</td>\n",
       "      <td>6.367797</td>\n",
       "      <td>Low spender</td>\n",
       "      <td>20.5</td>\n",
       "      <td>Non-frequent customer</td>\n",
       "      <td>Female</td>\n",
       "      <td>Alabama</td>\n",
       "      <td>2019-02-17</td>\n",
       "      <td>3</td>\n",
       "      <td>married</td>\n",
       "      <td>Low income</td>\n",
       "      <td>Adult</td>\n",
       "    </tr>\n",
       "  </tbody>\n",
       "</table>\n",
       "</div>"
      ],
      "text/plain": [
       "   order_id  user_id  order_number  order_day_of_week  order_hour_of_day  \\\n",
       "0   2539329        1             1                  2                  8   \n",
       "1   2539329        1             1                  2                  8   \n",
       "2   2539329        1             1                  2                  8   \n",
       "3   2539329        1             1                  2                  8   \n",
       "4   2539329        1             1                  2                  8   \n",
       "\n",
       "   days_since_prior_order  first_order  product_id  add_to_cart_order  \\\n",
       "0                     NaN         True         196                  1   \n",
       "1                     NaN         True       14084                  2   \n",
       "2                     NaN         True       12427                  3   \n",
       "3                     NaN         True       26088                  4   \n",
       "4                     NaN         True       26405                  5   \n",
       "\n",
       "   reordered                             product_name  aisle_id  \\\n",
       "0          0                                     Soda        77   \n",
       "1          0  Organic Unsweetened Vanilla Almond Milk        91   \n",
       "2          0                      Original Beef Jerky        23   \n",
       "3          0               Aged White Cheddar Popcorn        23   \n",
       "4          0         XL Pick-A-Size Paper Towel Rolls        54   \n",
       "\n",
       "   department_id  prices        price_label     busiest_day  busiest_days  \\\n",
       "0              7     9.0  Mid-range product  Regularly busy  Regular days   \n",
       "1             16    12.5  Mid-range product  Regularly busy  Regular days   \n",
       "2             19     4.4  Low-range product  Regularly busy  Regular days   \n",
       "3             19     4.7  Low-range product  Regularly busy  Regular days   \n",
       "4             17     1.0  Low-range product  Regularly busy  Regular days   \n",
       "\n",
       "  busiest_period_of_day  max_order  loyalty_flag  avg_purchase_price  \\\n",
       "0        Average orders         10  New customer            6.367797   \n",
       "1        Average orders         10  New customer            6.367797   \n",
       "2        Average orders         10  New customer            6.367797   \n",
       "3        Average orders         10  New customer            6.367797   \n",
       "4        Average orders         10  New customer            6.367797   \n",
       "\n",
       "  spending_flag  median_days   order_frequency_flag  Gender    STATE  \\\n",
       "0   Low spender         20.5  Non-frequent customer  Female  Alabama   \n",
       "1   Low spender         20.5  Non-frequent customer  Female  Alabama   \n",
       "2   Low spender         20.5  Non-frequent customer  Female  Alabama   \n",
       "3   Low spender         20.5  Non-frequent customer  Female  Alabama   \n",
       "4   Low spender         20.5  Non-frequent customer  Female  Alabama   \n",
       "\n",
       "  date_joined  number_of_dependents family_status income_group age_group  \n",
       "0  2019-02-17                     3       married   Low income     Adult  \n",
       "1  2019-02-17                     3       married   Low income     Adult  \n",
       "2  2019-02-17                     3       married   Low income     Adult  \n",
       "3  2019-02-17                     3       married   Low income     Adult  \n",
       "4  2019-02-17                     3       married   Low income     Adult  "
      ]
     },
     "execution_count": 13,
     "metadata": {},
     "output_type": "execute_result"
    }
   ],
   "source": [
    "ords_prods_all_secured.head()"
   ]
  },
  {
   "cell_type": "markdown",
   "id": "18a1007d-8ffa-4f2e-b4d2-904bdb62f2a3",
   "metadata": {},
   "source": [
    "Security concerns addressed. Age and income identifers were converted to ranges to reduce the level of granularity. "
   ]
  },
  {
   "cell_type": "markdown",
   "id": "d4e64712-8565-4264-a497-62730077b9f4",
   "metadata": {},
   "source": [
    "## Step 3: Customer Behavior in Different Geographic Regions"
   ]
  },
  {
   "cell_type": "markdown",
   "id": "0ec8bc55-0925-43ef-9fbc-9b6b3600afd3",
   "metadata": {},
   "source": [
    "#### 3.1 Create 'region' column"
   ]
  },
  {
   "cell_type": "code",
   "execution_count": 17,
   "id": "5bae02bc-e3b1-464d-8316-459e432e467e",
   "metadata": {},
   "outputs": [],
   "source": [
    "# Define regions\n",
    "northeast_states = ['Maine', 'New Hampshire', 'Vermont', 'Massachusetts', 'Rhode Island', 'Connecticut', 'New York', 'Pennsylvania', 'New Jersey']\n",
    "midwest_states = ['Wisconsin', 'Michigan', 'Illinois', 'Indiana', 'Ohio', 'North Dakota', 'South Dakota', 'Nebraska', 'Kansas', 'Minnesota', 'Iowa', 'Missouri']\n",
    "southern_states = ['Delaware', 'Maryland', 'District of Columbia', 'Virginia', 'West Virginia', 'North Carolina', 'South Carolina', 'Georgia', 'Florida', 'Kentucky', 'Tennessee', 'Mississippi', 'Alabama', 'Oklahoma', 'Texas', 'Arkansas', 'Louisiana'] \n",
    "western_states = ['Idaho', 'Montana', 'Wyoming', 'Nevada', 'Utah', 'Colorado', 'Arizona', 'New Mexico', 'Alaska','Washington', 'Oregon', 'California', 'Hawaii']\n",
    "\n",
    "# Create a result list for the 'STATE' column  showing its corresponding region\n",
    "result = []\n",
    "\n",
    "for value in ords_prods_all_secured['STATE']: \n",
    "    if value in northeast_states:\n",
    "        result.append('Northeast')\n",
    "    elif value in midwest_states:\n",
    "        result.append('Midwest')\n",
    "    elif value in southern_states:\n",
    "        result.append('South')\n",
    "    elif value in western_states:\n",
    "        result.append('West')\n",
    "    else:\n",
    "       result.append('No region assigned') "
   ]
  },
  {
   "cell_type": "code",
   "execution_count": 18,
   "id": "c1c8d50b-46a0-409c-992d-052bcb8434d6",
   "metadata": {},
   "outputs": [],
   "source": [
    "# Create new column and assign result list to it\n",
    "ords_prods_all_secured['region'] = result"
   ]
  },
  {
   "cell_type": "code",
   "execution_count": 19,
   "id": "82d5d363-a71f-4fd8-9eb3-2bdbf9b21919",
   "metadata": {},
   "outputs": [
    {
     "data": {
      "text/plain": [
       "region\n",
       "South        10791885\n",
       "West          8292913\n",
       "Midwest       7597325\n",
       "Northeast     5722736\n",
       "Name: count, dtype: int64"
      ]
     },
     "execution_count": 19,
     "metadata": {},
     "output_type": "execute_result"
    }
   ],
   "source": [
    "# Confirm regions were assigned properly and check frequency\n",
    "ords_prods_all_secured['region'].value_counts()"
   ]
  },
  {
   "cell_type": "code",
   "execution_count": 20,
   "id": "3525408a-fc75-43f0-a792-045ea448b9af",
   "metadata": {},
   "outputs": [
    {
     "data": {
      "text/plain": [
       "0     South\n",
       "1     South\n",
       "2     South\n",
       "3     South\n",
       "4     South\n",
       "      ...  \n",
       "95     West\n",
       "96     West\n",
       "97     West\n",
       "98     West\n",
       "99     West\n",
       "Name: region, Length: 100, dtype: object"
      ]
     },
     "execution_count": 20,
     "metadata": {},
     "output_type": "execute_result"
    }
   ],
   "source": [
    "ords_prods_all_secured['region'].head(100)"
   ]
  },
  {
   "cell_type": "markdown",
   "id": "805f9bcb-2584-4ee2-8d1a-d0e84b5c9d2c",
   "metadata": {},
   "source": [
    "#### 3.2 Determine whether there’s a difference in spending habits between the different U.S. regions."
   ]
  },
  {
   "cell_type": "markdown",
   "id": "ad5f93e3-feb9-4be2-9499-19071c85de11",
   "metadata": {},
   "source": [
    "##### 3.2.1 Low spenders vs High spenders by Region"
   ]
  },
  {
   "cell_type": "code",
   "execution_count": 23,
   "id": "518ffef8-ecdc-4238-abb9-86b5745c2551",
   "metadata": {},
   "outputs": [],
   "source": [
    "# Create the crosstab\n",
    "region_spending_crosstab = pd.crosstab(ords_prods_all_secured['region'], ords_prods_all_secured['spending_flag'], normalize='index')"
   ]
  },
  {
   "cell_type": "code",
   "execution_count": 24,
   "id": "9603cecf-048d-46f9-b534-09208c25196a",
   "metadata": {},
   "outputs": [
    {
     "name": "stdout",
     "output_type": "stream",
     "text": [
      "spending_flag  High spender  Low spender\n",
      "region                                  \n",
      "Midwest            0.020530     0.979470\n",
      "Northeast          0.018911     0.981089\n",
      "South              0.019430     0.980570\n",
      "West               0.019336     0.980664\n"
     ]
    }
   ],
   "source": [
    "# Print the crosstab to verify\n",
    "print(region_spending_crosstab)"
   ]
  },
  {
   "cell_type": "code",
   "execution_count": 25,
   "id": "f0938aaa-1d82-4986-8199-62ece44dea4b",
   "metadata": {
    "scrolled": true
   },
   "outputs": [
    {
     "data": {
      "image/png": "[encoded data removed]",
      "text/plain": [
       "<Figure size 600x800 with 1 Axes>"
      ]
     },
     "metadata": {},
     "output_type": "display_data"
    }
   ],
   "source": [
    "# Create stacked bar chart to show the proportions of high and low spenders in each region\n",
    "\n",
    "# Define color palette\n",
    "colors = sns.color_palette('Paired', n_colors=2)\n",
    "\n",
    "spending_by_region = region_spending_crosstab.plot(kind='bar', stacked=True, figsize=(6,8), color=colors)\n",
    "plt.xlabel('Region')\n",
    "plt.ylabel('Proportion of Spenders')\n",
    "plt.title('Proportion of Low and High Spenders by US Region')\n",
    "plt.legend(title='Spending Flag')\n",
    "plt.xticks(rotation=45) # Rotate x-axis labels for readability\n",
    "plt.tight_layout() # Adjust layout to fit labels\n",
    "\n",
    "# Add data labels\n",
    "for container in spending_by_region.containers:\n",
    "    spending_by_region.bar_label(container, label_type='center', fmt='%.2f')\n",
    "\n",
    "# Assign the current figure to a variable\n",
    "spending_by_region = plt.gcf()"
   ]
  },
  {
   "cell_type": "code",
   "execution_count": 26,
   "id": "a7e4cac5-3739-4963-8e70-10e8e85cc6f6",
   "metadata": {},
   "outputs": [],
   "source": [
    "# Export chart\n",
    "spending_by_region.savefig(os.path.join(path, '04 Analysis', 'Visualizations', 'spending_by_region.png'), dpi=300, bbox_inches='tight')"
   ]
  },
  {
   "cell_type": "markdown",
   "id": "9dee8871-d0ab-4800-83d6-e4506183212b",
   "metadata": {},
   "source": [
    "## Step 4: Exclusion flag for low-activity customers (customers with less than 5 orders)"
   ]
  },
  {
   "cell_type": "code",
   "execution_count": 28,
   "id": "2219270e-7c6d-4b28-aaf0-b18b16848bc5",
   "metadata": {},
   "outputs": [],
   "source": [
    "# Create exclusion flag for customers with less than 5 orders\n",
    "result = []\n",
    "\n",
    "for value in ords_prods_all_secured['max_order']:\n",
    "    if value <5:\n",
    "        result.append('Low-activity customer')\n",
    "    else: \n",
    "        result.append('High-activity customer')"
   ]
  },
  {
   "cell_type": "code",
   "execution_count": 29,
   "id": "9573bc64-b202-4534-a550-aa82214dc900",
   "metadata": {},
   "outputs": [],
   "source": [
    "ords_prods_all_secured['activity_level'] = result"
   ]
  },
  {
   "cell_type": "code",
   "execution_count": 30,
   "id": "27c4431d-7e29-4f78-9b5d-56ff33086dc3",
   "metadata": {},
   "outputs": [
    {
     "data": {
      "text/plain": [
       "activity_level\n",
       "High-activity customer    30964564\n",
       "Low-activity customer      1440295\n",
       "Name: count, dtype: int64"
      ]
     },
     "execution_count": 30,
     "metadata": {},
     "output_type": "execute_result"
    }
   ],
   "source": [
    "ords_prods_all_secured['activity_level'].value_counts()"
   ]
  },
  {
   "cell_type": "code",
   "execution_count": 31,
   "id": "9370170f-3c02-4563-ae3a-2016f56247de",
   "metadata": {},
   "outputs": [
    {
     "data": {
      "text/plain": [
       "order_id                  3214685\n",
       "user_id                    206209\n",
       "order_number                   99\n",
       "order_day_of_week               7\n",
       "order_hour_of_day              24\n",
       "days_since_prior_order         31\n",
       "first_order                     2\n",
       "product_id                  49659\n",
       "add_to_cart_order             145\n",
       "reordered                       2\n",
       "product_name                49661\n",
       "aisle_id                      134\n",
       "department_id                  21\n",
       "prices                        240\n",
       "price_label                     3\n",
       "busiest_day                     3\n",
       "busiest_days                    3\n",
       "busiest_period_of_day           3\n",
       "max_order                      99\n",
       "loyalty_flag                    3\n",
       "avg_purchase_price         128800\n",
       "spending_flag                   2\n",
       "median_days                    61\n",
       "order_frequency_flag            3\n",
       "Gender                          2\n",
       "STATE                          51\n",
       "date_joined                  1187\n",
       "number_of_dependents            4\n",
       "family_status                   4\n",
       "income_group                    3\n",
       "age_group                       4\n",
       "region                          4\n",
       "activity_level                  2\n",
       "dtype: int64"
      ]
     },
     "execution_count": 31,
     "metadata": {},
     "output_type": "execute_result"
    }
   ],
   "source": [
    "# Check count of 'user_id' without exclusion\n",
    "ords_prods_all_secured.nunique()"
   ]
  },
  {
   "cell_type": "code",
   "execution_count": 32,
   "id": "3fdb4dfe-50a3-4c1c-8ddf-7b28eeeaf76d",
   "metadata": {},
   "outputs": [],
   "source": [
    "# Create a new dataframe 'df_secured_with_exclusion' that excludes all rows where 'activity_level' is 'Low-activity customer'\n",
    "df_secured_with_exclusion = ords_prods_all_secured[ords_prods_all_secured['activity_level'] != 'Low-activity customer']"
   ]
  },
  {
   "cell_type": "code",
   "execution_count": 33,
   "id": "3bf42257-a58b-4ec2-ae29-ff15349c530e",
   "metadata": {},
   "outputs": [
    {
     "data": {
      "text/plain": [
       "(30964564, 33)"
      ]
     },
     "execution_count": 33,
     "metadata": {},
     "output_type": "execute_result"
    }
   ],
   "source": [
    "# Check shape of new dataframe\n",
    "df_secured_with_exclusion.shape"
   ]
  },
  {
   "cell_type": "code",
   "execution_count": 34,
   "id": "8e3a4cbf-3fcb-4eef-9fef-df2d9f5bc7c9",
   "metadata": {},
   "outputs": [
    {
     "data": {
      "text/plain": [
       "order_id                  3064375\n",
       "user_id                    162631\n",
       "order_number                   99\n",
       "order_day_of_week               7\n",
       "order_hour_of_day              24\n",
       "days_since_prior_order         31\n",
       "first_order                     2\n",
       "product_id                  49628\n",
       "add_to_cart_order             145\n",
       "reordered                       2\n",
       "product_name                49630\n",
       "aisle_id                      134\n",
       "department_id                  21\n",
       "prices                        240\n",
       "price_label                     3\n",
       "busiest_day                     3\n",
       "busiest_days                    3\n",
       "busiest_period_of_day           3\n",
       "max_order                      95\n",
       "loyalty_flag                    3\n",
       "avg_purchase_price         120378\n",
       "spending_flag                   2\n",
       "median_days                    61\n",
       "order_frequency_flag            3\n",
       "Gender                          2\n",
       "STATE                          51\n",
       "date_joined                  1187\n",
       "number_of_dependents            4\n",
       "family_status                   4\n",
       "income_group                    3\n",
       "age_group                       4\n",
       "region                          4\n",
       "activity_level                  1\n",
       "dtype: int64"
      ]
     },
     "execution_count": 34,
     "metadata": {},
     "output_type": "execute_result"
    }
   ],
   "source": [
    "# Check count of 'user_id' with exclusion\n",
    "df_secured_with_exclusion.nunique()"
   ]
  },
  {
   "cell_type": "markdown",
   "id": "0aa220fa-efd0-46f6-8749-0b8cbb14c134",
   "metadata": {},
   "source": [
    "## 5. Export Data"
   ]
  },
  {
   "cell_type": "code",
   "execution_count": 36,
   "id": "e08ece57-cc56-4ec3-845f-d7d99dfb508f",
   "metadata": {},
   "outputs": [],
   "source": [
    "# Export data\n",
    "df_secured_with_exclusion.to_pickle(os.path.join(path, '02 Data', 'Prepared Data', 'secured_with_exclusion.pkl'))"
   ]
  },
  {
   "cell_type": "code",
   "execution_count": null,
   "id": "8e1c1681-cbfb-4d39-9333-49eedfa292dc",
   "metadata": {},
   "outputs": [],
   "source": []
  }
 ],
 "metadata": {
  "kernelspec": {
   "display_name": "Python 3 (ipykernel)",
   "language": "python",
   "name": "python3"
  },
  "language_info": {
   "codemirror_mode": {
    "name": "ipython",
    "version": 3
   },
   "file_extension": ".py",
   "mimetype": "text/x-python",
   "name": "python",
   "nbconvert_exporter": "python",
   "pygments_lexer": "ipython3",
   "version": "3.12.4"
  }
 },
 "nbformat": 4,
 "nbformat_minor": 5
}
