{
 "cells": [
  {
   "cell_type": "markdown",
   "id": "c2f54538-a4ef-47c1-9c58-ef6065d68720",
   "metadata": {},
   "source": [
    "# IC 4.9 Intro to data visualization"
   ]
  },
  {
   "cell_type": "markdown",
   "id": "591359f4-4edf-46e5-8f93-74e6d14e8665",
   "metadata": {},
   "source": [
    "# Table of Contents\n",
    "##### 1. Import libraries\n",
    "##### 2. Import data\n",
    "##### 3. Check data shape\n",
    "##### 4. Create Basic Charts\n",
    "    4.1 Bar chart\n",
    "    4.2 Histogram\n",
    "    4.3 Scatterplot\n",
    "    4.4 Line chart\n",
    "        4.4.1 Create a representative sample\n",
    "        4.4.2 Create the Line chart\n",
    "##### 5. Export charts"
   ]
  },
  {
   "cell_type": "markdown",
   "id": "870dbf35-a083-4e18-9b84-07eb9fd06f2e",
   "metadata": {
    "jp-MarkdownHeadingCollapsed": true
   },
   "source": [
    "## 1. Import libraries"
   ]
  },
  {
   "cell_type": "code",
   "execution_count": 1,
   "id": "c110e4bb-ecff-47fa-b35e-404aad2a4022",
   "metadata": {},
   "outputs": [],
   "source": [
    "# Import libraries\n",
    "\n",
    "import pandas as pd\n",
    "import numpy as np\n",
    "import os\n",
    "import matplotlib.pyplot as plt\n",
    "import seaborn as sns\n",
    "import scipy"
   ]
  },
  {
   "cell_type": "markdown",
   "id": "b9a2d90f-6f97-4d46-b828-5c6b25bf2655",
   "metadata": {
    "jp-MarkdownHeadingCollapsed": true
   },
   "source": [
    "## 2. Import data"
   ]
  },
  {
   "cell_type": "code",
   "execution_count": 4,
   "id": "1dd74e12-12ee-4ecb-ad8f-9891fb6b519d",
   "metadata": {},
   "outputs": [],
   "source": [
    "# Set 'path' referencing master file\n",
    "path = r'C:\\Users\\ashle\\Documents\\07-2024 Instacart Basket Analysis'\n",
    "\n",
    "# Import data\n",
    "ords_prods_merge = pd.read_pickle(os.path.join(path, '02 Data', 'Prepared Data', 'ords_prods_merged_with_flags_checked.pkl'))"
   ]
  },
  {
   "cell_type": "markdown",
   "id": "dae15a3e-00d4-436c-8209-be95d5a77eef",
   "metadata": {
    "jp-MarkdownHeadingCollapsed": true
   },
   "source": [
    "## 3. Check data shape"
   ]
  },
  {
   "cell_type": "code",
   "execution_count": 5,
   "id": "317fecac-0556-493c-b6e7-385ea26a0f80",
   "metadata": {},
   "outputs": [
    {
     "data": {
      "text/plain": [
       "(32404859, 24)"
      ]
     },
     "execution_count": 5,
     "metadata": {},
     "output_type": "execute_result"
    }
   ],
   "source": [
    "# Check shape of ords_prods_merge\n",
    "ords_prods_merge.shape"
   ]
  },
  {
   "cell_type": "code",
   "execution_count": 6,
   "id": "cb8ff589-0782-4af0-b9b4-f7267cf992b4",
   "metadata": {},
   "outputs": [
    {
     "data": {
      "text/html": [
       "<div>\n",
       "<style scoped>\n",
       "    .dataframe tbody tr th:only-of-type {\n",
       "        vertical-align: middle;\n",
       "    }\n",
       "\n",
       "    .dataframe tbody tr th {\n",
       "        vertical-align: top;\n",
       "    }\n",
       "\n",
       "    .dataframe thead th {\n",
       "        text-align: right;\n",
       "    }\n",
       "</style>\n",
       "<table border=\"1\" class=\"dataframe\">\n",
       "  <thead>\n",
       "    <tr style=\"text-align: right;\">\n",
       "      <th></th>\n",
       "      <th>order_id</th>\n",
       "      <th>user_id</th>\n",
       "      <th>order_number</th>\n",
       "      <th>order_dow</th>\n",
       "      <th>order_hour_of_day</th>\n",
       "      <th>days_since_prior_order</th>\n",
       "      <th>first_order</th>\n",
       "      <th>product_id</th>\n",
       "      <th>add_to_cart_order</th>\n",
       "      <th>reordered</th>\n",
       "      <th>...</th>\n",
       "      <th>price_label</th>\n",
       "      <th>busiest_day</th>\n",
       "      <th>busiest_days</th>\n",
       "      <th>busiest_period_of_day</th>\n",
       "      <th>max_order</th>\n",
       "      <th>loyalty_flag</th>\n",
       "      <th>avg_purchase_price</th>\n",
       "      <th>spending_flag</th>\n",
       "      <th>median_days</th>\n",
       "      <th>order_frequency_flag</th>\n",
       "    </tr>\n",
       "  </thead>\n",
       "  <tbody>\n",
       "    <tr>\n",
       "      <th>0</th>\n",
       "      <td>2539329</td>\n",
       "      <td>1</td>\n",
       "      <td>1</td>\n",
       "      <td>2</td>\n",
       "      <td>8</td>\n",
       "      <td>NaN</td>\n",
       "      <td>True</td>\n",
       "      <td>196</td>\n",
       "      <td>1</td>\n",
       "      <td>0</td>\n",
       "      <td>...</td>\n",
       "      <td>Mid-range product</td>\n",
       "      <td>Regularly busy</td>\n",
       "      <td>Regular days</td>\n",
       "      <td>Average orders</td>\n",
       "      <td>10</td>\n",
       "      <td>New customer</td>\n",
       "      <td>6.367797</td>\n",
       "      <td>Low spender</td>\n",
       "      <td>20.5</td>\n",
       "      <td>Non-frequent customer</td>\n",
       "    </tr>\n",
       "    <tr>\n",
       "      <th>1</th>\n",
       "      <td>2539329</td>\n",
       "      <td>1</td>\n",
       "      <td>1</td>\n",
       "      <td>2</td>\n",
       "      <td>8</td>\n",
       "      <td>NaN</td>\n",
       "      <td>True</td>\n",
       "      <td>14084</td>\n",
       "      <td>2</td>\n",
       "      <td>0</td>\n",
       "      <td>...</td>\n",
       "      <td>Mid-range product</td>\n",
       "      <td>Regularly busy</td>\n",
       "      <td>Regular days</td>\n",
       "      <td>Average orders</td>\n",
       "      <td>10</td>\n",
       "      <td>New customer</td>\n",
       "      <td>6.367797</td>\n",
       "      <td>Low spender</td>\n",
       "      <td>20.5</td>\n",
       "      <td>Non-frequent customer</td>\n",
       "    </tr>\n",
       "    <tr>\n",
       "      <th>2</th>\n",
       "      <td>2539329</td>\n",
       "      <td>1</td>\n",
       "      <td>1</td>\n",
       "      <td>2</td>\n",
       "      <td>8</td>\n",
       "      <td>NaN</td>\n",
       "      <td>True</td>\n",
       "      <td>12427</td>\n",
       "      <td>3</td>\n",
       "      <td>0</td>\n",
       "      <td>...</td>\n",
       "      <td>Low-range product</td>\n",
       "      <td>Regularly busy</td>\n",
       "      <td>Regular days</td>\n",
       "      <td>Average orders</td>\n",
       "      <td>10</td>\n",
       "      <td>New customer</td>\n",
       "      <td>6.367797</td>\n",
       "      <td>Low spender</td>\n",
       "      <td>20.5</td>\n",
       "      <td>Non-frequent customer</td>\n",
       "    </tr>\n",
       "    <tr>\n",
       "      <th>3</th>\n",
       "      <td>2539329</td>\n",
       "      <td>1</td>\n",
       "      <td>1</td>\n",
       "      <td>2</td>\n",
       "      <td>8</td>\n",
       "      <td>NaN</td>\n",
       "      <td>True</td>\n",
       "      <td>26088</td>\n",
       "      <td>4</td>\n",
       "      <td>0</td>\n",
       "      <td>...</td>\n",
       "      <td>Low-range product</td>\n",
       "      <td>Regularly busy</td>\n",
       "      <td>Regular days</td>\n",
       "      <td>Average orders</td>\n",
       "      <td>10</td>\n",
       "      <td>New customer</td>\n",
       "      <td>6.367797</td>\n",
       "      <td>Low spender</td>\n",
       "      <td>20.5</td>\n",
       "      <td>Non-frequent customer</td>\n",
       "    </tr>\n",
       "    <tr>\n",
       "      <th>4</th>\n",
       "      <td>2539329</td>\n",
       "      <td>1</td>\n",
       "      <td>1</td>\n",
       "      <td>2</td>\n",
       "      <td>8</td>\n",
       "      <td>NaN</td>\n",
       "      <td>True</td>\n",
       "      <td>26405</td>\n",
       "      <td>5</td>\n",
       "      <td>0</td>\n",
       "      <td>...</td>\n",
       "      <td>Low-range product</td>\n",
       "      <td>Regularly busy</td>\n",
       "      <td>Regular days</td>\n",
       "      <td>Average orders</td>\n",
       "      <td>10</td>\n",
       "      <td>New customer</td>\n",
       "      <td>6.367797</td>\n",
       "      <td>Low spender</td>\n",
       "      <td>20.5</td>\n",
       "      <td>Non-frequent customer</td>\n",
       "    </tr>\n",
       "  </tbody>\n",
       "</table>\n",
       "<p>5 rows × 24 columns</p>\n",
       "</div>"
      ],
      "text/plain": [
       "   order_id  user_id  order_number  order_dow  order_hour_of_day  \\\n",
       "0   2539329        1             1          2                  8   \n",
       "1   2539329        1             1          2                  8   \n",
       "2   2539329        1             1          2                  8   \n",
       "3   2539329        1             1          2                  8   \n",
       "4   2539329        1             1          2                  8   \n",
       "\n",
       "   days_since_prior_order  first_order  product_id  add_to_cart_order  \\\n",
       "0                     NaN         True         196                  1   \n",
       "1                     NaN         True       14084                  2   \n",
       "2                     NaN         True       12427                  3   \n",
       "3                     NaN         True       26088                  4   \n",
       "4                     NaN         True       26405                  5   \n",
       "\n",
       "   reordered  ...        price_label     busiest_day  busiest_days  \\\n",
       "0          0  ...  Mid-range product  Regularly busy  Regular days   \n",
       "1          0  ...  Mid-range product  Regularly busy  Regular days   \n",
       "2          0  ...  Low-range product  Regularly busy  Regular days   \n",
       "3          0  ...  Low-range product  Regularly busy  Regular days   \n",
       "4          0  ...  Low-range product  Regularly busy  Regular days   \n",
       "\n",
       "   busiest_period_of_day max_order  loyalty_flag avg_purchase_price  \\\n",
       "0         Average orders        10  New customer           6.367797   \n",
       "1         Average orders        10  New customer           6.367797   \n",
       "2         Average orders        10  New customer           6.367797   \n",
       "3         Average orders        10  New customer           6.367797   \n",
       "4         Average orders        10  New customer           6.367797   \n",
       "\n",
       "  spending_flag  median_days   order_frequency_flag  \n",
       "0   Low spender         20.5  Non-frequent customer  \n",
       "1   Low spender         20.5  Non-frequent customer  \n",
       "2   Low spender         20.5  Non-frequent customer  \n",
       "3   Low spender         20.5  Non-frequent customer  \n",
       "4   Low spender         20.5  Non-frequent customer  \n",
       "\n",
       "[5 rows x 24 columns]"
      ]
     },
     "execution_count": 6,
     "metadata": {},
     "output_type": "execute_result"
    }
   ],
   "source": [
    "ords_prods_merge.head()"
   ]
  },
  {
   "cell_type": "markdown",
   "id": "0c0aa1d6-1fa6-4039-9a2d-ba527be06905",
   "metadata": {},
   "source": [
    "## 4. Create Basic Charts"
   ]
  },
  {
   "cell_type": "markdown",
   "id": "e7bcc9c9-e0e3-4992-bc93-ce30f0acbf7b",
   "metadata": {
    "jp-MarkdownHeadingCollapsed": true
   },
   "source": [
    "### 4.1 Bar chart"
   ]
  },
  {
   "cell_type": "code",
   "execution_count": 14,
   "id": "c9cdce1b-5ab1-446c-86a3-67b3da9b1c9d",
   "metadata": {},
   "outputs": [
    {
     "data": {
      "image/png": "[encoded data removed]",
      "text/plain": [
       "<Figure size 640x480 with 1 Axes>"
      ]
     },
     "metadata": {},
     "output_type": "display_data"
    }
   ],
   "source": [
    "bar = ords_prods_merge['order_dow'].value_counts().sort_index().plot.bar(color =['blue', 'grey', 'grey', 'grey', 'blue', 'grey', 'grey'])"
   ]
  },
  {
   "cell_type": "markdown",
   "id": "1e97a0bc-f73e-484c-a410-fed882eb2c64",
   "metadata": {
    "jp-MarkdownHeadingCollapsed": true
   },
   "source": [
    "### 4.2 Histogram"
   ]
  },
  {
   "cell_type": "code",
   "execution_count": 17,
   "id": "4897285c-4d25-4278-91e0-07d578f6bda5",
   "metadata": {},
   "outputs": [
    {
     "data": {
      "image/png": "[encoded data removed]",
      "text/plain": [
       "<Figure size 640x480 with 1 Axes>"
      ]
     },
     "metadata": {},
     "output_type": "display_data"
    }
   ],
   "source": [
    "hist = ords_prods_merge['prices'].plot.hist(bins = 70)"
   ]
  },
  {
   "cell_type": "markdown",
   "id": "c598e325-b1b0-471d-b16b-5a75f1c3e524",
   "metadata": {
    "jp-MarkdownHeadingCollapsed": true
   },
   "source": [
    "### 4.3 Scatterplot"
   ]
  },
  {
   "cell_type": "code",
   "execution_count": 21,
   "id": "a82425de-53af-4dea-904e-038070022e95",
   "metadata": {},
   "outputs": [
    {
     "data": {
      "text/plain": [
       "<Axes: xlabel='prices', ylabel='prices'>"
      ]
     },
     "execution_count": 21,
     "metadata": {},
     "output_type": "execute_result"
    },
    {
     "data": {
      "image/png": "[encoded data removed]",
      "text/plain": [
       "<Figure size 640x480 with 1 Axes>"
      ]
     },
     "metadata": {},
     "output_type": "display_data"
    }
   ],
   "source": [
    "sns.scatterplot(x = 'prices', y = 'prices', data = ords_prods_merge)"
   ]
  },
  {
   "cell_type": "markdown",
   "id": "e300cf97-adc1-40d2-81e0-14ce0874705b",
   "metadata": {},
   "source": [
    "### 4.4 Line chart"
   ]
  },
  {
   "cell_type": "markdown",
   "id": "9a384b10-7700-4618-92e3-580b3d665d9a",
   "metadata": {
    "jp-MarkdownHeadingCollapsed": true
   },
   "source": [
    "#### 4.4.1 Create a representative sample"
   ]
  },
  {
   "cell_type": "code",
   "execution_count": 40,
   "id": "7488b827-06e8-4c6e-a958-de10168ef35b",
   "metadata": {},
   "outputs": [],
   "source": [
    "np.random.seed(4)\n",
    "\n",
    "#create a list holding True/False val;ues to the test np.random.rand() <= 0.7\n",
    "dev = np.random.rand(len(ords_prods_merge)) <= 0.7"
   ]
  },
  {
   "cell_type": "code",
   "execution_count": 42,
   "id": "99eac9a8-b4fa-4a7c-bb5c-22160f02d6a3",
   "metadata": {},
   "outputs": [],
   "source": [
    "#store 70% of the sample in the dataframe big\n",
    "big = ords_prods_merge[dev]"
   ]
  },
  {
   "cell_type": "code",
   "execution_count": 44,
   "id": "2f438968-945b-491a-a64d-4dbfd0a736f8",
   "metadata": {},
   "outputs": [],
   "source": [
    "#store 30% of the sample in the dataframe small\n",
    "small = ords_prods_merge[~dev]"
   ]
  },
  {
   "cell_type": "code",
   "execution_count": 46,
   "id": "b189219b-155d-4276-9fbc-3c6deff37299",
   "metadata": {},
   "outputs": [
    {
     "data": {
      "text/plain": [
       "32433030"
      ]
     },
     "execution_count": 46,
     "metadata": {},
     "output_type": "execute_result"
    }
   ],
   "source": [
    "len(ords_prods_merge)"
   ]
  },
  {
   "cell_type": "code",
   "execution_count": 48,
   "id": "27fe73fd-7a27-454c-bfe8-d3fdd36503e8",
   "metadata": {},
   "outputs": [
    {
     "data": {
      "text/plain": [
       "32433030"
      ]
     },
     "execution_count": 48,
     "metadata": {},
     "output_type": "execute_result"
    }
   ],
   "source": [
    "len(big) + len(small)"
   ]
  },
  {
   "cell_type": "code",
   "execution_count": 50,
   "id": "71913fc4-a7f3-45d3-a9b2-e488b805979c",
   "metadata": {},
   "outputs": [],
   "source": [
    "df_2 = small[['order_dow', 'prices']]"
   ]
  },
  {
   "cell_type": "markdown",
   "id": "a38a56b5-c8a1-49d6-aa7a-12de9f5de652",
   "metadata": {
    "jp-MarkdownHeadingCollapsed": true
   },
   "source": [
    "#### 4.4.2 Create the Line chart"
   ]
  },
  {
   "cell_type": "code",
   "execution_count": 53,
   "id": "9b3f3332-bb0f-4fd0-905e-32b1a079f475",
   "metadata": {
    "scrolled": true
   },
   "outputs": [
    {
     "data": {
      "image/png": "[encoded data removed]",
      "text/plain": [
       "<Figure size 640x480 with 1 Axes>"
      ]
     },
     "metadata": {},
     "output_type": "display_data"
    }
   ],
   "source": [
    "#create a line chart demonstrating the development of the “prices” column across the days of the week. \n",
    "line = sns.lineplot(data = df_2, x = 'order_dow', y = 'prices')"
   ]
  },
  {
   "cell_type": "markdown",
   "id": "4152c66f-4c70-4e01-8d3d-19237e2d7504",
   "metadata": {
    "jp-MarkdownHeadingCollapsed": true
   },
   "source": [
    "## 5. Export charts"
   ]
  },
  {
   "cell_type": "code",
   "execution_count": 30,
   "id": "ae76cc68-aa0f-4b1b-baba-68af752a382c",
   "metadata": {},
   "outputs": [],
   "source": [
    "bar.figure.savefig(os.path.join(path, '04 Analysis', 'Visualizations', 'bar_orders_dow.png'))"
   ]
  },
  {
   "cell_type": "code",
   "execution_count": 34,
   "id": "38c16096-77e9-46b4-a1c7-25cffa1a78e2",
   "metadata": {},
   "outputs": [],
   "source": [
    "hist.figure.savefig(os.path.join(path, '04 Analysis', 'Visualizations', 'hist_prices.png'))"
   ]
  },
  {
   "cell_type": "code",
   "execution_count": 55,
   "id": "205fc5bb-2114-4902-b2e0-f0489737c4b7",
   "metadata": {},
   "outputs": [],
   "source": [
    "line.figure.savefig(os.path.join(path, '04 Analysis', 'Visualizations', 'line_order_dow_prices.png'))"
   ]
  },
  {
   "cell_type": "code",
   "execution_count": null,
   "id": "3451aa8a-ed22-4d57-83bd-b1a9c35886ec",
   "metadata": {},
   "outputs": [],
   "source": []
  }
 ],
 "metadata": {
  "kernelspec": {
   "display_name": "Python 3 (ipykernel)",
   "language": "python",
   "name": "python3"
  },
  "language_info": {
   "codemirror_mode": {
    "name": "ipython",
    "version": 3
   },
   "file_extension": ".py",
   "mimetype": "text/x-python",
   "name": "python",
   "nbconvert_exporter": "python",
   "pygments_lexer": "ipython3",
   "version": "3.12.4"
  }
 },
 "nbformat": 4,
 "nbformat_minor": 5
}
