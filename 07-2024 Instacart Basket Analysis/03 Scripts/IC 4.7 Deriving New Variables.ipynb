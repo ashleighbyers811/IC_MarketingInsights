{
 "cells": [
  {
   "cell_type": "markdown",
   "id": "c466575d-fa57-450b-bb4b-725ebe2c0f86",
   "metadata": {},
   "source": [
    "# IC 4.7 Deriving New Variables"
   ]
  },
  {
   "cell_type": "markdown",
   "id": "938b073f-729c-4a28-ac96-6bccad3f08b3",
   "metadata": {},
   "source": [
    "# Table of Contents\n",
    "##### 1. Import libraries\n",
    "##### 2. Import data\n",
    "##### 3. Check data shape\n",
    "##### 4. 4. Derive new variables\n",
    "    4.1 Create 'price_label' column\n",
    "    4.2 Create 'busiest_day' column\n",
    "    4.3 Create 'Busiest_days' column\n",
    "    4.4 Create 'busiest_period_of_day' column\n",
    "##### 5. Export data"
   ]
  },
  {
   "cell_type": "markdown",
   "id": "0db2c8f9-003d-47df-9e6d-dcd5bbb6ad19",
   "metadata": {},
   "source": [
    "## 1. Import libraries"
   ]
  },
  {
   "cell_type": "code",
   "execution_count": 1,
   "id": "a5cb2604-8b07-4b07-baf7-b6b1409bed69",
   "metadata": {},
   "outputs": [],
   "source": [
    "# Import libraries\n",
    "\n",
    "import pandas as pd\n",
    "import numpy as np\n",
    "import os"
   ]
  },
  {
   "cell_type": "markdown",
   "id": "1903b709-f1c5-4b48-b61b-90a50a04a742",
   "metadata": {},
   "source": [
    "## 2. Import data"
   ]
  },
  {
   "cell_type": "code",
   "execution_count": 3,
   "id": "c4f400ac-78ab-48d0-8857-694530c1bd53",
   "metadata": {},
   "outputs": [],
   "source": [
    "# Create path\n",
    "path = r'C:\\Users\\ashle\\Documents\\07-2024 Instacart Basket Analysis' # Assigns the master file path to variable 'path'\n",
    "\n",
    "# Import data\n",
    "df_ords_prods_merge = pd.read_pickle(os.path.join(path, '02 Data', 'Prepared Data', 'ords_prods_merge.pkl'))"
   ]
  },
  {
   "cell_type": "markdown",
   "id": "7f376f6e-9d1e-40c6-9600-b68293ca90b8",
   "metadata": {},
   "source": [
    "## 3. Check data shape"
   ]
  },
  {
   "cell_type": "code",
   "execution_count": 4,
   "id": "e7e9152a-f889-4b87-967d-c569b7d83556",
   "metadata": {},
   "outputs": [
    {
     "data": {
      "text/plain": [
       "(32404859, 15)"
      ]
     },
     "execution_count": 4,
     "metadata": {},
     "output_type": "execute_result"
    }
   ],
   "source": [
    "# Check shape of df_ords_prods_merge\n",
    "df_ords_prods_merge.shape"
   ]
  },
  {
   "cell_type": "code",
   "execution_count": 7,
   "id": "5c6751f6-4bd4-4a5f-b82a-393ab33a0599",
   "metadata": {
    "scrolled": true
   },
   "outputs": [
    {
     "data": {
      "text/plain": [
       "Index(['order_id', 'user_id', 'order_number', 'order_dow', 'order_hour_of_day',\n",
       "       'days_since_prior_order', 'first_order', 'product_id',\n",
       "       'add_to_cart_order', 'reordered', 'product_name', 'aisle_id',\n",
       "       'department_id', 'prices', '_merge'],\n",
       "      dtype='object')"
      ]
     },
     "execution_count": 7,
     "metadata": {},
     "output_type": "execute_result"
    }
   ],
   "source": [
    "# Check column names to reference when deriving new variables\n",
    "df_ords_prods_merge.columns"
   ]
  },
  {
   "cell_type": "code",
   "execution_count": 9,
   "id": "4a539244-bdfc-49fe-87a8-ac30b665c4a2",
   "metadata": {},
   "outputs": [],
   "source": [
    "# Drop '_merge' flag created during previous merge. It is no longer relevant\n",
    "df_ords_prods_merge.drop(columns=['_merge'], inplace=True)"
   ]
  },
  {
   "cell_type": "code",
   "execution_count": 11,
   "id": "677155bf-f30a-4c50-87e9-482459f1f035",
   "metadata": {},
   "outputs": [
    {
     "data": {
      "text/html": [
       "<div>\n",
       "<style scoped>\n",
       "    .dataframe tbody tr th:only-of-type {\n",
       "        vertical-align: middle;\n",
       "    }\n",
       "\n",
       "    .dataframe tbody tr th {\n",
       "        vertical-align: top;\n",
       "    }\n",
       "\n",
       "    .dataframe thead th {\n",
       "        text-align: right;\n",
       "    }\n",
       "</style>\n",
       "<table border=\"1\" class=\"dataframe\">\n",
       "  <thead>\n",
       "    <tr style=\"text-align: right;\">\n",
       "      <th></th>\n",
       "      <th>order_id</th>\n",
       "      <th>user_id</th>\n",
       "      <th>order_number</th>\n",
       "      <th>order_dow</th>\n",
       "      <th>order_hour_of_day</th>\n",
       "      <th>days_since_prior_order</th>\n",
       "      <th>first_order</th>\n",
       "      <th>product_id</th>\n",
       "      <th>add_to_cart_order</th>\n",
       "      <th>reordered</th>\n",
       "      <th>product_name</th>\n",
       "      <th>aisle_id</th>\n",
       "      <th>department_id</th>\n",
       "      <th>prices</th>\n",
       "    </tr>\n",
       "  </thead>\n",
       "  <tbody>\n",
       "    <tr>\n",
       "      <th>0</th>\n",
       "      <td>2539329</td>\n",
       "      <td>1</td>\n",
       "      <td>1</td>\n",
       "      <td>2</td>\n",
       "      <td>8</td>\n",
       "      <td>NaN</td>\n",
       "      <td>True</td>\n",
       "      <td>196</td>\n",
       "      <td>1</td>\n",
       "      <td>0</td>\n",
       "      <td>Soda</td>\n",
       "      <td>77</td>\n",
       "      <td>7</td>\n",
       "      <td>9.0</td>\n",
       "    </tr>\n",
       "    <tr>\n",
       "      <th>1</th>\n",
       "      <td>2539329</td>\n",
       "      <td>1</td>\n",
       "      <td>1</td>\n",
       "      <td>2</td>\n",
       "      <td>8</td>\n",
       "      <td>NaN</td>\n",
       "      <td>True</td>\n",
       "      <td>14084</td>\n",
       "      <td>2</td>\n",
       "      <td>0</td>\n",
       "      <td>Organic Unsweetened Vanilla Almond Milk</td>\n",
       "      <td>91</td>\n",
       "      <td>16</td>\n",
       "      <td>12.5</td>\n",
       "    </tr>\n",
       "    <tr>\n",
       "      <th>2</th>\n",
       "      <td>2539329</td>\n",
       "      <td>1</td>\n",
       "      <td>1</td>\n",
       "      <td>2</td>\n",
       "      <td>8</td>\n",
       "      <td>NaN</td>\n",
       "      <td>True</td>\n",
       "      <td>12427</td>\n",
       "      <td>3</td>\n",
       "      <td>0</td>\n",
       "      <td>Original Beef Jerky</td>\n",
       "      <td>23</td>\n",
       "      <td>19</td>\n",
       "      <td>4.4</td>\n",
       "    </tr>\n",
       "    <tr>\n",
       "      <th>3</th>\n",
       "      <td>2539329</td>\n",
       "      <td>1</td>\n",
       "      <td>1</td>\n",
       "      <td>2</td>\n",
       "      <td>8</td>\n",
       "      <td>NaN</td>\n",
       "      <td>True</td>\n",
       "      <td>26088</td>\n",
       "      <td>4</td>\n",
       "      <td>0</td>\n",
       "      <td>Aged White Cheddar Popcorn</td>\n",
       "      <td>23</td>\n",
       "      <td>19</td>\n",
       "      <td>4.7</td>\n",
       "    </tr>\n",
       "    <tr>\n",
       "      <th>4</th>\n",
       "      <td>2539329</td>\n",
       "      <td>1</td>\n",
       "      <td>1</td>\n",
       "      <td>2</td>\n",
       "      <td>8</td>\n",
       "      <td>NaN</td>\n",
       "      <td>True</td>\n",
       "      <td>26405</td>\n",
       "      <td>5</td>\n",
       "      <td>0</td>\n",
       "      <td>XL Pick-A-Size Paper Towel Rolls</td>\n",
       "      <td>54</td>\n",
       "      <td>17</td>\n",
       "      <td>1.0</td>\n",
       "    </tr>\n",
       "  </tbody>\n",
       "</table>\n",
       "</div>"
      ],
      "text/plain": [
       "   order_id  user_id  order_number  order_dow  order_hour_of_day  \\\n",
       "0   2539329        1             1          2                  8   \n",
       "1   2539329        1             1          2                  8   \n",
       "2   2539329        1             1          2                  8   \n",
       "3   2539329        1             1          2                  8   \n",
       "4   2539329        1             1          2                  8   \n",
       "\n",
       "   days_since_prior_order  first_order  product_id  add_to_cart_order  \\\n",
       "0                     NaN         True         196                  1   \n",
       "1                     NaN         True       14084                  2   \n",
       "2                     NaN         True       12427                  3   \n",
       "3                     NaN         True       26088                  4   \n",
       "4                     NaN         True       26405                  5   \n",
       "\n",
       "   reordered                             product_name  aisle_id  \\\n",
       "0          0                                     Soda        77   \n",
       "1          0  Organic Unsweetened Vanilla Almond Milk        91   \n",
       "2          0                      Original Beef Jerky        23   \n",
       "3          0               Aged White Cheddar Popcorn        23   \n",
       "4          0         XL Pick-A-Size Paper Towel Rolls        54   \n",
       "\n",
       "   department_id  prices  \n",
       "0              7     9.0  \n",
       "1             16    12.5  \n",
       "2             19     4.4  \n",
       "3             19     4.7  \n",
       "4             17     1.0  "
      ]
     },
     "execution_count": 11,
     "metadata": {},
     "output_type": "execute_result"
    }
   ],
   "source": [
    "df_ords_prods_merge.head()"
   ]
  },
  {
   "cell_type": "markdown",
   "id": "2b418515-4e9f-45e7-954f-345fa6970c3c",
   "metadata": {},
   "source": [
    "## 4. Derive new variables"
   ]
  },
  {
   "cell_type": "markdown",
   "id": "7df90969-ff4c-444f-850a-32d03e90077e",
   "metadata": {},
   "source": [
    "### 4.1 Create 'price_label' column"
   ]
  },
  {
   "cell_type": "code",
   "execution_count": 13,
   "id": "144ec600-cab2-4df1-af50-bf72a20889c8",
   "metadata": {},
   "outputs": [
    {
     "data": {
      "text/plain": [
       "prices\n",
       "12.3    624261\n",
       "10.3    510496\n",
       "4.0     447272\n",
       "6.3     438467\n",
       "1.3     425691\n",
       "         ...  \n",
       "20.2       123\n",
       "22.7        99\n",
       "21.5        85\n",
       "18.3        11\n",
       "21.0         8\n",
       "Name: count, Length: 242, dtype: int64"
      ]
     },
     "execution_count": 13,
     "metadata": {},
     "output_type": "execute_result"
    }
   ],
   "source": [
    "# Check frequency of 'prices' column\n",
    "\n",
    "df_ords_prods_merge['prices'].value_counts(dropna = False)"
   ]
  },
  {
   "cell_type": "raw",
   "id": "e80325af-8450-4bf4-a86a-e4e8cad1ba30",
   "metadata": {},
   "source": [
    "Conditions: \n",
    "\n",
    "If price is <=5 = 'Low-range product'\n",
    "If price is >5 and <=15 = 'Mid-range product'\n",
    "If price is >15 = 'High-range product'"
   ]
  },
  {
   "cell_type": "code",
   "execution_count": 15,
   "id": "1500aa7a-44e7-4d34-b55c-5f22f3600237",
   "metadata": {},
   "outputs": [],
   "source": [
    "# Create 'High-range product' label and add to 'price_label' column\n",
    "\n",
    "df_ords_prods_merge.loc[df_ords_prods_merge['prices'] > 15, 'price_label'] = 'High-range product'"
   ]
  },
  {
   "cell_type": "code",
   "execution_count": 16,
   "id": "2b408827-d97b-44ab-af4c-d48dd22ee4dd",
   "metadata": {},
   "outputs": [],
   "source": [
    "# Create 'Mid-range product' label and add to 'price_label' column\n",
    "\n",
    "df_ords_prods_merge.loc[(df_ords_prods_merge['prices'] <= 15) & (df_ords_prods_merge['prices'] > 5), 'price_label'] = 'Mid-range product'"
   ]
  },
  {
   "cell_type": "code",
   "execution_count": 19,
   "id": "4432a228-805c-434a-aede-04a6056ae160",
   "metadata": {},
   "outputs": [],
   "source": [
    "# Create 'Low-range product' label and add to 'price_label' column\n",
    "\n",
    "df_ords_prods_merge.loc[df_ords_prods_merge['prices'] < 5, 'price_label'] = 'Low-range product'"
   ]
  },
  {
   "cell_type": "code",
   "execution_count": 21,
   "id": "c46677c1-0693-4073-9ec7-f88c01787213",
   "metadata": {},
   "outputs": [
    {
     "data": {
      "text/plain": [
       "price_label\n",
       "Mid-range product     21860860\n",
       "Low-range product      9900417\n",
       "High-range product      417678\n",
       "NaN                     225904\n",
       "Name: count, dtype: int64"
      ]
     },
     "execution_count": 21,
     "metadata": {},
     "output_type": "execute_result"
    }
   ],
   "source": [
    "# Check frequency of new 'price_label' column\n",
    "\n",
    "df_ords_prods_merge['price_label'].value_counts(dropna = False)"
   ]
  },
  {
   "cell_type": "markdown",
   "id": "b3a26d51-c59c-4a74-836a-36ad75807aea",
   "metadata": {},
   "source": [
    "### 4.2 Create 'busiest_day' column"
   ]
  },
  {
   "cell_type": "code",
   "execution_count": 23,
   "id": "3c01650e-ee76-44d3-ba33-b799f301952f",
   "metadata": {},
   "outputs": [
    {
     "data": {
      "text/plain": [
       "order_dow\n",
       "0    6204182\n",
       "1    5660230\n",
       "6    4496490\n",
       "2    4213830\n",
       "5    4205791\n",
       "3    3840534\n",
       "4    3783802\n",
       "Name: count, dtype: int64"
      ]
     },
     "execution_count": 23,
     "metadata": {},
     "output_type": "execute_result"
    }
   ],
   "source": [
    "# Check frequency of order_dow column\n",
    "\n",
    "df_ords_prods_merge['order_dow'].value_counts(dropna = False)"
   ]
  },
  {
   "cell_type": "code",
   "execution_count": 25,
   "id": "a32d9b3a-9821-4b5a-9584-7014834c4b46",
   "metadata": {},
   "outputs": [],
   "source": [
    "# Create a result list for the order day of week column showing busiest day, least busy, or regularly busy\n",
    "result = []\n",
    "\n",
    "for value in df_ords_prods_merge['order_dow']:\n",
    "    if value == 0:\n",
    "        result.append('Busiest day')\n",
    "    elif value == 4:\n",
    "        result.append('Least busy')\n",
    "    else:\n",
    "        result.append('Regularly busy')"
   ]
  },
  {
   "cell_type": "code",
   "execution_count": 26,
   "id": "839e280c-94b4-48db-a231-bb960d21adfe",
   "metadata": {},
   "outputs": [],
   "source": [
    "# Assign result list to a new column called 'busiest_day'\n",
    "\n",
    "df_ords_prods_merge['busiest_day'] = result"
   ]
  },
  {
   "cell_type": "code",
   "execution_count": 29,
   "id": "a1c7587a-83ff-4b8d-b263-85addf083bc0",
   "metadata": {},
   "outputs": [
    {
     "data": {
      "text/plain": [
       "busiest_day\n",
       "Regularly busy    22416875\n",
       "Busiest day        6204182\n",
       "Least busy         3783802\n",
       "Name: count, dtype: int64"
      ]
     },
     "execution_count": 29,
     "metadata": {},
     "output_type": "execute_result"
    }
   ],
   "source": [
    "# Check frequency of new column 'busiest_day' compared to the order_dow column. \n",
    "\n",
    "df_ords_prods_merge['busiest_day'].value_counts(dropna = False)"
   ]
  },
  {
   "cell_type": "markdown",
   "id": "da0eab8a-4868-4ab5-b20d-b59843bdfb9c",
   "metadata": {},
   "source": [
    "### 4.3 Create 'Busiest_days' column"
   ]
  },
  {
   "cell_type": "raw",
   "id": "ec349e98-a0bb-46ec-8b44-f39824e93349",
   "metadata": {},
   "source": [
    "Conditions: \n",
    "\n",
    "'busiest days' label = two busiest days of the week\n",
    "'slowest days' label = two slowest days of the week\n",
    "'regular days' label = remaining days of the week that are neither the busiest or slowest"
   ]
  },
  {
   "cell_type": "code",
   "execution_count": 31,
   "id": "ae74110c-3240-4b18-817c-6be4c9ae8e64",
   "metadata": {},
   "outputs": [
    {
     "data": {
      "text/plain": [
       "order_dow\n",
       "0    6204182\n",
       "1    5660230\n",
       "6    4496490\n",
       "2    4213830\n",
       "5    4205791\n",
       "3    3840534\n",
       "4    3783802\n",
       "Name: count, dtype: int64"
      ]
     },
     "execution_count": 31,
     "metadata": {},
     "output_type": "execute_result"
    }
   ],
   "source": [
    "# Check frequency on 'order_dow' column\n",
    "\n",
    "df_ords_prods_merge['order_dow'].value_counts(dropna = False)"
   ]
  },
  {
   "cell_type": "markdown",
   "id": "7690f226-6e54-4819-83e7-ef26a2e3c27b",
   "metadata": {},
   "source": [
    "0 = Saturday, 1 = Sunday, 2 = Monday, 3 = Tuesday, 4 = Wednesday, 5 = Thursday, 6 = Friday"
   ]
  },
  {
   "cell_type": "code",
   "execution_count": 33,
   "id": "e1edc08c-b55f-4d05-b509-d5f9de0df2cc",
   "metadata": {},
   "outputs": [],
   "source": [
    "# Create a result list for 'busiest days', 'slowest days', 'regular days'\n",
    "\n",
    "result2 = []\n",
    "\n",
    "for value in df_ords_prods_merge['order_dow']:\n",
    "    if value == 0 or value == 1:\n",
    "        result2.append('Busiest days')\n",
    "    elif value == 3 or value == 4:\n",
    "        result2.append('Slowest days')\n",
    "    else:\n",
    "        result2.append('Regular days')\n",
    "    "
   ]
  },
  {
   "cell_type": "code",
   "execution_count": 35,
   "id": "bca190bc-1f28-491e-a1f2-19d2c56e8471",
   "metadata": {},
   "outputs": [],
   "source": [
    "# Assign result2 list to a new column 'busiest_days'\n",
    "\n",
    "df_ords_prods_merge['busiest_days'] = result2"
   ]
  },
  {
   "cell_type": "code",
   "execution_count": 37,
   "id": "e76cfed0-30c4-4a66-82b4-e82857929106",
   "metadata": {},
   "outputs": [
    {
     "data": {
      "text/plain": [
       "busiest_days\n",
       "Regular days    12916111\n",
       "Busiest days    11864412\n",
       "Slowest days     7624336\n",
       "Name: count, dtype: int64"
      ]
     },
     "execution_count": 37,
     "metadata": {},
     "output_type": "execute_result"
    }
   ],
   "source": [
    "df_ords_prods_merge['busiest_days'].value_counts(dropna = False)"
   ]
  },
  {
   "cell_type": "markdown",
   "id": "808d3cfb-5dc7-4988-ac42-bf061a509879",
   "metadata": {},
   "source": [
    "The frequency counts in the new 'busiest_days' column are accurate compared to the frequency counts for each day in the 'order_dow' column as shown in above cells using the .value_counts function. "
   ]
  },
  {
   "cell_type": "markdown",
   "id": "475f22f6-1675-4a0b-a078-149835b828dc",
   "metadata": {},
   "source": [
    "### 4.4 Create 'busiest_period_of_day' column"
   ]
  },
  {
   "cell_type": "code",
   "execution_count": 39,
   "id": "eb384436-f629-4056-8f8b-445242e24ea9",
   "metadata": {},
   "outputs": [
    {
     "data": {
      "text/plain": [
       "order_hour_of_day\n",
       "10    2761760\n",
       "11    2736140\n",
       "14    2689136\n",
       "15    2662144\n",
       "13    2660954\n",
       "12    2618532\n",
       "16    2535202\n",
       "9     2454203\n",
       "17    2087654\n",
       "8     1718118\n",
       "18    1636502\n",
       "19    1258305\n",
       "20     976156\n",
       "7      891054\n",
       "21     795637\n",
       "22     634225\n",
       "23     402316\n",
       "6      290493\n",
       "0      218769\n",
       "1      115700\n",
       "5       87961\n",
       "2       69375\n",
       "4       53242\n",
       "3       51281\n",
       "Name: count, dtype: int64"
      ]
     },
     "execution_count": 39,
     "metadata": {},
     "output_type": "execute_result"
    }
   ],
   "source": [
    "# Check frequency of order_hour_of_day column\n",
    "\n",
    "df_ords_prods_merge['order_hour_of_day'].value_counts(dropna = False)"
   ]
  },
  {
   "cell_type": "code",
   "execution_count": 41,
   "id": "af98fb28-353e-4398-92bd-f54ca0ba6984",
   "metadata": {},
   "outputs": [],
   "source": [
    "# Create result3 list to hold 'Most orders', 'Average orders' and 'Fewest orders'.\n",
    "\n",
    "result3 = []\n",
    "\n",
    "for value in df_ords_prods_merge['order_hour_of_day']: \n",
    "    if value == 10:\n",
    "        result3.append('Most orders')\n",
    "    elif value == 3:\n",
    "        result3.append('Fewest orders')\n",
    "    else:\n",
    "        result3.append('Average orders')"
   ]
  },
  {
   "cell_type": "code",
   "execution_count": 43,
   "id": "1b18dba5-9aea-490f-a0e9-8005a85f94c4",
   "metadata": {},
   "outputs": [],
   "source": [
    "# Assign result3 to a new column called 'busiest_period_of_day'\n",
    "\n",
    "df_ords_prods_merge['busiest_period_of_day'] = result3"
   ]
  },
  {
   "cell_type": "code",
   "execution_count": 45,
   "id": "87322f77-28b3-4e3d-b2f7-d03f060dc8a1",
   "metadata": {},
   "outputs": [
    {
     "data": {
      "text/plain": [
       "busiest_period_of_day\n",
       "Average orders    29591818\n",
       "Most orders        2761760\n",
       "Fewest orders        51281\n",
       "Name: count, dtype: int64"
      ]
     },
     "execution_count": 45,
     "metadata": {},
     "output_type": "execute_result"
    }
   ],
   "source": [
    "# Check frequency of busiest_period_of_day column\n",
    "\n",
    "df_ords_prods_merge['busiest_period_of_day'].value_counts(dropna = False)"
   ]
  },
  {
   "cell_type": "code",
   "execution_count": 47,
   "id": "3d4ac240-96bb-43a2-a0df-3e26806bdd8b",
   "metadata": {},
   "outputs": [
    {
     "data": {
      "text/plain": [
       "(32404859, 18)"
      ]
     },
     "execution_count": 47,
     "metadata": {},
     "output_type": "execute_result"
    }
   ],
   "source": [
    "# Check shape of df_ords_prods_merge before exporting\n",
    "df_ords_prods_merge.shape"
   ]
  },
  {
   "cell_type": "markdown",
   "id": "5ce6ca6b-794b-4ac9-9124-b63730663e50",
   "metadata": {},
   "source": [
    "## 5. Export Data"
   ]
  },
  {
   "cell_type": "code",
   "execution_count": 49,
   "id": "fc7fae1c-4331-4383-9f79-e5701d74e540",
   "metadata": {},
   "outputs": [],
   "source": [
    "df_ords_prods_merge.to_pickle(os.path.join(path, '02 Data', 'Prepared Data', 'ords_prods_merged_with_flags.pkl'))"
   ]
  },
  {
   "cell_type": "code",
   "execution_count": null,
   "id": "b2d8c61c-d1e5-42f4-bef5-20ecae6662c2",
   "metadata": {},
   "outputs": [],
   "source": []
  }
 ],
 "metadata": {
  "kernelspec": {
   "display_name": "Python 3 (ipykernel)",
   "language": "python",
   "name": "python3"
  },
  "language_info": {
   "codemirror_mode": {
    "name": "ipython",
    "version": 3
   },
   "file_extension": ".py",
   "mimetype": "text/x-python",
   "name": "python",
   "nbconvert_exporter": "python",
   "pygments_lexer": "ipython3",
   "version": "3.12.4"
  }
 },
 "nbformat": 4,
 "nbformat_minor": 5
}
