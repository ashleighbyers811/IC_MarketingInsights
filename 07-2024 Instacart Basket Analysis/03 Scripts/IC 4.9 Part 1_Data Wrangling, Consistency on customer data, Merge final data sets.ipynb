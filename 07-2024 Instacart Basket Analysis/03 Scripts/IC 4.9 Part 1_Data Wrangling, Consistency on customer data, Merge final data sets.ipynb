{
 "cells": [
  {
   "cell_type": "markdown",
   "id": "283f5948-ed13-48e9-85a5-671d0fdd6052",
   "metadata": {},
   "source": [
    "# IC 4.9 Part 1_Data Wrangling, Consistency on customer data, Merge final data sets"
   ]
  },
  {
   "cell_type": "markdown",
   "id": "5e07f6ba-3739-450c-9202-7b96f324f342",
   "metadata": {},
   "source": [
    "# Table of Contents\n",
    "##### 1. Import libraries\n",
    "##### 2. Import data\n",
    "##### 3. Data Wrangling on customer data\n",
    "##### 4. Data quality and consistency checks on customer data\n",
    "    4.1 Check for mixed-type data\n",
    "    4.2 Histogram\n",
    "    4.2 Check for missing values\n",
    "    4.3 Check for duplicates\n",
    "##### 5. Combine customer data with the ords_products_merged data\n",
    "    5.1 Before merging, ensure each dataframe is prepared\n",
    "    5.2 Merge ords_products_merged data with customer data\n",
    "##### 6. Export charts"
   ]
  },
  {
   "cell_type": "markdown",
   "id": "ee30d73a-50ff-4091-9873-397223b604dc",
   "metadata": {
    "jp-MarkdownHeadingCollapsed": true
   },
   "source": [
    "## 1. Import Libraries"
   ]
  },
  {
   "cell_type": "code",
   "execution_count": 1,
   "id": "df554b1d-45a7-4988-b7b4-aea8fc6580d1",
   "metadata": {},
   "outputs": [],
   "source": [
    "# Import Libraries\n",
    "\n",
    "import pandas as pd\n",
    "import numpy as np\n",
    "import os"
   ]
  },
  {
   "cell_type": "markdown",
   "id": "cc35710e-e2f6-4560-954d-d98148d229ec",
   "metadata": {},
   "source": [
    "## 2. Import Data"
   ]
  },
  {
   "cell_type": "code",
   "execution_count": 4,
   "id": "666a2bac-1c22-4d6f-9b7d-33ee18d23465",
   "metadata": {},
   "outputs": [],
   "source": [
    "# Import customer data\n",
    "\n",
    "path = r'C:\\Users\\ashle\\Documents\\07-2024 Instacart Basket Analysis'\n",
    "cu = pd.read_csv(os.path.join(path, '02 Data', 'Original Data', 'customers.csv'), index_col = False)\n",
    "ords_prods_merge = pd.read_pickle(os.path.join(path, '02 Data', 'Prepared Data', 'ords_prods_merged_with_flags_checked.pkl'))"
   ]
  },
  {
   "cell_type": "markdown",
   "id": "627e7ace-535c-41bd-bf1f-9e0e9ae0e989",
   "metadata": {},
   "source": [
    "## 3. Data Wrangling on customer data"
   ]
  },
  {
   "cell_type": "code",
   "execution_count": 6,
   "id": "8aaab23a-8759-47a9-9950-b129603012ed",
   "metadata": {},
   "outputs": [
    {
     "data": {
      "text/html": [
       "<div>\n",
       "<style scoped>\n",
       "    .dataframe tbody tr th:only-of-type {\n",
       "        vertical-align: middle;\n",
       "    }\n",
       "\n",
       "    .dataframe tbody tr th {\n",
       "        vertical-align: top;\n",
       "    }\n",
       "\n",
       "    .dataframe thead th {\n",
       "        text-align: right;\n",
       "    }\n",
       "</style>\n",
       "<table border=\"1\" class=\"dataframe\">\n",
       "  <thead>\n",
       "    <tr style=\"text-align: right;\">\n",
       "      <th></th>\n",
       "      <th>user_id</th>\n",
       "      <th>First Name</th>\n",
       "      <th>Surnam</th>\n",
       "      <th>Gender</th>\n",
       "      <th>STATE</th>\n",
       "      <th>Age</th>\n",
       "      <th>date_joined</th>\n",
       "      <th>n_dependants</th>\n",
       "      <th>fam_status</th>\n",
       "      <th>income</th>\n",
       "    </tr>\n",
       "  </thead>\n",
       "  <tbody>\n",
       "    <tr>\n",
       "      <th>0</th>\n",
       "      <td>26711</td>\n",
       "      <td>Deborah</td>\n",
       "      <td>Esquivel</td>\n",
       "      <td>Female</td>\n",
       "      <td>Missouri</td>\n",
       "      <td>48</td>\n",
       "      <td>1/1/2017</td>\n",
       "      <td>3</td>\n",
       "      <td>married</td>\n",
       "      <td>165665</td>\n",
       "    </tr>\n",
       "    <tr>\n",
       "      <th>1</th>\n",
       "      <td>33890</td>\n",
       "      <td>Patricia</td>\n",
       "      <td>Hart</td>\n",
       "      <td>Female</td>\n",
       "      <td>New Mexico</td>\n",
       "      <td>36</td>\n",
       "      <td>1/1/2017</td>\n",
       "      <td>0</td>\n",
       "      <td>single</td>\n",
       "      <td>59285</td>\n",
       "    </tr>\n",
       "    <tr>\n",
       "      <th>2</th>\n",
       "      <td>65803</td>\n",
       "      <td>Kenneth</td>\n",
       "      <td>Farley</td>\n",
       "      <td>Male</td>\n",
       "      <td>Idaho</td>\n",
       "      <td>35</td>\n",
       "      <td>1/1/2017</td>\n",
       "      <td>2</td>\n",
       "      <td>married</td>\n",
       "      <td>99568</td>\n",
       "    </tr>\n",
       "    <tr>\n",
       "      <th>3</th>\n",
       "      <td>125935</td>\n",
       "      <td>Michelle</td>\n",
       "      <td>Hicks</td>\n",
       "      <td>Female</td>\n",
       "      <td>Iowa</td>\n",
       "      <td>40</td>\n",
       "      <td>1/1/2017</td>\n",
       "      <td>0</td>\n",
       "      <td>single</td>\n",
       "      <td>42049</td>\n",
       "    </tr>\n",
       "    <tr>\n",
       "      <th>4</th>\n",
       "      <td>130797</td>\n",
       "      <td>Ann</td>\n",
       "      <td>Gilmore</td>\n",
       "      <td>Female</td>\n",
       "      <td>Maryland</td>\n",
       "      <td>26</td>\n",
       "      <td>1/1/2017</td>\n",
       "      <td>1</td>\n",
       "      <td>married</td>\n",
       "      <td>40374</td>\n",
       "    </tr>\n",
       "  </tbody>\n",
       "</table>\n",
       "</div>"
      ],
      "text/plain": [
       "   user_id First Name    Surnam  Gender       STATE  Age date_joined  \\\n",
       "0    26711    Deborah  Esquivel  Female    Missouri   48    1/1/2017   \n",
       "1    33890   Patricia      Hart  Female  New Mexico   36    1/1/2017   \n",
       "2    65803    Kenneth    Farley    Male       Idaho   35    1/1/2017   \n",
       "3   125935   Michelle     Hicks  Female        Iowa   40    1/1/2017   \n",
       "4   130797        Ann   Gilmore  Female    Maryland   26    1/1/2017   \n",
       "\n",
       "   n_dependants fam_status  income  \n",
       "0             3    married  165665  \n",
       "1             0     single   59285  \n",
       "2             2    married   99568  \n",
       "3             0     single   42049  \n",
       "4             1    married   40374  "
      ]
     },
     "execution_count": 6,
     "metadata": {},
     "output_type": "execute_result"
    }
   ],
   "source": [
    "# Observe dataframe\n",
    "cu.head()"
   ]
  },
  {
   "cell_type": "code",
   "execution_count": 7,
   "id": "bed62f73-4100-43ea-b712-3020dcb3938a",
   "metadata": {},
   "outputs": [
    {
     "data": {
      "text/plain": [
       "(206209, 10)"
      ]
     },
     "execution_count": 7,
     "metadata": {},
     "output_type": "execute_result"
    }
   ],
   "source": [
    "# Check shape of cu\n",
    "cu.shape"
   ]
  },
  {
   "cell_type": "markdown",
   "id": "b3cbc8e4-80d8-4bad-b420-e1f0385aa599",
   "metadata": {},
   "source": [
    "First and Surnam columns are not relevant to the analysis. All other columns are."
   ]
  },
  {
   "cell_type": "code",
   "execution_count": 12,
   "id": "e05d4baa-667c-4d3f-bac4-9825652f76b6",
   "metadata": {},
   "outputs": [],
   "source": [
    "# Drop columns 'First Name' and 'Surnam'\n",
    "cu_wrangled = cu.drop(columns=['First Name', 'Surnam'])"
   ]
  },
  {
   "cell_type": "code",
   "execution_count": 18,
   "id": "0cc10dbb-1ff0-4cf3-9073-a11baaeb148d",
   "metadata": {},
   "outputs": [
    {
     "data": {
      "text/html": [
       "<div>\n",
       "<style scoped>\n",
       "    .dataframe tbody tr th:only-of-type {\n",
       "        vertical-align: middle;\n",
       "    }\n",
       "\n",
       "    .dataframe tbody tr th {\n",
       "        vertical-align: top;\n",
       "    }\n",
       "\n",
       "    .dataframe thead th {\n",
       "        text-align: right;\n",
       "    }\n",
       "</style>\n",
       "<table border=\"1\" class=\"dataframe\">\n",
       "  <thead>\n",
       "    <tr style=\"text-align: right;\">\n",
       "      <th></th>\n",
       "      <th>user_id</th>\n",
       "      <th>Gender</th>\n",
       "      <th>STATE</th>\n",
       "      <th>Age</th>\n",
       "      <th>date_joined</th>\n",
       "      <th>n_dependants</th>\n",
       "      <th>fam_status</th>\n",
       "      <th>income</th>\n",
       "    </tr>\n",
       "  </thead>\n",
       "  <tbody>\n",
       "    <tr>\n",
       "      <th>0</th>\n",
       "      <td>26711</td>\n",
       "      <td>Female</td>\n",
       "      <td>Missouri</td>\n",
       "      <td>48</td>\n",
       "      <td>1/1/2017</td>\n",
       "      <td>3</td>\n",
       "      <td>married</td>\n",
       "      <td>165665</td>\n",
       "    </tr>\n",
       "    <tr>\n",
       "      <th>1</th>\n",
       "      <td>33890</td>\n",
       "      <td>Female</td>\n",
       "      <td>New Mexico</td>\n",
       "      <td>36</td>\n",
       "      <td>1/1/2017</td>\n",
       "      <td>0</td>\n",
       "      <td>single</td>\n",
       "      <td>59285</td>\n",
       "    </tr>\n",
       "    <tr>\n",
       "      <th>2</th>\n",
       "      <td>65803</td>\n",
       "      <td>Male</td>\n",
       "      <td>Idaho</td>\n",
       "      <td>35</td>\n",
       "      <td>1/1/2017</td>\n",
       "      <td>2</td>\n",
       "      <td>married</td>\n",
       "      <td>99568</td>\n",
       "    </tr>\n",
       "    <tr>\n",
       "      <th>3</th>\n",
       "      <td>125935</td>\n",
       "      <td>Female</td>\n",
       "      <td>Iowa</td>\n",
       "      <td>40</td>\n",
       "      <td>1/1/2017</td>\n",
       "      <td>0</td>\n",
       "      <td>single</td>\n",
       "      <td>42049</td>\n",
       "    </tr>\n",
       "    <tr>\n",
       "      <th>4</th>\n",
       "      <td>130797</td>\n",
       "      <td>Female</td>\n",
       "      <td>Maryland</td>\n",
       "      <td>26</td>\n",
       "      <td>1/1/2017</td>\n",
       "      <td>1</td>\n",
       "      <td>married</td>\n",
       "      <td>40374</td>\n",
       "    </tr>\n",
       "  </tbody>\n",
       "</table>\n",
       "</div>"
      ],
      "text/plain": [
       "   user_id  Gender       STATE  Age date_joined  n_dependants fam_status  \\\n",
       "0    26711  Female    Missouri   48    1/1/2017             3    married   \n",
       "1    33890  Female  New Mexico   36    1/1/2017             0     single   \n",
       "2    65803    Male       Idaho   35    1/1/2017             2    married   \n",
       "3   125935  Female        Iowa   40    1/1/2017             0     single   \n",
       "4   130797  Female    Maryland   26    1/1/2017             1    married   \n",
       "\n",
       "   income  \n",
       "0  165665  \n",
       "1   59285  \n",
       "2   99568  \n",
       "3   42049  \n",
       "4   40374  "
      ]
     },
     "execution_count": 18,
     "metadata": {},
     "output_type": "execute_result"
    }
   ],
   "source": [
    "# Confirm unnecessary columns were dropped\n",
    "cu_wrangled.head()"
   ]
  },
  {
   "cell_type": "code",
   "execution_count": 20,
   "id": "277ed397-009f-4b98-88ac-449cecbfb2f0",
   "metadata": {},
   "outputs": [
    {
     "data": {
      "text/plain": [
       "(206209, 8)"
      ]
     },
     "execution_count": 20,
     "metadata": {},
     "output_type": "execute_result"
    }
   ],
   "source": [
    "# Determine dimensions of the dataframe\n",
    "cu_wrangled.shape"
   ]
  },
  {
   "cell_type": "code",
   "execution_count": 22,
   "id": "a920d40c-1203-44eb-b228-9f14ca2a3db2",
   "metadata": {},
   "outputs": [
    {
     "data": {
      "text/plain": [
       "user_id          int64\n",
       "Gender          object\n",
       "STATE           object\n",
       "Age              int64\n",
       "date_joined     object\n",
       "n_dependants     int64\n",
       "fam_status      object\n",
       "income           int64\n",
       "dtype: object"
      ]
     },
     "execution_count": 22,
     "metadata": {},
     "output_type": "execute_result"
    }
   ],
   "source": [
    "# View data types for each variable\n",
    "cu_wrangled.dtypes"
   ]
  },
  {
   "cell_type": "code",
   "execution_count": 24,
   "id": "9962ed77-f2c7-4524-b234-bd63d9724c10",
   "metadata": {},
   "outputs": [],
   "source": [
    "# Update date_joined datatype to pandas datetime64[ns] data type\n",
    "cu_wrangled['date_joined'] = cu_wrangled['date_joined'].astype('datetime64[ns]')"
   ]
  },
  {
   "cell_type": "code",
   "execution_count": 26,
   "id": "5103f864-95e1-4acc-a5b9-4d1249a537f9",
   "metadata": {},
   "outputs": [
    {
     "data": {
      "text/plain": [
       "user_id                  int64\n",
       "Gender                  object\n",
       "STATE                   object\n",
       "Age                      int64\n",
       "date_joined     datetime64[ns]\n",
       "n_dependants             int64\n",
       "fam_status              object\n",
       "income                   int64\n",
       "dtype: object"
      ]
     },
     "execution_count": 26,
     "metadata": {},
     "output_type": "execute_result"
    }
   ],
   "source": [
    "# Confirm data type change was successful\n",
    "cu_wrangled.dtypes"
   ]
  },
  {
   "cell_type": "code",
   "execution_count": 28,
   "id": "ecb9460e-83dd-4b20-9c63-436aa9a0db4c",
   "metadata": {},
   "outputs": [],
   "source": [
    "# Rename 'n_dependants' column to 'number_of_dependents'\n",
    "cu_wrangled.rename(columns={'n_dependants' : 'number_of_dependents'}, inplace=True)"
   ]
  },
  {
   "cell_type": "code",
   "execution_count": 30,
   "id": "9a42e8e6-16a2-4bc1-8d94-782ed82b86c8",
   "metadata": {},
   "outputs": [],
   "source": [
    "# Rename 'fam_status' column to 'family_status'\n",
    "cu_wrangled.rename(columns={'fam_status' : 'family_status'}, inplace=True)"
   ]
  },
  {
   "cell_type": "code",
   "execution_count": 32,
   "id": "14911648-6d10-4a78-8c4d-43bc0c273f5d",
   "metadata": {},
   "outputs": [
    {
     "data": {
      "text/html": [
       "<div>\n",
       "<style scoped>\n",
       "    .dataframe tbody tr th:only-of-type {\n",
       "        vertical-align: middle;\n",
       "    }\n",
       "\n",
       "    .dataframe tbody tr th {\n",
       "        vertical-align: top;\n",
       "    }\n",
       "\n",
       "    .dataframe thead th {\n",
       "        text-align: right;\n",
       "    }\n",
       "</style>\n",
       "<table border=\"1\" class=\"dataframe\">\n",
       "  <thead>\n",
       "    <tr style=\"text-align: right;\">\n",
       "      <th></th>\n",
       "      <th>user_id</th>\n",
       "      <th>Gender</th>\n",
       "      <th>STATE</th>\n",
       "      <th>Age</th>\n",
       "      <th>date_joined</th>\n",
       "      <th>number_of_dependents</th>\n",
       "      <th>family_status</th>\n",
       "      <th>income</th>\n",
       "    </tr>\n",
       "  </thead>\n",
       "  <tbody>\n",
       "    <tr>\n",
       "      <th>0</th>\n",
       "      <td>26711</td>\n",
       "      <td>Female</td>\n",
       "      <td>Missouri</td>\n",
       "      <td>48</td>\n",
       "      <td>2017-01-01</td>\n",
       "      <td>3</td>\n",
       "      <td>married</td>\n",
       "      <td>165665</td>\n",
       "    </tr>\n",
       "    <tr>\n",
       "      <th>1</th>\n",
       "      <td>33890</td>\n",
       "      <td>Female</td>\n",
       "      <td>New Mexico</td>\n",
       "      <td>36</td>\n",
       "      <td>2017-01-01</td>\n",
       "      <td>0</td>\n",
       "      <td>single</td>\n",
       "      <td>59285</td>\n",
       "    </tr>\n",
       "    <tr>\n",
       "      <th>2</th>\n",
       "      <td>65803</td>\n",
       "      <td>Male</td>\n",
       "      <td>Idaho</td>\n",
       "      <td>35</td>\n",
       "      <td>2017-01-01</td>\n",
       "      <td>2</td>\n",
       "      <td>married</td>\n",
       "      <td>99568</td>\n",
       "    </tr>\n",
       "    <tr>\n",
       "      <th>3</th>\n",
       "      <td>125935</td>\n",
       "      <td>Female</td>\n",
       "      <td>Iowa</td>\n",
       "      <td>40</td>\n",
       "      <td>2017-01-01</td>\n",
       "      <td>0</td>\n",
       "      <td>single</td>\n",
       "      <td>42049</td>\n",
       "    </tr>\n",
       "    <tr>\n",
       "      <th>4</th>\n",
       "      <td>130797</td>\n",
       "      <td>Female</td>\n",
       "      <td>Maryland</td>\n",
       "      <td>26</td>\n",
       "      <td>2017-01-01</td>\n",
       "      <td>1</td>\n",
       "      <td>married</td>\n",
       "      <td>40374</td>\n",
       "    </tr>\n",
       "  </tbody>\n",
       "</table>\n",
       "</div>"
      ],
      "text/plain": [
       "   user_id  Gender       STATE  Age date_joined  number_of_dependents  \\\n",
       "0    26711  Female    Missouri   48  2017-01-01                     3   \n",
       "1    33890  Female  New Mexico   36  2017-01-01                     0   \n",
       "2    65803    Male       Idaho   35  2017-01-01                     2   \n",
       "3   125935  Female        Iowa   40  2017-01-01                     0   \n",
       "4   130797  Female    Maryland   26  2017-01-01                     1   \n",
       "\n",
       "  family_status  income  \n",
       "0       married  165665  \n",
       "1        single   59285  \n",
       "2       married   99568  \n",
       "3        single   42049  \n",
       "4       married   40374  "
      ]
     },
     "execution_count": 32,
     "metadata": {},
     "output_type": "execute_result"
    }
   ],
   "source": [
    "# Confirm column names were successfully updated\n",
    "cu_wrangled.head()"
   ]
  },
  {
   "cell_type": "code",
   "execution_count": 6,
   "id": "9ea255a3-89d2-476b-9dd2-bf8c1a112971",
   "metadata": {},
   "outputs": [],
   "source": [
    "# Export wrangled customer data"
   ]
  },
  {
   "cell_type": "code",
   "execution_count": 34,
   "id": "1faa5736-9223-49ef-afa5-cc60bc9f5386",
   "metadata": {},
   "outputs": [],
   "source": [
    "cu_wrangled.to_csv(os.path.join(path, '02 Data', 'Prepared Data', 'customers_wrangled.csv'))"
   ]
  },
  {
   "cell_type": "markdown",
   "id": "f28900b0-c7be-41fb-8d16-a180726fe965",
   "metadata": {},
   "source": [
    "## 4. Data quality and consistency checks on customer data"
   ]
  },
  {
   "cell_type": "markdown",
   "id": "393b61b3-3ea5-4d5a-a570-7ed92fb5ea3e",
   "metadata": {},
   "source": [
    "### 4.1 Check for mixed-type data"
   ]
  },
  {
   "cell_type": "code",
   "execution_count": 36,
   "id": "21eea10d-6f3c-4762-84f9-388a6debde3d",
   "metadata": {},
   "outputs": [
    {
     "name": "stdout",
     "output_type": "stream",
     "text": [
      "There is no mixed-type data\n",
      "There is no mixed-type data\n",
      "There is no mixed-type data\n",
      "There is no mixed-type data\n",
      "There is no mixed-type data\n",
      "There is no mixed-type data\n",
      "There is no mixed-type data\n",
      "There is no mixed-type data\n"
     ]
    }
   ],
   "source": [
    "# Check for mixed types on cu_wrangled\n",
    "\n",
    "for col in cu_wrangled.columns.tolist():\n",
    "    weird = (cu_wrangled[[col]].map(type) != cu_wrangled[[col]].iloc[0].apply(type)).any(axis = 1)\n",
    "    if len(cu_wrangled[weird]) > 0:\n",
    "        print (col)\n",
    "    else: \n",
    "        print('There is no mixed-type data')"
   ]
  },
  {
   "cell_type": "markdown",
   "id": "858875f1-22bc-46f5-97e7-f292c726a034",
   "metadata": {},
   "source": [
    "There is no mixed-type data in the cu_wrangled dataframe. "
   ]
  },
  {
   "cell_type": "markdown",
   "id": "eb45ab2b-9d12-4b89-8d70-5f84a1f13c11",
   "metadata": {},
   "source": [
    "###  4.2 Check for missing values"
   ]
  },
  {
   "cell_type": "code",
   "execution_count": 38,
   "id": "28c546a2-9569-4dde-9dcf-9a95645bc0be",
   "metadata": {},
   "outputs": [
    {
     "data": {
      "text/plain": [
       "user_id                 0\n",
       "Gender                  0\n",
       "STATE                   0\n",
       "Age                     0\n",
       "date_joined             0\n",
       "number_of_dependents    0\n",
       "family_status           0\n",
       "income                  0\n",
       "dtype: int64"
      ]
     },
     "execution_count": 38,
     "metadata": {},
     "output_type": "execute_result"
    }
   ],
   "source": [
    "# Check for missing values in cu_wrangled\n",
    "\n",
    "cu_wrangled.isnull().sum()"
   ]
  },
  {
   "cell_type": "markdown",
   "id": "99ff661d-41d7-471c-9bdd-6970d887475d",
   "metadata": {},
   "source": [
    "There are no missing values in the cu_wrangled dataframe. "
   ]
  },
  {
   "cell_type": "markdown",
   "id": "d0b70427-4a14-41ab-99f8-bdf30b33b86f",
   "metadata": {},
   "source": [
    "### 4.3 Check for duplicates"
   ]
  },
  {
   "cell_type": "code",
   "execution_count": 41,
   "id": "ecef0fb4-46f0-44de-8ed3-95f7fe050f91",
   "metadata": {},
   "outputs": [],
   "source": [
    "# Check for duplicate rows and assign to subset cu_wrangled_dups\n",
    "cu_wrangled_dups = cu_wrangled[cu_wrangled.duplicated()]"
   ]
  },
  {
   "cell_type": "code",
   "execution_count": 43,
   "id": "b547335e-3e30-47e3-b76c-6a6838ffd619",
   "metadata": {},
   "outputs": [
    {
     "data": {
      "text/html": [
       "<div>\n",
       "<style scoped>\n",
       "    .dataframe tbody tr th:only-of-type {\n",
       "        vertical-align: middle;\n",
       "    }\n",
       "\n",
       "    .dataframe tbody tr th {\n",
       "        vertical-align: top;\n",
       "    }\n",
       "\n",
       "    .dataframe thead th {\n",
       "        text-align: right;\n",
       "    }\n",
       "</style>\n",
       "<table border=\"1\" class=\"dataframe\">\n",
       "  <thead>\n",
       "    <tr style=\"text-align: right;\">\n",
       "      <th></th>\n",
       "      <th>user_id</th>\n",
       "      <th>Gender</th>\n",
       "      <th>STATE</th>\n",
       "      <th>Age</th>\n",
       "      <th>date_joined</th>\n",
       "      <th>number_of_dependents</th>\n",
       "      <th>family_status</th>\n",
       "      <th>income</th>\n",
       "    </tr>\n",
       "  </thead>\n",
       "  <tbody>\n",
       "  </tbody>\n",
       "</table>\n",
       "</div>"
      ],
      "text/plain": [
       "Empty DataFrame\n",
       "Columns: [user_id, Gender, STATE, Age, date_joined, number_of_dependents, family_status, income]\n",
       "Index: []"
      ]
     },
     "execution_count": 43,
     "metadata": {},
     "output_type": "execute_result"
    }
   ],
   "source": [
    "# If subset returns empty, that means there are no duplicates\n",
    "cu_wrangled_dups"
   ]
  },
  {
   "cell_type": "markdown",
   "id": "97a8f165-a687-4085-91fb-7830f3be5949",
   "metadata": {},
   "source": [
    "There are no duplicates in the cu_wrangled dataframe. "
   ]
  },
  {
   "cell_type": "code",
   "execution_count": 45,
   "id": "ca9ffcb9-4379-4c59-b02e-9faddfb73cd6",
   "metadata": {},
   "outputs": [
    {
     "data": {
      "text/plain": [
       "(206209, 8)"
      ]
     },
     "execution_count": 45,
     "metadata": {},
     "output_type": "execute_result"
    }
   ],
   "source": [
    "# Confirm dimensions of cu_wrangled dataframe. No changes were made so we expect the dimensions to be the same. \n",
    "cu_wrangled.shape"
   ]
  },
  {
   "cell_type": "markdown",
   "id": "03b24ede-fd0b-4c4c-ba7a-3802df76de2d",
   "metadata": {},
   "source": [
    "Data wrangling and cleaning is complete. "
   ]
  },
  {
   "cell_type": "code",
   "execution_count": 13,
   "id": "f17d2ce6-7e1a-4e1a-80dc-8848afe7f758",
   "metadata": {},
   "outputs": [],
   "source": [
    "# Export cu_wrangled dataframe with consistency checks complete"
   ]
  },
  {
   "cell_type": "code",
   "execution_count": 47,
   "id": "062e7c19-174c-436d-8683-e784de4bd55c",
   "metadata": {},
   "outputs": [],
   "source": [
    "cu_wrangled.to_csv(os.path.join(path, '02 Data', 'Prepared Data', 'customers_checked.csv'))"
   ]
  },
  {
   "cell_type": "markdown",
   "id": "4b361f27-cec9-4978-a3cb-dc94ccc6ac42",
   "metadata": {},
   "source": [
    "## 5. Combine customer data with the ords_products_merged data"
   ]
  },
  {
   "cell_type": "markdown",
   "id": "7ea1b776-9e99-418b-98cf-d70740bbf806",
   "metadata": {
    "jp-MarkdownHeadingCollapsed": true
   },
   "source": [
    "### 5.1 Before merging, ensure each dataframe is prepared"
   ]
  },
  {
   "cell_type": "code",
   "execution_count": 49,
   "id": "d5d56d0a-e386-4066-a18d-2d10efba6701",
   "metadata": {},
   "outputs": [
    {
     "data": {
      "text/plain": [
       "order_id                    int64\n",
       "user_id                     int64\n",
       "order_number                int64\n",
       "order_dow                   int64\n",
       "order_hour_of_day           int64\n",
       "days_since_prior_order    float64\n",
       "first_order                  bool\n",
       "product_id                  int64\n",
       "add_to_cart_order           int64\n",
       "reordered                   int64\n",
       "product_name               object\n",
       "aisle_id                    int64\n",
       "department_id               int64\n",
       "prices                    float64\n",
       "price_label                object\n",
       "busiest_day                object\n",
       "busiest_days               object\n",
       "busiest_period_of_day      object\n",
       "max_order                   int64\n",
       "loyalty_flag               object\n",
       "avg_purchase_price        float64\n",
       "spending_flag              object\n",
       "median_days               float64\n",
       "order_frequency_flag       object\n",
       "dtype: object"
      ]
     },
     "execution_count": 49,
     "metadata": {},
     "output_type": "execute_result"
    }
   ],
   "source": [
    "ords_prods_merge.dtypes"
   ]
  },
  {
   "cell_type": "code",
   "execution_count": 51,
   "id": "b961a2bd-a5a8-4d72-9ec5-e83df2d05d49",
   "metadata": {},
   "outputs": [
    {
     "data": {
      "text/plain": [
       "user_id                          int64\n",
       "Gender                          object\n",
       "STATE                           object\n",
       "Age                              int64\n",
       "date_joined             datetime64[ns]\n",
       "number_of_dependents             int64\n",
       "family_status                   object\n",
       "income                           int64\n",
       "dtype: object"
      ]
     },
     "execution_count": 51,
     "metadata": {},
     "output_type": "execute_result"
    }
   ],
   "source": [
    "cu_wrangled.dtypes"
   ]
  },
  {
   "cell_type": "markdown",
   "id": "f3639ab1-5759-48e9-9c4e-e5028f2b53be",
   "metadata": {},
   "source": [
    "Common key: 'user_id'"
   ]
  },
  {
   "cell_type": "code",
   "execution_count": 53,
   "id": "18290619-206a-4846-9e02-98b03f1b0656",
   "metadata": {},
   "outputs": [
    {
     "data": {
      "text/html": [
       "<div>\n",
       "<style scoped>\n",
       "    .dataframe tbody tr th:only-of-type {\n",
       "        vertical-align: middle;\n",
       "    }\n",
       "\n",
       "    .dataframe tbody tr th {\n",
       "        vertical-align: top;\n",
       "    }\n",
       "\n",
       "    .dataframe thead th {\n",
       "        text-align: right;\n",
       "    }\n",
       "</style>\n",
       "<table border=\"1\" class=\"dataframe\">\n",
       "  <thead>\n",
       "    <tr style=\"text-align: right;\">\n",
       "      <th></th>\n",
       "      <th>user_id</th>\n",
       "      <th>Age</th>\n",
       "      <th>date_joined</th>\n",
       "      <th>number_of_dependents</th>\n",
       "      <th>income</th>\n",
       "    </tr>\n",
       "  </thead>\n",
       "  <tbody>\n",
       "    <tr>\n",
       "      <th>count</th>\n",
       "      <td>206209.000000</td>\n",
       "      <td>206209.000000</td>\n",
       "      <td>206209</td>\n",
       "      <td>206209.000000</td>\n",
       "      <td>206209.000000</td>\n",
       "    </tr>\n",
       "    <tr>\n",
       "      <th>mean</th>\n",
       "      <td>103105.000000</td>\n",
       "      <td>49.501646</td>\n",
       "      <td>2018-08-17 03:06:30.029532928</td>\n",
       "      <td>1.499823</td>\n",
       "      <td>94632.852548</td>\n",
       "    </tr>\n",
       "    <tr>\n",
       "      <th>min</th>\n",
       "      <td>1.000000</td>\n",
       "      <td>18.000000</td>\n",
       "      <td>2017-01-01 00:00:00</td>\n",
       "      <td>0.000000</td>\n",
       "      <td>25903.000000</td>\n",
       "    </tr>\n",
       "    <tr>\n",
       "      <th>25%</th>\n",
       "      <td>51553.000000</td>\n",
       "      <td>33.000000</td>\n",
       "      <td>2017-10-23 00:00:00</td>\n",
       "      <td>0.000000</td>\n",
       "      <td>59874.000000</td>\n",
       "    </tr>\n",
       "    <tr>\n",
       "      <th>50%</th>\n",
       "      <td>103105.000000</td>\n",
       "      <td>49.000000</td>\n",
       "      <td>2018-08-16 00:00:00</td>\n",
       "      <td>1.000000</td>\n",
       "      <td>93547.000000</td>\n",
       "    </tr>\n",
       "    <tr>\n",
       "      <th>75%</th>\n",
       "      <td>154657.000000</td>\n",
       "      <td>66.000000</td>\n",
       "      <td>2019-06-10 00:00:00</td>\n",
       "      <td>3.000000</td>\n",
       "      <td>124244.000000</td>\n",
       "    </tr>\n",
       "    <tr>\n",
       "      <th>max</th>\n",
       "      <td>206209.000000</td>\n",
       "      <td>81.000000</td>\n",
       "      <td>2020-04-01 00:00:00</td>\n",
       "      <td>3.000000</td>\n",
       "      <td>593901.000000</td>\n",
       "    </tr>\n",
       "    <tr>\n",
       "      <th>std</th>\n",
       "      <td>59527.555167</td>\n",
       "      <td>18.480962</td>\n",
       "      <td>NaN</td>\n",
       "      <td>1.118433</td>\n",
       "      <td>42473.786988</td>\n",
       "    </tr>\n",
       "  </tbody>\n",
       "</table>\n",
       "</div>"
      ],
      "text/plain": [
       "             user_id            Age                    date_joined  \\\n",
       "count  206209.000000  206209.000000                         206209   \n",
       "mean   103105.000000      49.501646  2018-08-17 03:06:30.029532928   \n",
       "min         1.000000      18.000000            2017-01-01 00:00:00   \n",
       "25%     51553.000000      33.000000            2017-10-23 00:00:00   \n",
       "50%    103105.000000      49.000000            2018-08-16 00:00:00   \n",
       "75%    154657.000000      66.000000            2019-06-10 00:00:00   \n",
       "max    206209.000000      81.000000            2020-04-01 00:00:00   \n",
       "std     59527.555167      18.480962                            NaN   \n",
       "\n",
       "       number_of_dependents         income  \n",
       "count         206209.000000  206209.000000  \n",
       "mean               1.499823   94632.852548  \n",
       "min                0.000000   25903.000000  \n",
       "25%                0.000000   59874.000000  \n",
       "50%                1.000000   93547.000000  \n",
       "75%                3.000000  124244.000000  \n",
       "max                3.000000  593901.000000  \n",
       "std                1.118433   42473.786988  "
      ]
     },
     "execution_count": 53,
     "metadata": {},
     "output_type": "execute_result"
    }
   ],
   "source": [
    "cu_wrangled.describe()"
   ]
  },
  {
   "cell_type": "markdown",
   "id": "23845612-6193-42c9-96af-9849ed3be0de",
   "metadata": {},
   "source": [
    "Note: the max income of $593,901 is very high. Monitor this. "
   ]
  },
  {
   "cell_type": "markdown",
   "id": "4b1cb665-6541-49fb-91d4-0273b91631fb",
   "metadata": {},
   "source": [
    "Before merging, update column name 'order_dow' to 'order_day_of_week' and drop previous merge_flag column since we'll be creating a new one for this merge. "
   ]
  },
  {
   "cell_type": "code",
   "execution_count": 55,
   "id": "c0a1fba4-e2d4-4073-a262-58e11bcaa980",
   "metadata": {},
   "outputs": [],
   "source": [
    "# Rename column name 'order_dow' to 'order_day_of_week'\n",
    "ords_prods_merge.rename(columns={'order_dow' : 'order_day_of_week'}, inplace=True)"
   ]
  },
  {
   "cell_type": "code",
   "execution_count": 57,
   "id": "11b54367-231d-47c2-b563-9457ef0d33f2",
   "metadata": {},
   "outputs": [
    {
     "data": {
      "text/plain": [
       "Index(['order_id', 'user_id', 'order_number', 'order_day_of_week',\n",
       "       'order_hour_of_day', 'days_since_prior_order', 'first_order',\n",
       "       'product_id', 'add_to_cart_order', 'reordered', 'product_name',\n",
       "       'aisle_id', 'department_id', 'prices', 'price_label', 'busiest_day',\n",
       "       'busiest_days', 'busiest_period_of_day', 'max_order', 'loyalty_flag',\n",
       "       'avg_purchase_price', 'spending_flag', 'median_days',\n",
       "       'order_frequency_flag'],\n",
       "      dtype='object')"
      ]
     },
     "execution_count": 57,
     "metadata": {},
     "output_type": "execute_result"
    }
   ],
   "source": [
    "# Confirm column name change was successful. \n",
    "ords_prods_merge.columns"
   ]
  },
  {
   "cell_type": "markdown",
   "id": "8ed466c1-7a7a-42cc-b714-c52541d2f533",
   "metadata": {
    "jp-MarkdownHeadingCollapsed": true
   },
   "source": [
    "### 5.2 Merge ords_products_merged data with customer data"
   ]
  },
  {
   "cell_type": "code",
   "execution_count": 67,
   "id": "4def8b5e-da8a-4a71-805e-5def26a28f47",
   "metadata": {},
   "outputs": [],
   "source": [
    "# Merge ords_prods_merge with cu_wrangled using an inner join on the common key 'user_id' and add a merge flag\n",
    "\n",
    "orders_products_all = ords_prods_merge.merge(cu_wrangled, on = 'user_id', indicator = True)"
   ]
  },
  {
   "cell_type": "code",
   "execution_count": 68,
   "id": "3a4f1849-4a27-4d6b-a6da-ee9fb4c57727",
   "metadata": {},
   "outputs": [
    {
     "data": {
      "text/html": [
       "<div>\n",
       "<style scoped>\n",
       "    .dataframe tbody tr th:only-of-type {\n",
       "        vertical-align: middle;\n",
       "    }\n",
       "\n",
       "    .dataframe tbody tr th {\n",
       "        vertical-align: top;\n",
       "    }\n",
       "\n",
       "    .dataframe thead th {\n",
       "        text-align: right;\n",
       "    }\n",
       "</style>\n",
       "<table border=\"1\" class=\"dataframe\">\n",
       "  <thead>\n",
       "    <tr style=\"text-align: right;\">\n",
       "      <th></th>\n",
       "      <th>order_id</th>\n",
       "      <th>user_id</th>\n",
       "      <th>order_number</th>\n",
       "      <th>order_day_of_week</th>\n",
       "      <th>order_hour_of_day</th>\n",
       "      <th>days_since_prior_order</th>\n",
       "      <th>first_order</th>\n",
       "      <th>product_id</th>\n",
       "      <th>add_to_cart_order</th>\n",
       "      <th>reordered</th>\n",
       "      <th>...</th>\n",
       "      <th>median_days</th>\n",
       "      <th>order_frequency_flag</th>\n",
       "      <th>Gender</th>\n",
       "      <th>STATE</th>\n",
       "      <th>Age</th>\n",
       "      <th>date_joined</th>\n",
       "      <th>number_of_dependents</th>\n",
       "      <th>family_status</th>\n",
       "      <th>income</th>\n",
       "      <th>_merge</th>\n",
       "    </tr>\n",
       "  </thead>\n",
       "  <tbody>\n",
       "    <tr>\n",
       "      <th>0</th>\n",
       "      <td>2539329</td>\n",
       "      <td>1</td>\n",
       "      <td>1</td>\n",
       "      <td>2</td>\n",
       "      <td>8</td>\n",
       "      <td>NaN</td>\n",
       "      <td>True</td>\n",
       "      <td>196</td>\n",
       "      <td>1</td>\n",
       "      <td>0</td>\n",
       "      <td>...</td>\n",
       "      <td>20.5</td>\n",
       "      <td>Non-frequent customer</td>\n",
       "      <td>Female</td>\n",
       "      <td>Alabama</td>\n",
       "      <td>31</td>\n",
       "      <td>2019-02-17</td>\n",
       "      <td>3</td>\n",
       "      <td>married</td>\n",
       "      <td>40423</td>\n",
       "      <td>both</td>\n",
       "    </tr>\n",
       "    <tr>\n",
       "      <th>1</th>\n",
       "      <td>2539329</td>\n",
       "      <td>1</td>\n",
       "      <td>1</td>\n",
       "      <td>2</td>\n",
       "      <td>8</td>\n",
       "      <td>NaN</td>\n",
       "      <td>True</td>\n",
       "      <td>14084</td>\n",
       "      <td>2</td>\n",
       "      <td>0</td>\n",
       "      <td>...</td>\n",
       "      <td>20.5</td>\n",
       "      <td>Non-frequent customer</td>\n",
       "      <td>Female</td>\n",
       "      <td>Alabama</td>\n",
       "      <td>31</td>\n",
       "      <td>2019-02-17</td>\n",
       "      <td>3</td>\n",
       "      <td>married</td>\n",
       "      <td>40423</td>\n",
       "      <td>both</td>\n",
       "    </tr>\n",
       "    <tr>\n",
       "      <th>2</th>\n",
       "      <td>2539329</td>\n",
       "      <td>1</td>\n",
       "      <td>1</td>\n",
       "      <td>2</td>\n",
       "      <td>8</td>\n",
       "      <td>NaN</td>\n",
       "      <td>True</td>\n",
       "      <td>12427</td>\n",
       "      <td>3</td>\n",
       "      <td>0</td>\n",
       "      <td>...</td>\n",
       "      <td>20.5</td>\n",
       "      <td>Non-frequent customer</td>\n",
       "      <td>Female</td>\n",
       "      <td>Alabama</td>\n",
       "      <td>31</td>\n",
       "      <td>2019-02-17</td>\n",
       "      <td>3</td>\n",
       "      <td>married</td>\n",
       "      <td>40423</td>\n",
       "      <td>both</td>\n",
       "    </tr>\n",
       "    <tr>\n",
       "      <th>3</th>\n",
       "      <td>2539329</td>\n",
       "      <td>1</td>\n",
       "      <td>1</td>\n",
       "      <td>2</td>\n",
       "      <td>8</td>\n",
       "      <td>NaN</td>\n",
       "      <td>True</td>\n",
       "      <td>26088</td>\n",
       "      <td>4</td>\n",
       "      <td>0</td>\n",
       "      <td>...</td>\n",
       "      <td>20.5</td>\n",
       "      <td>Non-frequent customer</td>\n",
       "      <td>Female</td>\n",
       "      <td>Alabama</td>\n",
       "      <td>31</td>\n",
       "      <td>2019-02-17</td>\n",
       "      <td>3</td>\n",
       "      <td>married</td>\n",
       "      <td>40423</td>\n",
       "      <td>both</td>\n",
       "    </tr>\n",
       "    <tr>\n",
       "      <th>4</th>\n",
       "      <td>2539329</td>\n",
       "      <td>1</td>\n",
       "      <td>1</td>\n",
       "      <td>2</td>\n",
       "      <td>8</td>\n",
       "      <td>NaN</td>\n",
       "      <td>True</td>\n",
       "      <td>26405</td>\n",
       "      <td>5</td>\n",
       "      <td>0</td>\n",
       "      <td>...</td>\n",
       "      <td>20.5</td>\n",
       "      <td>Non-frequent customer</td>\n",
       "      <td>Female</td>\n",
       "      <td>Alabama</td>\n",
       "      <td>31</td>\n",
       "      <td>2019-02-17</td>\n",
       "      <td>3</td>\n",
       "      <td>married</td>\n",
       "      <td>40423</td>\n",
       "      <td>both</td>\n",
       "    </tr>\n",
       "  </tbody>\n",
       "</table>\n",
       "<p>5 rows × 32 columns</p>\n",
       "</div>"
      ],
      "text/plain": [
       "   order_id  user_id  order_number  order_day_of_week  order_hour_of_day  \\\n",
       "0   2539329        1             1                  2                  8   \n",
       "1   2539329        1             1                  2                  8   \n",
       "2   2539329        1             1                  2                  8   \n",
       "3   2539329        1             1                  2                  8   \n",
       "4   2539329        1             1                  2                  8   \n",
       "\n",
       "   days_since_prior_order  first_order  product_id  add_to_cart_order  \\\n",
       "0                     NaN         True         196                  1   \n",
       "1                     NaN         True       14084                  2   \n",
       "2                     NaN         True       12427                  3   \n",
       "3                     NaN         True       26088                  4   \n",
       "4                     NaN         True       26405                  5   \n",
       "\n",
       "   reordered  ... median_days   order_frequency_flag  Gender    STATE Age  \\\n",
       "0          0  ...        20.5  Non-frequent customer  Female  Alabama  31   \n",
       "1          0  ...        20.5  Non-frequent customer  Female  Alabama  31   \n",
       "2          0  ...        20.5  Non-frequent customer  Female  Alabama  31   \n",
       "3          0  ...        20.5  Non-frequent customer  Female  Alabama  31   \n",
       "4          0  ...        20.5  Non-frequent customer  Female  Alabama  31   \n",
       "\n",
       "  date_joined number_of_dependents family_status  income _merge  \n",
       "0  2019-02-17                    3       married   40423   both  \n",
       "1  2019-02-17                    3       married   40423   both  \n",
       "2  2019-02-17                    3       married   40423   both  \n",
       "3  2019-02-17                    3       married   40423   both  \n",
       "4  2019-02-17                    3       married   40423   both  \n",
       "\n",
       "[5 rows x 32 columns]"
      ]
     },
     "execution_count": 68,
     "metadata": {},
     "output_type": "execute_result"
    }
   ],
   "source": [
    "orders_products_all.head()"
   ]
  },
  {
   "cell_type": "code",
   "execution_count": 69,
   "id": "03b18270-fc83-4326-8826-007dc9a1f66a",
   "metadata": {},
   "outputs": [
    {
     "data": {
      "text/plain": [
       "_merge\n",
       "both          32404859\n",
       "left_only            0\n",
       "right_only           0\n",
       "Name: count, dtype: int64"
      ]
     },
     "execution_count": 69,
     "metadata": {},
     "output_type": "execute_result"
    }
   ],
   "source": [
    "# Check frequency of merge flag\n",
    "orders_products_all['_merge'].value_counts()"
   ]
  },
  {
   "cell_type": "markdown",
   "id": "9e1ba3e0-f1d3-468d-adcd-5dfef07f4554",
   "metadata": {},
   "source": [
    "Data successfully merged."
   ]
  },
  {
   "cell_type": "code",
   "execution_count": 70,
   "id": "16fd2543-17db-4ed1-a8b2-38ff285c3658",
   "metadata": {},
   "outputs": [
    {
     "data": {
      "text/plain": [
       "(32404859, 32)"
      ]
     },
     "execution_count": 70,
     "metadata": {},
     "output_type": "execute_result"
    }
   ],
   "source": [
    "orders_products_all.shape"
   ]
  },
  {
   "cell_type": "markdown",
   "id": "d8eeb2fe-ecc6-444e-b3e3-598c4039c03e",
   "metadata": {},
   "source": [
    "## 6. Export data"
   ]
  },
  {
   "cell_type": "code",
   "execution_count": 75,
   "id": "80f51d7f-a122-4304-a5f3-385346958dbe",
   "metadata": {},
   "outputs": [],
   "source": [
    "orders_products_all.to_pickle(os.path.join(path, '02 Data', 'Prepared Data', 'orders_products_all.pkl'))"
   ]
  },
  {
   "cell_type": "code",
   "execution_count": null,
   "id": "7c65fb51-ed81-409e-9ed9-fe798fe9129c",
   "metadata": {},
   "outputs": [],
   "source": []
  }
 ],
 "metadata": {
  "kernelspec": {
   "display_name": "Python 3 (ipykernel)",
   "language": "python",
   "name": "python3"
  },
  "language_info": {
   "codemirror_mode": {
    "name": "ipython",
    "version": 3
   },
   "file_extension": ".py",
   "mimetype": "text/x-python",
   "name": "python",
   "nbconvert_exporter": "python",
   "pygments_lexer": "ipython3",
   "version": "3.12.4"
  }
 },
 "nbformat": 4,
 "nbformat_minor": 5
}
